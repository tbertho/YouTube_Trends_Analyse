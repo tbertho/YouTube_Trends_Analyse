{
 "cells": [
  {
   "cell_type": "code",
   "execution_count": 9,
   "metadata": {},
   "outputs": [],
   "source": [
    "import pandas as pd\n",
    "import numpy as np\n",
    "import re"
   ]
  },
  {
   "cell_type": "code",
   "execution_count": 2,
   "metadata": {},
   "outputs": [],
   "source": [
    "%store -r data_once"
   ]
  },
  {
   "cell_type": "code",
   "execution_count": 6,
   "metadata": {},
   "outputs": [],
   "source": [
    "#Analyse der Titel -> nochmal nachschauen wie NLP genau funktioniert\n",
    "title_df = data_once.loc[:, (\"video_id\", \"title\")]\n",
    "\n",
    "title_df[\"title_words_list\"]=title_df[\"title\"].str.split(\" \", expand = False)\n",
    "title_df[\"num_title_words\"]=title_df[\"title_words_list\"].str.len()"
   ]
  },
  {
   "cell_type": "code",
   "execution_count": null,
   "metadata": {},
   "outputs": [],
   "source": [
    "mean_title_len = title_df[\"num_title_words\"].mean()\n",
    "mean_title_len"
   ]
  },
  {
   "cell_type": "markdown",
   "metadata": {},
   "source": [
    "Anteil Capitalletters in Titel und dessen Einfluss"
   ]
  },
  {
   "cell_type": "code",
   "execution_count": null,
   "metadata": {},
   "outputs": [],
   "source": []
  },
  {
   "cell_type": "code",
   "execution_count": 25,
   "metadata": {},
   "outputs": [
    {
     "data": {
      "text/html": [
       "<div>\n",
       "<style scoped>\n",
       "    .dataframe tbody tr th:only-of-type {\n",
       "        vertical-align: middle;\n",
       "    }\n",
       "\n",
       "    .dataframe tbody tr th {\n",
       "        vertical-align: top;\n",
       "    }\n",
       "\n",
       "    .dataframe thead th {\n",
       "        text-align: right;\n",
       "    }\n",
       "</style>\n",
       "<table border=\"1\" class=\"dataframe\">\n",
       "  <thead>\n",
       "    <tr style=\"text-align: right;\">\n",
       "      <th></th>\n",
       "      <th>video_id</th>\n",
       "      <th>title</th>\n",
       "      <th>title_words_list</th>\n",
       "      <th>num_title_words</th>\n",
       "    </tr>\n",
       "  </thead>\n",
       "  <tbody>\n",
       "    <tr>\n",
       "      <th>0</th>\n",
       "      <td>--7vNbh4UNA</td>\n",
       "      <td>Responding to ALL The Outrage, Ridiculous H3H3...</td>\n",
       "      <td>[Responding, to, ALL, The, Outrage,, Ridiculou...</td>\n",
       "      <td>11</td>\n",
       "    </tr>\n",
       "    <tr>\n",
       "      <th>1</th>\n",
       "      <td>--I0aj8MUdU</td>\n",
       "      <td>E diela shqiptare - Ka nje mesazh per ty! (04 ...</td>\n",
       "      <td>[E, diela, shqiptare, -, Ka, nje, mesazh, per,...</td>\n",
       "      <td>12</td>\n",
       "    </tr>\n",
       "    <tr>\n",
       "      <th>2</th>\n",
       "      <td>--MtKsH5oBY</td>\n",
       "      <td>صحفي بين سبورت يكشف تفاصيل و كواليس استقالة زي...</td>\n",
       "      <td>[صحفي, بين, سبورت, يكشف, تفاصيل, و, كواليس, اس...</td>\n",
       "      <td>13</td>\n",
       "    </tr>\n",
       "    <tr>\n",
       "      <th>3</th>\n",
       "      <td>--moh3hSPpY</td>\n",
       "      <td>Te vreau langa mine! (02.01.2018) - Editie COM...</td>\n",
       "      <td>[Te, vreau, langa, mine!, (02.01.2018), -, Edi...</td>\n",
       "      <td>8</td>\n",
       "    </tr>\n",
       "    <tr>\n",
       "      <th>4</th>\n",
       "      <td>--rE6D0_jAw</td>\n",
       "      <td>HÖR AUF DAS SCHLECHTE ZU SEHEN!</td>\n",
       "      <td>[HÖR, AUF, DAS, SCHLECHTE, ZU, SEHEN!]</td>\n",
       "      <td>6</td>\n",
       "    </tr>\n",
       "  </tbody>\n",
       "</table>\n",
       "</div>"
      ],
      "text/plain": [
       "      video_id                                              title  \\\n",
       "0  --7vNbh4UNA  Responding to ALL The Outrage, Ridiculous H3H3...   \n",
       "1  --I0aj8MUdU  E diela shqiptare - Ka nje mesazh per ty! (04 ...   \n",
       "2  --MtKsH5oBY  صحفي بين سبورت يكشف تفاصيل و كواليس استقالة زي...   \n",
       "3  --moh3hSPpY  Te vreau langa mine! (02.01.2018) - Editie COM...   \n",
       "4  --rE6D0_jAw                    HÖR AUF DAS SCHLECHTE ZU SEHEN!   \n",
       "\n",
       "                                    title_words_list  num_title_words  \n",
       "0  [Responding, to, ALL, The, Outrage,, Ridiculou...               11  \n",
       "1  [E, diela, shqiptare, -, Ka, nje, mesazh, per,...               12  \n",
       "2  [صحفي, بين, سبورت, يكشف, تفاصيل, و, كواليس, اس...               13  \n",
       "3  [Te, vreau, langa, mine!, (02.01.2018), -, Edi...                8  \n",
       "4             [HÖR, AUF, DAS, SCHLECHTE, ZU, SEHEN!]                6  "
      ]
     },
     "execution_count": 25,
     "metadata": {},
     "output_type": "execute_result"
    }
   ],
   "source": [
    "title_df.head()"
   ]
  },
  {
   "cell_type": "markdown",
   "metadata": {},
   "source": [
    "Anteil Emoji in Titel und dessen Einfluss"
   ]
  },
  {
   "cell_type": "code",
   "execution_count": 60,
   "metadata": {},
   "outputs": [],
   "source": [
    "emoji_pattern = re.compile(\"[\"\n",
    "        u\"\\U0001F600-\\U0001F64F\"  # emoticons\n",
    "        u\"\\U0001F300-\\U0001F5FF\"  # symbols & pictographs\n",
    "        u\"\\U0001F680-\\U0001F6FF\"  # transport & map symbols\n",
    "        u\"\\U0001F1E0-\\U0001F1FF\"  # flags (iOS)\n",
    "                           \"]+\", flags=re.UNICODE)"
   ]
  },
  {
   "cell_type": "code",
   "execution_count": 69,
   "metadata": {},
   "outputs": [
    {
     "ename": "TypeError",
     "evalue": "'in <string>' requires string as left operand, not re.Pattern",
     "output_type": "error",
     "traceback": [
      "\u001b[1;31m---------------------------------------------------------------------------\u001b[0m",
      "\u001b[1;31mTypeError\u001b[0m                                 Traceback (most recent call last)",
      "\u001b[1;32m<ipython-input-69-98506104ace0>\u001b[0m in \u001b[0;36m<module>\u001b[1;34m\u001b[0m\n\u001b[0;32m      1\u001b[0m \u001b[0mtitle_df\u001b[0m\u001b[1;33m\u001b[0m\u001b[1;33m\u001b[0m\u001b[0m\n\u001b[0;32m      2\u001b[0m \u001b[1;32mfor\u001b[0m \u001b[0mi\u001b[0m \u001b[1;32min\u001b[0m \u001b[0mrange\u001b[0m\u001b[1;33m(\u001b[0m\u001b[1;36m0\u001b[0m\u001b[1;33m,\u001b[0m \u001b[1;36m10\u001b[0m\u001b[1;33m)\u001b[0m\u001b[1;33m:\u001b[0m\u001b[1;33m\u001b[0m\u001b[1;33m\u001b[0m\u001b[0m\n\u001b[1;32m----> 3\u001b[1;33m     \u001b[1;32mif\u001b[0m \u001b[0memoji_pattern\u001b[0m \u001b[1;32min\u001b[0m \u001b[0mtitle_df\u001b[0m\u001b[1;33m.\u001b[0m\u001b[0mloc\u001b[0m\u001b[1;33m[\u001b[0m\u001b[0mi\u001b[0m\u001b[1;33m,\u001b[0m \u001b[1;34m\"title\"\u001b[0m\u001b[1;33m]\u001b[0m\u001b[1;33m:\u001b[0m\u001b[1;33m\u001b[0m\u001b[1;33m\u001b[0m\u001b[0m\n\u001b[0m\u001b[0;32m      4\u001b[0m         \u001b[0mprint\u001b[0m\u001b[1;33m(\u001b[0m\u001b[1;34m\"yeehaa\"\u001b[0m\u001b[1;33m)\u001b[0m\u001b[1;33m\u001b[0m\u001b[1;33m\u001b[0m\u001b[0m\n\u001b[0;32m      5\u001b[0m     \u001b[1;32melse\u001b[0m\u001b[1;33m:\u001b[0m\u001b[1;33m\u001b[0m\u001b[1;33m\u001b[0m\u001b[0m\n",
      "\u001b[1;31mTypeError\u001b[0m: 'in <string>' requires string as left operand, not re.Pattern"
     ]
    }
   ],
   "source": [
    "title_df\n",
    "for i in range(0, 10):\n",
    "    if emoji_pattern in title_df.loc[i, \"title\"]:\n",
    "        print(\"yeehaa\")\n",
    "    else:\n",
    "        print(\"oof\")"
   ]
  },
  {
   "cell_type": "code",
   "execution_count": 47,
   "metadata": {},
   "outputs": [
    {
     "ename": "AttributeError",
     "evalue": "'NoneType' object has no attribute 'group'",
     "output_type": "error",
     "traceback": [
      "\u001b[1;31m---------------------------------------------------------------------------\u001b[0m",
      "\u001b[1;31mAttributeError\u001b[0m                            Traceback (most recent call last)",
      "\u001b[1;32m<ipython-input-47-02ecafc758bc>\u001b[0m in \u001b[0;36m<module>\u001b[1;34m\u001b[0m\n\u001b[0;32m      5\u001b[0m \u001b[1;33m\u001b[0m\u001b[0m\n\u001b[0;32m      6\u001b[0m \u001b[1;32mfor\u001b[0m \u001b[0mi\u001b[0m \u001b[1;32min\u001b[0m \u001b[0mrange\u001b[0m\u001b[1;33m(\u001b[0m\u001b[1;36m0\u001b[0m\u001b[1;33m,\u001b[0m \u001b[0mlen\u001b[0m\u001b[1;33m(\u001b[0m\u001b[0mtitle_df\u001b[0m\u001b[1;33m)\u001b[0m\u001b[1;33m)\u001b[0m\u001b[1;33m:\u001b[0m\u001b[1;33m\u001b[0m\u001b[1;33m\u001b[0m\u001b[0m\n\u001b[1;32m----> 7\u001b[1;33m     \u001b[0mtitle\u001b[0m \u001b[1;33m=\u001b[0m \u001b[0mre\u001b[0m\u001b[1;33m.\u001b[0m\u001b[0msearch\u001b[0m\u001b[1;33m(\u001b[0m\u001b[0memoji_pattern\u001b[0m\u001b[1;33m,\u001b[0m \u001b[0mtitle_df\u001b[0m\u001b[1;33m.\u001b[0m\u001b[0miat\u001b[0m\u001b[1;33m[\u001b[0m\u001b[0mi\u001b[0m\u001b[1;33m,\u001b[0m \u001b[0mindex_title\u001b[0m\u001b[1;33m]\u001b[0m\u001b[1;33m)\u001b[0m\u001b[1;33m.\u001b[0m\u001b[0mgroup\u001b[0m\u001b[1;33m(\u001b[0m\u001b[1;33m)\u001b[0m\u001b[1;33m\u001b[0m\u001b[1;33m\u001b[0m\u001b[0m\n\u001b[0m\u001b[0;32m      8\u001b[0m     \u001b[0mtitle\u001b[0m\u001b[1;33m.\u001b[0m\u001b[0miat\u001b[0m\u001b[1;33m[\u001b[0m\u001b[0mi\u001b[0m\u001b[1;33m,\u001b[0m \u001b[0mindex_match\u001b[0m\u001b[1;33m]\u001b[0m \u001b[1;33m=\u001b[0m \u001b[0mtitle\u001b[0m\u001b[1;33m\u001b[0m\u001b[1;33m\u001b[0m\u001b[0m\n",
      "\u001b[1;31mAttributeError\u001b[0m: 'NoneType' object has no attribute 'group'"
     ]
    }
   ],
   "source": [
    "\n",
    "index_title = title_df.columns.get_loc('title')\n",
    "index_match = title_df.columns.get_loc('match')\n",
    "\n",
    "for i in range(0, len(title_df)):\n",
    "    title = re.search(emoji_pattern, title_df.iat[i, index_title]).group()\n",
    "    title.iat[i, index_match] = title  "
   ]
  },
  {
   "cell_type": "code",
   "execution_count": 49,
   "metadata": {},
   "outputs": [
    {
     "data": {
      "text/html": [
       "<div>\n",
       "<style scoped>\n",
       "    .dataframe tbody tr th:only-of-type {\n",
       "        vertical-align: middle;\n",
       "    }\n",
       "\n",
       "    .dataframe tbody tr th {\n",
       "        vertical-align: top;\n",
       "    }\n",
       "\n",
       "    .dataframe thead th {\n",
       "        text-align: right;\n",
       "    }\n",
       "</style>\n",
       "<table border=\"1\" class=\"dataframe\">\n",
       "  <thead>\n",
       "    <tr style=\"text-align: right;\">\n",
       "      <th></th>\n",
       "      <th>video_id</th>\n",
       "      <th>title</th>\n",
       "      <th>title_words_list</th>\n",
       "      <th>num_title_words</th>\n",
       "      <th>emoji_in_title</th>\n",
       "      <th>match</th>\n",
       "    </tr>\n",
       "  </thead>\n",
       "  <tbody>\n",
       "    <tr>\n",
       "      <th>13</th>\n",
       "      <td>-0ilM33s70k</td>\n",
       "      <td>Kleiner Gute Nacht Gruß für dich 🌙 mit lieben ...</td>\n",
       "      <td>[Kleiner, Gute, Nacht, Gruß, für, dich, 🌙, mit...</td>\n",
       "      <td>13</td>\n",
       "      <td>1</td>\n",
       "      <td>None</td>\n",
       "    </tr>\n",
       "    <tr>\n",
       "      <th>30</th>\n",
       "      <td>-2nFlBRqfHQ</td>\n",
       "      <td>Die BESTEN DIY REZEPTE aus AMERIKA! 🤤😍 - Rice ...</td>\n",
       "      <td>[Die, BESTEN, DIY, REZEPTE, aus, AMERIKA!, 🤤😍,...</td>\n",
       "      <td>13</td>\n",
       "      <td>1</td>\n",
       "      <td>None</td>\n",
       "    </tr>\n",
       "    <tr>\n",
       "      <th>33</th>\n",
       "      <td>-2yP-zSyGEM</td>\n",
       "      <td>BẠN MUỐN HẸN HÒ | Tập 338 UNCUT | Đình Tú - Th...</td>\n",
       "      <td>[BẠN, MUỐN, HẸN, HÒ, |, Tập, 338, UNCUT, |, Đì...</td>\n",
       "      <td>23</td>\n",
       "      <td>1</td>\n",
       "      <td>None</td>\n",
       "    </tr>\n",
       "    <tr>\n",
       "      <th>37</th>\n",
       "      <td>-3t6yONlGG4</td>\n",
       "      <td>NEW YEARS! FAILS EVERY WEEK! #4 💥😂 Fail Compil...</td>\n",
       "      <td>[NEW, YEARS!, FAILS, EVERY, WEEK!, #4, 💥😂, Fai...</td>\n",
       "      <td>16</td>\n",
       "      <td>1</td>\n",
       "      <td>None</td>\n",
       "    </tr>\n",
       "    <tr>\n",
       "      <th>58</th>\n",
       "      <td>-6SASkuvMDU</td>\n",
       "      <td>Eric und ich reagieren auf YOUTUBE KACKE! 😂 (U...</td>\n",
       "      <td>[Eric, und, ich, reagieren, auf, YOUTUBE, KACK...</td>\n",
       "      <td>9</td>\n",
       "      <td>1</td>\n",
       "      <td>None</td>\n",
       "    </tr>\n",
       "    <tr>\n",
       "      <th>...</th>\n",
       "      <td>...</td>\n",
       "      <td>...</td>\n",
       "      <td>...</td>\n",
       "      <td>...</td>\n",
       "      <td>...</td>\n",
       "      <td>...</td>\n",
       "    </tr>\n",
       "    <tr>\n",
       "      <th>29304</th>\n",
       "      <td>zh2Uh4_ljUM</td>\n",
       "      <td>Bester WALKOUT ALLER ZEITEN im 700.000 COINS P...</td>\n",
       "      <td>[Bester, WALKOUT, ALLER, ZEITEN, im, 700.000, ...</td>\n",
       "      <td>15</td>\n",
       "      <td>1</td>\n",
       "      <td>None</td>\n",
       "    </tr>\n",
       "    <tr>\n",
       "      <th>29398</th>\n",
       "      <td>zvB5z2x_z6A</td>\n",
       "      <td>Das Disney Channel Wunsch Programm: Mit Maxi 💫...</td>\n",
       "      <td>[Das, Disney, Channel, Wunsch, Programm:, Mit,...</td>\n",
       "      <td>12</td>\n",
       "      <td>1</td>\n",
       "      <td>None</td>\n",
       "    </tr>\n",
       "    <tr>\n",
       "      <th>29399</th>\n",
       "      <td>zvCmb00UsRk</td>\n",
       "      <td>MEINE DROGEN-VERGANGENHEIT 😵 #RealtalkAmMittwo...</td>\n",
       "      <td>[MEINE, DROGEN-VERGANGENHEIT, 😵, #RealtalkAmMi...</td>\n",
       "      <td>7</td>\n",
       "      <td>1</td>\n",
       "      <td>None</td>\n",
       "    </tr>\n",
       "    <tr>\n",
       "      <th>29416</th>\n",
       "      <td>zyPEekHfAkc</td>\n",
       "      <td>Adını Sen Koy 266-267.bölüm fragmanı😲😲😲</td>\n",
       "      <td>[Adını, Sen, Koy, 266-267.bölüm, fragmanı😲😲😲]</td>\n",
       "      <td>5</td>\n",
       "      <td>1</td>\n",
       "      <td>None</td>\n",
       "    </tr>\n",
       "    <tr>\n",
       "      <th>29424</th>\n",
       "      <td>zzokx9oX77k</td>\n",
       "      <td>Tortë shum e shpejt, lehtë dhe me pak përbërës...</td>\n",
       "      <td>[Tortë, shum, e, shpejt,, lehtë, dhe, me, pak,...</td>\n",
       "      <td>14</td>\n",
       "      <td>1</td>\n",
       "      <td>None</td>\n",
       "    </tr>\n",
       "  </tbody>\n",
       "</table>\n",
       "<p>1190 rows × 6 columns</p>\n",
       "</div>"
      ],
      "text/plain": [
       "          video_id                                              title  \\\n",
       "13     -0ilM33s70k  Kleiner Gute Nacht Gruß für dich 🌙 mit lieben ...   \n",
       "30     -2nFlBRqfHQ  Die BESTEN DIY REZEPTE aus AMERIKA! 🤤😍 - Rice ...   \n",
       "33     -2yP-zSyGEM  BẠN MUỐN HẸN HÒ | Tập 338 UNCUT | Đình Tú - Th...   \n",
       "37     -3t6yONlGG4  NEW YEARS! FAILS EVERY WEEK! #4 💥😂 Fail Compil...   \n",
       "58     -6SASkuvMDU  Eric und ich reagieren auf YOUTUBE KACKE! 😂 (U...   \n",
       "...            ...                                                ...   \n",
       "29304  zh2Uh4_ljUM  Bester WALKOUT ALLER ZEITEN im 700.000 COINS P...   \n",
       "29398  zvB5z2x_z6A  Das Disney Channel Wunsch Programm: Mit Maxi 💫...   \n",
       "29399  zvCmb00UsRk  MEINE DROGEN-VERGANGENHEIT 😵 #RealtalkAmMittwo...   \n",
       "29416  zyPEekHfAkc            Adını Sen Koy 266-267.bölüm fragmanı😲😲😲   \n",
       "29424  zzokx9oX77k  Tortë shum e shpejt, lehtë dhe me pak përbërës...   \n",
       "\n",
       "                                        title_words_list  num_title_words  \\\n",
       "13     [Kleiner, Gute, Nacht, Gruß, für, dich, 🌙, mit...               13   \n",
       "30     [Die, BESTEN, DIY, REZEPTE, aus, AMERIKA!, 🤤😍,...               13   \n",
       "33     [BẠN, MUỐN, HẸN, HÒ, |, Tập, 338, UNCUT, |, Đì...               23   \n",
       "37     [NEW, YEARS!, FAILS, EVERY, WEEK!, #4, 💥😂, Fai...               16   \n",
       "58     [Eric, und, ich, reagieren, auf, YOUTUBE, KACK...                9   \n",
       "...                                                  ...              ...   \n",
       "29304  [Bester, WALKOUT, ALLER, ZEITEN, im, 700.000, ...               15   \n",
       "29398  [Das, Disney, Channel, Wunsch, Programm:, Mit,...               12   \n",
       "29399  [MEINE, DROGEN-VERGANGENHEIT, 😵, #RealtalkAmMi...                7   \n",
       "29416      [Adını, Sen, Koy, 266-267.bölüm, fragmanı😲😲😲]                5   \n",
       "29424  [Tortë, shum, e, shpejt,, lehtë, dhe, me, pak,...               14   \n",
       "\n",
       "       emoji_in_title match  \n",
       "13                  1  None  \n",
       "30                  1  None  \n",
       "33                  1  None  \n",
       "37                  1  None  \n",
       "58                  1  None  \n",
       "...               ...   ...  \n",
       "29304               1  None  \n",
       "29398               1  None  \n",
       "29399               1  None  \n",
       "29416               1  None  \n",
       "29424               1  None  \n",
       "\n",
       "[1190 rows x 6 columns]"
      ]
     },
     "execution_count": 49,
     "metadata": {},
     "output_type": "execute_result"
    }
   ],
   "source": [
    "title_df.loc[(title_df['title'].str.contains(emoji_pattern))]"
   ]
  },
  {
   "cell_type": "code",
   "execution_count": null,
   "metadata": {},
   "outputs": [],
   "source": []
  },
  {
   "cell_type": "code",
   "execution_count": null,
   "metadata": {},
   "outputs": [],
   "source": []
  },
  {
   "cell_type": "code",
   "execution_count": null,
   "metadata": {},
   "outputs": [],
   "source": []
  },
  {
   "cell_type": "code",
   "execution_count": null,
   "metadata": {},
   "outputs": [],
   "source": []
  },
  {
   "cell_type": "code",
   "execution_count": null,
   "metadata": {},
   "outputs": [],
   "source": []
  },
  {
   "cell_type": "code",
   "execution_count": null,
   "metadata": {},
   "outputs": [],
   "source": []
  },
  {
   "cell_type": "code",
   "execution_count": null,
   "metadata": {},
   "outputs": [],
   "source": []
  },
  {
   "cell_type": "code",
   "execution_count": 10,
   "metadata": {},
   "outputs": [
    {
     "name": "stdout",
     "output_type": "stream",
     "text": [
      "This dog 😂\n",
      "This dog \n"
     ]
    }
   ],
   "source": [
    "# Test für die Emojies im Titel\n",
    "\n",
    "text = u'This dog \\U0001f602'\n",
    "print(text) # with emoji\n",
    "\n",
    "emoji_pattern = re.compile(\"[\"\n",
    "        u\"\\U0001F600-\\U0001F64F\"  # emoticons\n",
    "        u\"\\U0001F300-\\U0001F5FF\"  # symbols & pictographs\n",
    "        u\"\\U0001F680-\\U0001F6FF\"  # transport & map symbols\n",
    "        u\"\\U0001F1E0-\\U0001F1FF\"  # flags (iOS)\n",
    "                           \"]+\", flags=re.UNICODE)\n",
    "print(emoji_pattern.sub(r'', text)) # no emoji"
   ]
  },
  {
   "cell_type": "code",
   "execution_count": 19,
   "metadata": {},
   "outputs": [
    {
     "data": {
      "text/plain": [
       "['😂']"
      ]
     },
     "execution_count": 19,
     "metadata": {},
     "output_type": "execute_result"
    }
   ],
   "source": [
    "matches = re.findall(emoji_pattern, text)\n",
    "matches"
   ]
  },
  {
   "cell_type": "code",
   "execution_count": null,
   "metadata": {},
   "outputs": [],
   "source": []
  }
 ],
 "metadata": {
  "kernelspec": {
   "display_name": "Python 3",
   "language": "python",
   "name": "python3"
  },
  "language_info": {
   "codemirror_mode": {
    "name": "ipython",
    "version": 3
   },
   "file_extension": ".py",
   "mimetype": "text/x-python",
   "name": "python",
   "nbconvert_exporter": "python",
   "pygments_lexer": "ipython3",
   "version": "3.8.5"
  }
 },
 "nbformat": 4,
 "nbformat_minor": 4
}
