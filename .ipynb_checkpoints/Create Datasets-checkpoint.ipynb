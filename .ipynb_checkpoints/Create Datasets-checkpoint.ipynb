{
 "cells": [
  {
   "cell_type": "code",
   "execution_count": 2,
   "metadata": {},
   "outputs": [],
   "source": [
    "import pandas as pd\n",
    "import numpy as np\n",
    "import re   #regex"
   ]
  },
  {
   "cell_type": "markdown",
   "metadata": {},
   "source": [
    "Im Folgenden werden die beiden csv Dateien eingelesen und über die 'category_id' zusammengejoint. Dieser Datensatz heißt data. Darüber hinaus soll ein zweiter Datensatz erstellt werden, in dem jedes Video nur einmal vertreten ist. Dieser Datensatz heißt data_once.\n",
    "\n",
    "Inspiration für Projekt -> Kategorie (bspw. anhand der Tags) vorhersagen"
   ]
  },
  {
   "cell_type": "markdown",
   "metadata": {},
   "source": [
    "### Erster Datensatz: data"
   ]
  },
  {
   "cell_type": "code",
   "execution_count": 3,
   "metadata": {},
   "outputs": [],
   "source": [
    "data_vid = pd.read_csv('C:/Users/Nutzer/Desktop/Uni/Semester IV/Machine Learning/Projekt/DEvideos.csv')\n",
    "data_cat = pd.read_csv('C:/Users/Nutzer/Desktop/Uni/Semester IV/Machine Learning/Projekt/DE_category_id.csv')\n",
    "\n",
    "#Kurze Anmerkung zum trending_date da ich es safe vergessen werde: das Format ist yy.dd.mm - wer zum Henker \n",
    "#hat sich dieses Format ausgedacht"
   ]
  },
  {
   "cell_type": "code",
   "execution_count": 3,
   "metadata": {},
   "outputs": [],
   "source": [
    "#Select the two needed columns\n",
    "data_cat = data_cat[['items__id','items__snippet__title']]\n",
    "#Rename the dataframe\n",
    "data_cat.rename({'items__id':'category_id', 'items__snippet__title': 'category_name'}, axis = 1, inplace = True)\n",
    "#join the dataframes\n",
    "data = pd.merge(data_vid, data_cat, on = 'category_id')"
   ]
  },
  {
   "cell_type": "code",
   "execution_count": 4,
   "metadata": {},
   "outputs": [
    {
     "data": {
      "text/html": [
       "<div>\n",
       "<style scoped>\n",
       "    .dataframe tbody tr th:only-of-type {\n",
       "        vertical-align: middle;\n",
       "    }\n",
       "\n",
       "    .dataframe tbody tr th {\n",
       "        vertical-align: top;\n",
       "    }\n",
       "\n",
       "    .dataframe thead th {\n",
       "        text-align: right;\n",
       "    }\n",
       "</style>\n",
       "<table border=\"1\" class=\"dataframe\">\n",
       "  <thead>\n",
       "    <tr style=\"text-align: right;\">\n",
       "      <th></th>\n",
       "      <th>video_id</th>\n",
       "      <th>trending_date</th>\n",
       "      <th>title</th>\n",
       "      <th>channel_title</th>\n",
       "      <th>category_id</th>\n",
       "      <th>publish_time</th>\n",
       "      <th>tags</th>\n",
       "      <th>views</th>\n",
       "      <th>likes</th>\n",
       "      <th>dislikes</th>\n",
       "      <th>comment_count</th>\n",
       "      <th>thumbnail_link</th>\n",
       "      <th>comments_disabled</th>\n",
       "      <th>ratings_disabled</th>\n",
       "      <th>video_error_or_removed</th>\n",
       "      <th>description</th>\n",
       "      <th>category_name</th>\n",
       "    </tr>\n",
       "  </thead>\n",
       "  <tbody>\n",
       "    <tr>\n",
       "      <th>0</th>\n",
       "      <td>LgVi6y5QIjM</td>\n",
       "      <td>17.14.11</td>\n",
       "      <td>Sing zu Ende! | Gesangseinlagen vom Feinsten |...</td>\n",
       "      <td>inscope21</td>\n",
       "      <td>24</td>\n",
       "      <td>2017-11-13T17:08:49.000Z</td>\n",
       "      <td>inscope21|\"sing zu ende\"|\"gesangseinlagen\"|\"ge...</td>\n",
       "      <td>252786</td>\n",
       "      <td>35885</td>\n",
       "      <td>230</td>\n",
       "      <td>1539</td>\n",
       "      <td>https://i.ytimg.com/vi/LgVi6y5QIjM/default.jpg</td>\n",
       "      <td>False</td>\n",
       "      <td>False</td>\n",
       "      <td>False</td>\n",
       "      <td>Heute gibt es mal wieder ein neues Format... w...</td>\n",
       "      <td>Entertainment</td>\n",
       "    </tr>\n",
       "    <tr>\n",
       "      <th>1</th>\n",
       "      <td>1ZAPwfrtAFY</td>\n",
       "      <td>17.14.11</td>\n",
       "      <td>The Trump Presidency: Last Week Tonight with J...</td>\n",
       "      <td>LastWeekTonight</td>\n",
       "      <td>24</td>\n",
       "      <td>2017-11-13T07:30:00.000Z</td>\n",
       "      <td>last week tonight trump presidency|\"last week ...</td>\n",
       "      <td>2418783</td>\n",
       "      <td>97190</td>\n",
       "      <td>6146</td>\n",
       "      <td>12703</td>\n",
       "      <td>https://i.ytimg.com/vi/1ZAPwfrtAFY/default.jpg</td>\n",
       "      <td>False</td>\n",
       "      <td>False</td>\n",
       "      <td>False</td>\n",
       "      <td>One year after the presidential election, John...</td>\n",
       "      <td>Entertainment</td>\n",
       "    </tr>\n",
       "    <tr>\n",
       "      <th>2</th>\n",
       "      <td>ZJ9We4bjcg0</td>\n",
       "      <td>17.14.11</td>\n",
       "      <td>18 SONGS mit Kelly MissesVlog (Sing-off)</td>\n",
       "      <td>rezo</td>\n",
       "      <td>24</td>\n",
       "      <td>2017-11-12T13:10:36.000Z</td>\n",
       "      <td>kelly|\"missesvlog\"|\"kelly song\"|\"bausa\"|\"bausa...</td>\n",
       "      <td>822213</td>\n",
       "      <td>100684</td>\n",
       "      <td>2467</td>\n",
       "      <td>10244</td>\n",
       "      <td>https://i.ytimg.com/vi/ZJ9We4bjcg0/default.jpg</td>\n",
       "      <td>False</td>\n",
       "      <td>False</td>\n",
       "      <td>False</td>\n",
       "      <td>18 Song Mashup über den (veränderten) Beat von...</td>\n",
       "      <td>Entertainment</td>\n",
       "    </tr>\n",
       "    <tr>\n",
       "      <th>3</th>\n",
       "      <td>2hu_evXPpMM</td>\n",
       "      <td>17.14.11</td>\n",
       "      <td>Dagi Bee wird Heiraten | Coldmirror bekommt Eh...</td>\n",
       "      <td>HerrNewstime</td>\n",
       "      <td>24</td>\n",
       "      <td>2017-11-12T16:33:18.000Z</td>\n",
       "      <td>Dagi Bee|\"Heiraten\"|\"Coldmirror\"|\"YouTube\"|\"Tr...</td>\n",
       "      <td>228574</td>\n",
       "      <td>11349</td>\n",
       "      <td>990</td>\n",
       "      <td>1049</td>\n",
       "      <td>https://i.ytimg.com/vi/2hu_evXPpMM/default.jpg</td>\n",
       "      <td>False</td>\n",
       "      <td>False</td>\n",
       "      <td>False</td>\n",
       "      <td>Dagi Bee wird Heiraten | Coldmirror bekommt Eh...</td>\n",
       "      <td>Entertainment</td>\n",
       "    </tr>\n",
       "    <tr>\n",
       "      <th>4</th>\n",
       "      <td>OKYUtHvgMhc</td>\n",
       "      <td>17.14.11</td>\n",
       "      <td>Die Welt in 30 Jahren - Sommer 2047 -  VOLKAN</td>\n",
       "      <td>VOLKAN</td>\n",
       "      <td>24</td>\n",
       "      <td>2017-11-12T16:09:44.000Z</td>\n",
       "      <td>Welt|\"Natur\"|\"Umwelt\"|\"Klima\"|\"Klimawandel\"</td>\n",
       "      <td>37877</td>\n",
       "      <td>1839</td>\n",
       "      <td>327</td>\n",
       "      <td>170</td>\n",
       "      <td>https://i.ytimg.com/vi/OKYUtHvgMhc/default.jpg</td>\n",
       "      <td>False</td>\n",
       "      <td>False</td>\n",
       "      <td>False</td>\n",
       "      <td>Über die Zukunft nachzudenken macht Spaß, oder...</td>\n",
       "      <td>Entertainment</td>\n",
       "    </tr>\n",
       "  </tbody>\n",
       "</table>\n",
       "</div>"
      ],
      "text/plain": [
       "      video_id trending_date  \\\n",
       "0  LgVi6y5QIjM      17.14.11   \n",
       "1  1ZAPwfrtAFY      17.14.11   \n",
       "2  ZJ9We4bjcg0      17.14.11   \n",
       "3  2hu_evXPpMM      17.14.11   \n",
       "4  OKYUtHvgMhc      17.14.11   \n",
       "\n",
       "                                               title    channel_title  \\\n",
       "0  Sing zu Ende! | Gesangseinlagen vom Feinsten |...        inscope21   \n",
       "1  The Trump Presidency: Last Week Tonight with J...  LastWeekTonight   \n",
       "2           18 SONGS mit Kelly MissesVlog (Sing-off)             rezo   \n",
       "3  Dagi Bee wird Heiraten | Coldmirror bekommt Eh...     HerrNewstime   \n",
       "4      Die Welt in 30 Jahren - Sommer 2047 -  VOLKAN           VOLKAN   \n",
       "\n",
       "   category_id              publish_time  \\\n",
       "0           24  2017-11-13T17:08:49.000Z   \n",
       "1           24  2017-11-13T07:30:00.000Z   \n",
       "2           24  2017-11-12T13:10:36.000Z   \n",
       "3           24  2017-11-12T16:33:18.000Z   \n",
       "4           24  2017-11-12T16:09:44.000Z   \n",
       "\n",
       "                                                tags    views   likes  \\\n",
       "0  inscope21|\"sing zu ende\"|\"gesangseinlagen\"|\"ge...   252786   35885   \n",
       "1  last week tonight trump presidency|\"last week ...  2418783   97190   \n",
       "2  kelly|\"missesvlog\"|\"kelly song\"|\"bausa\"|\"bausa...   822213  100684   \n",
       "3  Dagi Bee|\"Heiraten\"|\"Coldmirror\"|\"YouTube\"|\"Tr...   228574   11349   \n",
       "4        Welt|\"Natur\"|\"Umwelt\"|\"Klima\"|\"Klimawandel\"    37877    1839   \n",
       "\n",
       "   dislikes  comment_count                                  thumbnail_link  \\\n",
       "0       230           1539  https://i.ytimg.com/vi/LgVi6y5QIjM/default.jpg   \n",
       "1      6146          12703  https://i.ytimg.com/vi/1ZAPwfrtAFY/default.jpg   \n",
       "2      2467          10244  https://i.ytimg.com/vi/ZJ9We4bjcg0/default.jpg   \n",
       "3       990           1049  https://i.ytimg.com/vi/2hu_evXPpMM/default.jpg   \n",
       "4       327            170  https://i.ytimg.com/vi/OKYUtHvgMhc/default.jpg   \n",
       "\n",
       "   comments_disabled  ratings_disabled  video_error_or_removed  \\\n",
       "0              False             False                   False   \n",
       "1              False             False                   False   \n",
       "2              False             False                   False   \n",
       "3              False             False                   False   \n",
       "4              False             False                   False   \n",
       "\n",
       "                                         description  category_name  \n",
       "0  Heute gibt es mal wieder ein neues Format... w...  Entertainment  \n",
       "1  One year after the presidential election, John...  Entertainment  \n",
       "2  18 Song Mashup über den (veränderten) Beat von...  Entertainment  \n",
       "3  Dagi Bee wird Heiraten | Coldmirror bekommt Eh...  Entertainment  \n",
       "4  Über die Zukunft nachzudenken macht Spaß, oder...  Entertainment  "
      ]
     },
     "execution_count": 4,
     "metadata": {},
     "output_type": "execute_result"
    }
   ],
   "source": [
    "data.head()"
   ]
  },
  {
   "cell_type": "code",
   "execution_count": 5,
   "metadata": {},
   "outputs": [
    {
     "name": "stdout",
     "output_type": "stream",
     "text": [
      "<class 'pandas.core.frame.DataFrame'>\n",
      "Int64Index: 40584 entries, 0 to 40583\n",
      "Data columns (total 17 columns):\n",
      " #   Column                  Non-Null Count  Dtype \n",
      "---  ------                  --------------  ----- \n",
      " 0   video_id                40584 non-null  object\n",
      " 1   trending_date           40584 non-null  object\n",
      " 2   title                   40584 non-null  object\n",
      " 3   channel_title           40584 non-null  object\n",
      " 4   category_id             40584 non-null  int64 \n",
      " 5   publish_time            40584 non-null  object\n",
      " 6   tags                    40584 non-null  object\n",
      " 7   views                   40584 non-null  int64 \n",
      " 8   likes                   40584 non-null  int64 \n",
      " 9   dislikes                40584 non-null  int64 \n",
      " 10  comment_count           40584 non-null  int64 \n",
      " 11  thumbnail_link          40584 non-null  object\n",
      " 12  comments_disabled       40584 non-null  bool  \n",
      " 13  ratings_disabled        40584 non-null  bool  \n",
      " 14  video_error_or_removed  40584 non-null  bool  \n",
      " 15  description             39042 non-null  object\n",
      " 16  category_name           40584 non-null  object\n",
      "dtypes: bool(3), int64(5), object(9)\n",
      "memory usage: 4.8+ MB\n"
     ]
    }
   ],
   "source": [
    "data.info()"
   ]
  },
  {
   "cell_type": "markdown",
   "metadata": {},
   "source": [
    "### Zweiter Datensatz: data_once\n",
    "Erkenntnis: die Daten aktualisieren sich mit jedem Tag, den sie in den Trends bleiben"
   ]
  },
  {
   "cell_type": "code",
   "execution_count": 6,
   "metadata": {},
   "outputs": [],
   "source": [
    "list_cols = data.columns.values.tolist()\n",
    "list_cols.remove('category_id')\n",
    "list_cols.remove('thumbnail_link')\n",
    "data_once = data.loc[:, list_cols]"
   ]
  },
  {
   "cell_type": "markdown",
   "metadata": {},
   "source": [
    "Nun soll ein Dataframe erzeugt werden, der die video_id und die aktuellste trending_dates beinhaltet. Der Dataframe\n",
    "wird dann mit dem Dataframe data_once gejoint."
   ]
  },
  {
   "cell_type": "code",
   "execution_count": 7,
   "metadata": {},
   "outputs": [],
   "source": [
    "df_latest_vid = data_once.groupby(['video_id']).agg(trending_date=('trending_date', 'max'))  "
   ]
  },
  {
   "cell_type": "code",
   "execution_count": 8,
   "metadata": {},
   "outputs": [
    {
     "ename": "KeyError",
     "evalue": "\"['latest_trending_date_x'] not found in axis\"",
     "output_type": "error",
     "traceback": [
      "\u001b[1;31m---------------------------------------------------------------------------\u001b[0m",
      "\u001b[1;31mKeyError\u001b[0m                                  Traceback (most recent call last)",
      "\u001b[1;32m<ipython-input-8-5463c9d50ac3>\u001b[0m in \u001b[0;36m<module>\u001b[1;34m\u001b[0m\n\u001b[0;32m      1\u001b[0m \u001b[0mdata_once\u001b[0m \u001b[1;33m=\u001b[0m \u001b[0mpd\u001b[0m\u001b[1;33m.\u001b[0m\u001b[0mmerge\u001b[0m\u001b[1;33m(\u001b[0m\u001b[0mdf_latest_vid\u001b[0m\u001b[1;33m,\u001b[0m \u001b[0mdata_once\u001b[0m \u001b[1;33m,\u001b[0m  \u001b[0mon\u001b[0m \u001b[1;33m=\u001b[0m \u001b[1;33m[\u001b[0m\u001b[1;34m'video_id'\u001b[0m\u001b[1;33m,\u001b[0m\u001b[1;34m'trending_date'\u001b[0m\u001b[1;33m]\u001b[0m\u001b[1;33m)\u001b[0m\u001b[1;33m\u001b[0m\u001b[1;33m\u001b[0m\u001b[0m\n\u001b[1;32m----> 2\u001b[1;33m \u001b[0mdata_once\u001b[0m\u001b[1;33m.\u001b[0m\u001b[0mdrop\u001b[0m\u001b[1;33m(\u001b[0m\u001b[0mcolumns\u001b[0m\u001b[1;33m=\u001b[0m\u001b[1;33m[\u001b[0m\u001b[1;34m'trending_date'\u001b[0m\u001b[1;33m,\u001b[0m \u001b[1;34m'latest_trending_date_x'\u001b[0m\u001b[1;33m]\u001b[0m\u001b[1;33m)\u001b[0m\u001b[1;33m\u001b[0m\u001b[1;33m\u001b[0m\u001b[0m\n\u001b[0m\u001b[0;32m      3\u001b[0m \u001b[0mdata_once\u001b[0m\u001b[1;33m\u001b[0m\u001b[1;33m\u001b[0m\u001b[0m\n",
      "\u001b[1;32m~\\anaconda3\\lib\\site-packages\\pandas\\core\\frame.py\u001b[0m in \u001b[0;36mdrop\u001b[1;34m(self, labels, axis, index, columns, level, inplace, errors)\u001b[0m\n\u001b[0;32m   4306\u001b[0m                 \u001b[0mweight\u001b[0m  \u001b[1;36m1.0\u001b[0m     \u001b[1;36m0.8\u001b[0m\u001b[1;33m\u001b[0m\u001b[1;33m\u001b[0m\u001b[0m\n\u001b[0;32m   4307\u001b[0m         \"\"\"\n\u001b[1;32m-> 4308\u001b[1;33m         return super().drop(\n\u001b[0m\u001b[0;32m   4309\u001b[0m             \u001b[0mlabels\u001b[0m\u001b[1;33m=\u001b[0m\u001b[0mlabels\u001b[0m\u001b[1;33m,\u001b[0m\u001b[1;33m\u001b[0m\u001b[1;33m\u001b[0m\u001b[0m\n\u001b[0;32m   4310\u001b[0m             \u001b[0maxis\u001b[0m\u001b[1;33m=\u001b[0m\u001b[0maxis\u001b[0m\u001b[1;33m,\u001b[0m\u001b[1;33m\u001b[0m\u001b[1;33m\u001b[0m\u001b[0m\n",
      "\u001b[1;32m~\\anaconda3\\lib\\site-packages\\pandas\\core\\generic.py\u001b[0m in \u001b[0;36mdrop\u001b[1;34m(self, labels, axis, index, columns, level, inplace, errors)\u001b[0m\n\u001b[0;32m   4151\u001b[0m         \u001b[1;32mfor\u001b[0m \u001b[0maxis\u001b[0m\u001b[1;33m,\u001b[0m \u001b[0mlabels\u001b[0m \u001b[1;32min\u001b[0m \u001b[0maxes\u001b[0m\u001b[1;33m.\u001b[0m\u001b[0mitems\u001b[0m\u001b[1;33m(\u001b[0m\u001b[1;33m)\u001b[0m\u001b[1;33m:\u001b[0m\u001b[1;33m\u001b[0m\u001b[1;33m\u001b[0m\u001b[0m\n\u001b[0;32m   4152\u001b[0m             \u001b[1;32mif\u001b[0m \u001b[0mlabels\u001b[0m \u001b[1;32mis\u001b[0m \u001b[1;32mnot\u001b[0m \u001b[1;32mNone\u001b[0m\u001b[1;33m:\u001b[0m\u001b[1;33m\u001b[0m\u001b[1;33m\u001b[0m\u001b[0m\n\u001b[1;32m-> 4153\u001b[1;33m                 \u001b[0mobj\u001b[0m \u001b[1;33m=\u001b[0m \u001b[0mobj\u001b[0m\u001b[1;33m.\u001b[0m\u001b[0m_drop_axis\u001b[0m\u001b[1;33m(\u001b[0m\u001b[0mlabels\u001b[0m\u001b[1;33m,\u001b[0m \u001b[0maxis\u001b[0m\u001b[1;33m,\u001b[0m \u001b[0mlevel\u001b[0m\u001b[1;33m=\u001b[0m\u001b[0mlevel\u001b[0m\u001b[1;33m,\u001b[0m \u001b[0merrors\u001b[0m\u001b[1;33m=\u001b[0m\u001b[0merrors\u001b[0m\u001b[1;33m)\u001b[0m\u001b[1;33m\u001b[0m\u001b[1;33m\u001b[0m\u001b[0m\n\u001b[0m\u001b[0;32m   4154\u001b[0m \u001b[1;33m\u001b[0m\u001b[0m\n\u001b[0;32m   4155\u001b[0m         \u001b[1;32mif\u001b[0m \u001b[0minplace\u001b[0m\u001b[1;33m:\u001b[0m\u001b[1;33m\u001b[0m\u001b[1;33m\u001b[0m\u001b[0m\n",
      "\u001b[1;32m~\\anaconda3\\lib\\site-packages\\pandas\\core\\generic.py\u001b[0m in \u001b[0;36m_drop_axis\u001b[1;34m(self, labels, axis, level, errors)\u001b[0m\n\u001b[0;32m   4186\u001b[0m                 \u001b[0mnew_axis\u001b[0m \u001b[1;33m=\u001b[0m \u001b[0maxis\u001b[0m\u001b[1;33m.\u001b[0m\u001b[0mdrop\u001b[0m\u001b[1;33m(\u001b[0m\u001b[0mlabels\u001b[0m\u001b[1;33m,\u001b[0m \u001b[0mlevel\u001b[0m\u001b[1;33m=\u001b[0m\u001b[0mlevel\u001b[0m\u001b[1;33m,\u001b[0m \u001b[0merrors\u001b[0m\u001b[1;33m=\u001b[0m\u001b[0merrors\u001b[0m\u001b[1;33m)\u001b[0m\u001b[1;33m\u001b[0m\u001b[1;33m\u001b[0m\u001b[0m\n\u001b[0;32m   4187\u001b[0m             \u001b[1;32melse\u001b[0m\u001b[1;33m:\u001b[0m\u001b[1;33m\u001b[0m\u001b[1;33m\u001b[0m\u001b[0m\n\u001b[1;32m-> 4188\u001b[1;33m                 \u001b[0mnew_axis\u001b[0m \u001b[1;33m=\u001b[0m \u001b[0maxis\u001b[0m\u001b[1;33m.\u001b[0m\u001b[0mdrop\u001b[0m\u001b[1;33m(\u001b[0m\u001b[0mlabels\u001b[0m\u001b[1;33m,\u001b[0m \u001b[0merrors\u001b[0m\u001b[1;33m=\u001b[0m\u001b[0merrors\u001b[0m\u001b[1;33m)\u001b[0m\u001b[1;33m\u001b[0m\u001b[1;33m\u001b[0m\u001b[0m\n\u001b[0m\u001b[0;32m   4189\u001b[0m             \u001b[0mresult\u001b[0m \u001b[1;33m=\u001b[0m \u001b[0mself\u001b[0m\u001b[1;33m.\u001b[0m\u001b[0mreindex\u001b[0m\u001b[1;33m(\u001b[0m\u001b[1;33m**\u001b[0m\u001b[1;33m{\u001b[0m\u001b[0maxis_name\u001b[0m\u001b[1;33m:\u001b[0m \u001b[0mnew_axis\u001b[0m\u001b[1;33m}\u001b[0m\u001b[1;33m)\u001b[0m\u001b[1;33m\u001b[0m\u001b[1;33m\u001b[0m\u001b[0m\n\u001b[0;32m   4190\u001b[0m \u001b[1;33m\u001b[0m\u001b[0m\n",
      "\u001b[1;32m~\\anaconda3\\lib\\site-packages\\pandas\\core\\indexes\\base.py\u001b[0m in \u001b[0;36mdrop\u001b[1;34m(self, labels, errors)\u001b[0m\n\u001b[0;32m   5589\u001b[0m         \u001b[1;32mif\u001b[0m \u001b[0mmask\u001b[0m\u001b[1;33m.\u001b[0m\u001b[0many\u001b[0m\u001b[1;33m(\u001b[0m\u001b[1;33m)\u001b[0m\u001b[1;33m:\u001b[0m\u001b[1;33m\u001b[0m\u001b[1;33m\u001b[0m\u001b[0m\n\u001b[0;32m   5590\u001b[0m             \u001b[1;32mif\u001b[0m \u001b[0merrors\u001b[0m \u001b[1;33m!=\u001b[0m \u001b[1;34m\"ignore\"\u001b[0m\u001b[1;33m:\u001b[0m\u001b[1;33m\u001b[0m\u001b[1;33m\u001b[0m\u001b[0m\n\u001b[1;32m-> 5591\u001b[1;33m                 \u001b[1;32mraise\u001b[0m \u001b[0mKeyError\u001b[0m\u001b[1;33m(\u001b[0m\u001b[1;34mf\"{labels[mask]} not found in axis\"\u001b[0m\u001b[1;33m)\u001b[0m\u001b[1;33m\u001b[0m\u001b[1;33m\u001b[0m\u001b[0m\n\u001b[0m\u001b[0;32m   5592\u001b[0m             \u001b[0mindexer\u001b[0m \u001b[1;33m=\u001b[0m \u001b[0mindexer\u001b[0m\u001b[1;33m[\u001b[0m\u001b[1;33m~\u001b[0m\u001b[0mmask\u001b[0m\u001b[1;33m]\u001b[0m\u001b[1;33m\u001b[0m\u001b[1;33m\u001b[0m\u001b[0m\n\u001b[0;32m   5593\u001b[0m         \u001b[1;32mreturn\u001b[0m \u001b[0mself\u001b[0m\u001b[1;33m.\u001b[0m\u001b[0mdelete\u001b[0m\u001b[1;33m(\u001b[0m\u001b[0mindexer\u001b[0m\u001b[1;33m)\u001b[0m\u001b[1;33m\u001b[0m\u001b[1;33m\u001b[0m\u001b[0m\n",
      "\u001b[1;31mKeyError\u001b[0m: \"['latest_trending_date_x'] not found in axis\""
     ]
    }
   ],
   "source": [
    "data_once = pd.merge(df_latest_vid, data_once ,  on = ['video_id','trending_date'])\n",
    "data_once.drop(columns=['trending_date', 'latest_trending_date_x'])\n",
    "data_once"
   ]
  },
  {
   "cell_type": "markdown",
   "metadata": {},
   "source": [
    "Testen des Dataframes data_once:"
   ]
  },
  {
   "cell_type": "code",
   "execution_count": 31,
   "metadata": {
    "collapsed": true
   },
   "outputs": [
    {
     "data": {
      "text/plain": [
       "video_id\n",
       "--7vNbh4UNA    1\n",
       "--I0aj8MUdU    2\n",
       "--MtKsH5oBY    2\n",
       "--moh3hSPpY    1\n",
       "--rE6D0_jAw    1\n",
       "              ..\n",
       "zyzuut5pZDg    2\n",
       "zz-RpiUFY-I    2\n",
       "zz2ZSsUUbFs    2\n",
       "zzHW6gJG7W0    3\n",
       "zzokx9oX77k    1\n",
       "Name: video_id, Length: 29425, dtype: int64"
      ]
     },
     "execution_count": 31,
     "metadata": {},
     "output_type": "execute_result"
    }
   ],
   "source": [
    "data_test1 = data_once.groupby(['video_id'])['video_id'].count()\n",
    "data_test1"
   ]
  },
  {
   "cell_type": "code",
   "execution_count": 67,
   "metadata": {
    "collapsed": true
   },
   "outputs": [
    {
     "data": {
      "text/html": [
       "<div>\n",
       "<style scoped>\n",
       "    .dataframe tbody tr th:only-of-type {\n",
       "        vertical-align: middle;\n",
       "    }\n",
       "\n",
       "    .dataframe tbody tr th {\n",
       "        vertical-align: top;\n",
       "    }\n",
       "\n",
       "    .dataframe thead th {\n",
       "        text-align: right;\n",
       "    }\n",
       "</style>\n",
       "<table border=\"1\" class=\"dataframe\">\n",
       "  <thead>\n",
       "    <tr style=\"text-align: right;\">\n",
       "      <th></th>\n",
       "      <th>video_id</th>\n",
       "      <th>trending_date</th>\n",
       "      <th>latest_trending_date</th>\n",
       "      <th>latest_trending_date_x</th>\n",
       "      <th>title</th>\n",
       "      <th>channel_title</th>\n",
       "      <th>publish_time</th>\n",
       "      <th>tags</th>\n",
       "      <th>views</th>\n",
       "      <th>likes</th>\n",
       "      <th>dislikes</th>\n",
       "      <th>comment_count</th>\n",
       "      <th>comments_disabled</th>\n",
       "      <th>ratings_disabled</th>\n",
       "      <th>video_error_or_removed</th>\n",
       "      <th>description</th>\n",
       "      <th>category_name</th>\n",
       "      <th>latest_trending_date_y</th>\n",
       "    </tr>\n",
       "  </thead>\n",
       "  <tbody>\n",
       "    <tr>\n",
       "      <th>29423</th>\n",
       "      <td>zzHW6gJG7W0</td>\n",
       "      <td>17.28.12</td>\n",
       "      <td>17.28.12</td>\n",
       "      <td>17.28.12</td>\n",
       "      <td>4 heftige Serien-Fehler die nicht merkwürdiger...</td>\n",
       "      <td>Jay &amp; Arya</td>\n",
       "      <td>2017-12-25T18:44:03.000Z</td>\n",
       "      <td>serien fehler|\"serien fehler jay und arya\"|\"fe...</td>\n",
       "      <td>622576</td>\n",
       "      <td>34152</td>\n",
       "      <td>1200</td>\n",
       "      <td>1321</td>\n",
       "      <td>False</td>\n",
       "      <td>False</td>\n",
       "      <td>False</td>\n",
       "      <td>DIESE SCHAUSPIELER werden unsere DISNEY-Helden...</td>\n",
       "      <td>People &amp; Blogs</td>\n",
       "      <td>17.28.12</td>\n",
       "    </tr>\n",
       "  </tbody>\n",
       "</table>\n",
       "</div>"
      ],
      "text/plain": [
       "          video_id trending_date latest_trending_date latest_trending_date_x  \\\n",
       "29423  zzHW6gJG7W0      17.28.12             17.28.12               17.28.12   \n",
       "\n",
       "                                                   title channel_title  \\\n",
       "29423  4 heftige Serien-Fehler die nicht merkwürdiger...    Jay & Arya   \n",
       "\n",
       "                   publish_time  \\\n",
       "29423  2017-12-25T18:44:03.000Z   \n",
       "\n",
       "                                                    tags   views  likes  \\\n",
       "29423  serien fehler|\"serien fehler jay und arya\"|\"fe...  622576  34152   \n",
       "\n",
       "       dislikes  comment_count  comments_disabled  ratings_disabled  \\\n",
       "29423      1200           1321              False             False   \n",
       "\n",
       "       video_error_or_removed  \\\n",
       "29423                   False   \n",
       "\n",
       "                                             description   category_name  \\\n",
       "29423  DIESE SCHAUSPIELER werden unsere DISNEY-Helden...  People & Blogs   \n",
       "\n",
       "      latest_trending_date_y  \n",
       "29423               17.28.12  "
      ]
     },
     "execution_count": 67,
     "metadata": {},
     "output_type": "execute_result"
    }
   ],
   "source": [
    "data_test2 = data_once[data_once.video_id == 'zzHW6gJG7W0']\n",
    "data_test2"
   ]
  },
  {
   "cell_type": "code",
   "execution_count": 70,
   "metadata": {
    "collapsed": true
   },
   "outputs": [
    {
     "data": {
      "text/html": [
       "<div>\n",
       "<style scoped>\n",
       "    .dataframe tbody tr th:only-of-type {\n",
       "        vertical-align: middle;\n",
       "    }\n",
       "\n",
       "    .dataframe tbody tr th {\n",
       "        vertical-align: top;\n",
       "    }\n",
       "\n",
       "    .dataframe thead th {\n",
       "        text-align: right;\n",
       "    }\n",
       "</style>\n",
       "<table border=\"1\" class=\"dataframe\">\n",
       "  <thead>\n",
       "    <tr style=\"text-align: right;\">\n",
       "      <th></th>\n",
       "      <th>video_id</th>\n",
       "      <th>trending_date</th>\n",
       "      <th>title</th>\n",
       "      <th>channel_title</th>\n",
       "      <th>category_id</th>\n",
       "      <th>publish_time</th>\n",
       "      <th>tags</th>\n",
       "      <th>views</th>\n",
       "      <th>likes</th>\n",
       "      <th>dislikes</th>\n",
       "      <th>comment_count</th>\n",
       "      <th>thumbnail_link</th>\n",
       "      <th>comments_disabled</th>\n",
       "      <th>ratings_disabled</th>\n",
       "      <th>video_error_or_removed</th>\n",
       "      <th>description</th>\n",
       "      <th>category_name</th>\n",
       "    </tr>\n",
       "  </thead>\n",
       "  <tbody>\n",
       "    <tr>\n",
       "      <th>19967</th>\n",
       "      <td>zzHW6gJG7W0</td>\n",
       "      <td>17.26.12</td>\n",
       "      <td>4 heftige Serien-Fehler die nicht merkwürdiger...</td>\n",
       "      <td>Jay &amp; Arya</td>\n",
       "      <td>22</td>\n",
       "      <td>2017-12-25T18:44:03.000Z</td>\n",
       "      <td>serien fehler|\"serien fehler jay und arya\"|\"fe...</td>\n",
       "      <td>283066</td>\n",
       "      <td>21263</td>\n",
       "      <td>385</td>\n",
       "      <td>752</td>\n",
       "      <td>https://i.ytimg.com/vi/zzHW6gJG7W0/default.jpg</td>\n",
       "      <td>False</td>\n",
       "      <td>False</td>\n",
       "      <td>False</td>\n",
       "      <td>DIESE SCHAUSPIELER werden unsere DISNEY-Helden...</td>\n",
       "      <td>People &amp; Blogs</td>\n",
       "    </tr>\n",
       "    <tr>\n",
       "      <th>20005</th>\n",
       "      <td>zzHW6gJG7W0</td>\n",
       "      <td>17.27.12</td>\n",
       "      <td>4 heftige Serien-Fehler die nicht merkwürdiger...</td>\n",
       "      <td>Jay &amp; Arya</td>\n",
       "      <td>22</td>\n",
       "      <td>2017-12-25T18:44:03.000Z</td>\n",
       "      <td>serien fehler|\"serien fehler jay und arya\"|\"fe...</td>\n",
       "      <td>521616</td>\n",
       "      <td>31043</td>\n",
       "      <td>951</td>\n",
       "      <td>1152</td>\n",
       "      <td>https://i.ytimg.com/vi/zzHW6gJG7W0/default.jpg</td>\n",
       "      <td>False</td>\n",
       "      <td>False</td>\n",
       "      <td>False</td>\n",
       "      <td>DIESE SCHAUSPIELER werden unsere DISNEY-Helden...</td>\n",
       "      <td>People &amp; Blogs</td>\n",
       "    </tr>\n",
       "    <tr>\n",
       "      <th>20049</th>\n",
       "      <td>zzHW6gJG7W0</td>\n",
       "      <td>17.28.12</td>\n",
       "      <td>4 heftige Serien-Fehler die nicht merkwürdiger...</td>\n",
       "      <td>Jay &amp; Arya</td>\n",
       "      <td>22</td>\n",
       "      <td>2017-12-25T18:44:03.000Z</td>\n",
       "      <td>serien fehler|\"serien fehler jay und arya\"|\"fe...</td>\n",
       "      <td>622576</td>\n",
       "      <td>34152</td>\n",
       "      <td>1200</td>\n",
       "      <td>1321</td>\n",
       "      <td>https://i.ytimg.com/vi/zzHW6gJG7W0/default.jpg</td>\n",
       "      <td>False</td>\n",
       "      <td>False</td>\n",
       "      <td>False</td>\n",
       "      <td>DIESE SCHAUSPIELER werden unsere DISNEY-Helden...</td>\n",
       "      <td>People &amp; Blogs</td>\n",
       "    </tr>\n",
       "  </tbody>\n",
       "</table>\n",
       "</div>"
      ],
      "text/plain": [
       "          video_id trending_date  \\\n",
       "19967  zzHW6gJG7W0      17.26.12   \n",
       "20005  zzHW6gJG7W0      17.27.12   \n",
       "20049  zzHW6gJG7W0      17.28.12   \n",
       "\n",
       "                                                   title channel_title  \\\n",
       "19967  4 heftige Serien-Fehler die nicht merkwürdiger...    Jay & Arya   \n",
       "20005  4 heftige Serien-Fehler die nicht merkwürdiger...    Jay & Arya   \n",
       "20049  4 heftige Serien-Fehler die nicht merkwürdiger...    Jay & Arya   \n",
       "\n",
       "       category_id              publish_time  \\\n",
       "19967           22  2017-12-25T18:44:03.000Z   \n",
       "20005           22  2017-12-25T18:44:03.000Z   \n",
       "20049           22  2017-12-25T18:44:03.000Z   \n",
       "\n",
       "                                                    tags   views  likes  \\\n",
       "19967  serien fehler|\"serien fehler jay und arya\"|\"fe...  283066  21263   \n",
       "20005  serien fehler|\"serien fehler jay und arya\"|\"fe...  521616  31043   \n",
       "20049  serien fehler|\"serien fehler jay und arya\"|\"fe...  622576  34152   \n",
       "\n",
       "       dislikes  comment_count  \\\n",
       "19967       385            752   \n",
       "20005       951           1152   \n",
       "20049      1200           1321   \n",
       "\n",
       "                                       thumbnail_link  comments_disabled  \\\n",
       "19967  https://i.ytimg.com/vi/zzHW6gJG7W0/default.jpg              False   \n",
       "20005  https://i.ytimg.com/vi/zzHW6gJG7W0/default.jpg              False   \n",
       "20049  https://i.ytimg.com/vi/zzHW6gJG7W0/default.jpg              False   \n",
       "\n",
       "       ratings_disabled  video_error_or_removed  \\\n",
       "19967             False                   False   \n",
       "20005             False                   False   \n",
       "20049             False                   False   \n",
       "\n",
       "                                             description   category_name  \n",
       "19967  DIESE SCHAUSPIELER werden unsere DISNEY-Helden...  People & Blogs  \n",
       "20005  DIESE SCHAUSPIELER werden unsere DISNEY-Helden...  People & Blogs  \n",
       "20049  DIESE SCHAUSPIELER werden unsere DISNEY-Helden...  People & Blogs  "
      ]
     },
     "execution_count": 70,
     "metadata": {},
     "output_type": "execute_result"
    }
   ],
   "source": [
    "data_test3 = data[data.video_id == 'zzHW6gJG7W0']\n",
    "data_test3"
   ]
  },
  {
   "cell_type": "markdown",
   "metadata": {},
   "source": [
    "Die Datensätze werden gespeichtert, sodass andere Notebooks auf die Datensätze zugreifen können."
   ]
  },
  {
   "cell_type": "code",
   "execution_count": 76,
   "metadata": {},
   "outputs": [
    {
     "name": "stdout",
     "output_type": "stream",
     "text": [
      "Stored 'data' (DataFrame)\n",
      "Stored 'data_once' (DataFrame)\n"
     ]
    }
   ],
   "source": [
    "%store data\n",
    "%store data_once"
   ]
  }
 ],
 "metadata": {
  "kernelspec": {
   "display_name": "Python 3",
   "language": "python",
   "name": "python3"
  },
  "language_info": {
   "codemirror_mode": {
    "name": "ipython",
    "version": 3
   },
   "file_extension": ".py",
   "mimetype": "text/x-python",
   "name": "python",
   "nbconvert_exporter": "python",
   "pygments_lexer": "ipython3",
   "version": "3.8.5"
  }
 },
 "nbformat": 4,
 "nbformat_minor": 4
}
