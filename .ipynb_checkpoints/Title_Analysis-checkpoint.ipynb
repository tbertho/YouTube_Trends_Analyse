{
 "cells": [
  {
   "cell_type": "markdown",
   "metadata": {},
   "source": [
    "Todos:\n",
    "-Caps, Länge, Cats nach Kategorieverhalten untersuchen\n",
    "\n",
    "\n",
    "\n",
    "\n",
    "\n",
    "In diesem Abschnitt sollen nun die Titel der getrendeten Youtube Videos anhand der Merkmale Länge der Titel, Anteil der Großbuchstaben sowie Anteil der Emojies genauer untersucht werden. Im Anschluss daran sollen anhand eines ...-Modells Vorhersagen getroffen werden wie ein Titel anhand der genannten Merkmale positiven bzw. negativen Einfluss generieren kann. \n",
    "\n",
    "Zunächst werden wie zuvor die Bibliotheken \"NumPy\", die Grundlage für wissenschaftliche Berechnungen in Python, und \"Pandas\", eine Programmbibliothek zur Verabeitung von Daten, importiert. \n",
    "Darüber hinaus werden in diesem Abschnitt mit Hilfe von Regex die Titel analysiert.\n"
   ]
  },
  {
   "cell_type": "code",
   "execution_count": 2,
   "metadata": {},
   "outputs": [],
   "source": [
    "import pandas as pd\n",
    "import numpy as np\n",
    "import re\n",
    "\n",
    "import matplotlib.pyplot as plt\n",
    "import seaborn as sns\n",
    "%matplotlib inline"
   ]
  },
  {
   "cell_type": "code",
   "execution_count": 3,
   "metadata": {},
   "outputs": [],
   "source": [
    "%store -r data_once"
   ]
  },
  {
   "cell_type": "code",
   "execution_count": 4,
   "metadata": {},
   "outputs": [],
   "source": [
    "#Analyse der Titel -> nochmal nachschauen wie NLP genau funktioniert\n",
    "title_df = data_once.loc[:, (\"video_id\", \"title\")]\n",
    "\n",
    "title_df[\"title_words_list\"]=title_df[\"title\"].str.split(\" \", expand = False)\n",
    "title_df[\"num_title_words\"]=title_df[\"title_words_list\"].str.len()"
   ]
  },
  {
   "cell_type": "markdown",
   "metadata": {},
   "source": [
    "### Analyse Titellänge"
   ]
  },
  {
   "cell_type": "code",
   "execution_count": 5,
   "metadata": {},
   "outputs": [
    {
     "data": {
      "text/plain": [
       "9.493763806287172"
      ]
     },
     "execution_count": 5,
     "metadata": {},
     "output_type": "execute_result"
    }
   ],
   "source": [
    "mean_title_len = title_df[\"num_title_words\"].mean()\n",
    "mean_title_len   "
   ]
  },
  {
   "cell_type": "markdown",
   "metadata": {},
   "source": [
    "Durchschnittlich haben Titel von Youtube Videos mehr als 9 Wörter."
   ]
  },
  {
   "cell_type": "code",
   "execution_count": 6,
   "metadata": {},
   "outputs": [
    {
     "data": {
      "text/html": [
       "<div>\n",
       "<style scoped>\n",
       "    .dataframe tbody tr th:only-of-type {\n",
       "        vertical-align: middle;\n",
       "    }\n",
       "\n",
       "    .dataframe tbody tr th {\n",
       "        vertical-align: top;\n",
       "    }\n",
       "\n",
       "    .dataframe thead th {\n",
       "        text-align: right;\n",
       "    }\n",
       "</style>\n",
       "<table border=\"1\" class=\"dataframe\">\n",
       "  <thead>\n",
       "    <tr style=\"text-align: right;\">\n",
       "      <th></th>\n",
       "      <th>video_id</th>\n",
       "      <th>title</th>\n",
       "      <th>title_words_list</th>\n",
       "      <th>num_title_words</th>\n",
       "    </tr>\n",
       "  </thead>\n",
       "  <tbody>\n",
       "    <tr>\n",
       "      <th>0</th>\n",
       "      <td>--7vNbh4UNA</td>\n",
       "      <td>Responding to ALL The Outrage, Ridiculous H3H3...</td>\n",
       "      <td>[Responding, to, ALL, The, Outrage,, Ridiculou...</td>\n",
       "      <td>11</td>\n",
       "    </tr>\n",
       "    <tr>\n",
       "      <th>1</th>\n",
       "      <td>--I0aj8MUdU</td>\n",
       "      <td>E diela shqiptare - Ka nje mesazh per ty! (04 ...</td>\n",
       "      <td>[E, diela, shqiptare, -, Ka, nje, mesazh, per,...</td>\n",
       "      <td>12</td>\n",
       "    </tr>\n",
       "    <tr>\n",
       "      <th>2</th>\n",
       "      <td>--MtKsH5oBY</td>\n",
       "      <td>صحفي بين سبورت يكشف تفاصيل و كواليس استقالة زي...</td>\n",
       "      <td>[صحفي, بين, سبورت, يكشف, تفاصيل, و, كواليس, اس...</td>\n",
       "      <td>13</td>\n",
       "    </tr>\n",
       "    <tr>\n",
       "      <th>3</th>\n",
       "      <td>--moh3hSPpY</td>\n",
       "      <td>Te vreau langa mine! (02.01.2018) - Editie COM...</td>\n",
       "      <td>[Te, vreau, langa, mine!, (02.01.2018), -, Edi...</td>\n",
       "      <td>8</td>\n",
       "    </tr>\n",
       "    <tr>\n",
       "      <th>4</th>\n",
       "      <td>--rE6D0_jAw</td>\n",
       "      <td>HÖR AUF DAS SCHLECHTE ZU SEHEN!</td>\n",
       "      <td>[HÖR, AUF, DAS, SCHLECHTE, ZU, SEHEN!]</td>\n",
       "      <td>6</td>\n",
       "    </tr>\n",
       "  </tbody>\n",
       "</table>\n",
       "</div>"
      ],
      "text/plain": [
       "      video_id                                              title  \\\n",
       "0  --7vNbh4UNA  Responding to ALL The Outrage, Ridiculous H3H3...   \n",
       "1  --I0aj8MUdU  E diela shqiptare - Ka nje mesazh per ty! (04 ...   \n",
       "2  --MtKsH5oBY  صحفي بين سبورت يكشف تفاصيل و كواليس استقالة زي...   \n",
       "3  --moh3hSPpY  Te vreau langa mine! (02.01.2018) - Editie COM...   \n",
       "4  --rE6D0_jAw                    HÖR AUF DAS SCHLECHTE ZU SEHEN!   \n",
       "\n",
       "                                    title_words_list  num_title_words  \n",
       "0  [Responding, to, ALL, The, Outrage,, Ridiculou...               11  \n",
       "1  [E, diela, shqiptare, -, Ka, nje, mesazh, per,...               12  \n",
       "2  [صحفي, بين, سبورت, يكشف, تفاصيل, و, كواليس, اس...               13  \n",
       "3  [Te, vreau, langa, mine!, (02.01.2018), -, Edi...                8  \n",
       "4             [HÖR, AUF, DAS, SCHLECHTE, ZU, SEHEN!]                6  "
      ]
     },
     "execution_count": 6,
     "metadata": {},
     "output_type": "execute_result"
    }
   ],
   "source": [
    "title_df.head()"
   ]
  },
  {
   "cell_type": "code",
   "execution_count": 7,
   "metadata": {},
   "outputs": [
    {
     "data": {
      "text/plain": [
       "count    29425.000000\n",
       "mean         9.493764\n",
       "std          3.915707\n",
       "min          1.000000\n",
       "25%          7.000000\n",
       "50%          9.000000\n",
       "75%         12.000000\n",
       "max         28.000000\n",
       "Name: num_title_words, dtype: float64"
      ]
     },
     "execution_count": 7,
     "metadata": {},
     "output_type": "execute_result"
    }
   ],
   "source": [
    "title_df.num_title_words.describe()"
   ]
  },
  {
   "cell_type": "code",
   "execution_count": 13,
   "metadata": {},
   "outputs": [
    {
     "data": {
      "text/plain": [
       "'HDMONA - ንጓል ክሻ ሓሶት ወይ ..  ብ ዳኒኤል  (ጂጂ)   Ngal Ksha Hsot wey ..  by  jiji - New Eritrean Comedy 2018'"
      ]
     },
     "execution_count": 13,
     "metadata": {},
     "output_type": "execute_result"
    }
   ],
   "source": [
    "title_df[title_df['num_title_words']==28]['title'].iloc[1]"
   ]
  },
  {
   "cell_type": "code",
   "execution_count": 10,
   "metadata": {},
   "outputs": [
    {
     "data": {
      "text/plain": [
       "'Respekt'"
      ]
     },
     "execution_count": 10,
     "metadata": {},
     "output_type": "execute_result"
    }
   ],
   "source": [
    "title_df[title_df['num_title_words']==1]['title'].iloc[1]"
   ]
  },
  {
   "cell_type": "code",
   "execution_count": null,
   "metadata": {},
   "outputs": [],
   "source": [
    "%store title_df"
   ]
  },
  {
   "cell_type": "code",
   "execution_count": 8,
   "metadata": {},
   "outputs": [
    {
     "data": {
      "text/plain": [
       "<matplotlib.legend.Legend at 0x2937bdec910>"
      ]
     },
     "execution_count": 8,
     "metadata": {},
     "output_type": "execute_result"
    },
    {
     "data": {
      "image/png": "[encoded data removed]",
      "text/plain": [
       "<Figure size 432x288 with 1 Axes>"
      ]
     },
     "metadata": {
      "needs_background": "light"
     },
     "output_type": "display_data"
    }
   ],
   "source": [
    "groups_length = title_df.groupby('num_title_words').count()\n",
    "exclude1 = ['title','title_words_list', 'num_title_words', 'emoji']\n",
    "exclude2 = ['title','title_words_list', 'num_title_words']\n",
    "graph7 = groups_length.loc[:, groups_length.columns.difference(exclude1)].plot(kind = 'bar', colormap = 'jet', \n",
    "                                                                   title='Anzahl Videos mit Länge der Titel') \n",
    "graph7.set_xlabel(\"Anzahl Wörter\")\n",
    "graph7.set_ylabel(\"Anzahl Videos\")\n",
    "graph7.legend([\"Videos\"])"
   ]
  },
  {
   "cell_type": "code",
   "execution_count": 9,
   "metadata": {},
   "outputs": [
    {
     "data": {
      "text/plain": [
       "<matplotlib.legend.Legend at 0x293026c4790>"
      ]
     },
     "execution_count": 9,
     "metadata": {},
     "output_type": "execute_result"
    },
    {
     "data": {
      "image/png": "[encoded data removed]",
      "text/plain": [
       "<Figure size 432x288 with 1 Axes>"
      ]
     },
     "metadata": {
      "needs_background": "light"
     },
     "output_type": "display_data"
    }
   ],
   "source": [
    "graph8 = groups_length.loc[:, groups_length.columns.difference(exclude2)].plot(kind = 'bar', colormap = 'jet', \n",
    "                                                                   title='Anzahl Videos mit Länge der Titel') \n",
    "graph8.set_xlabel(\"Anzahl Wörter\")\n",
    "graph8.set_ylabel(\"Anzahl Videos\")\n",
    "graph8.legend([\"Videos\", \"Emojies\"])"
   ]
  },
  {
   "cell_type": "code",
   "execution_count": null,
   "metadata": {},
   "outputs": [],
   "source": []
  },
  {
   "cell_type": "code",
   "execution_count": 10,
   "metadata": {},
   "outputs": [
    {
     "data": {
      "text/html": [
       "<div>\n",
       "<style scoped>\n",
       "    .dataframe tbody tr th:only-of-type {\n",
       "        vertical-align: middle;\n",
       "    }\n",
       "\n",
       "    .dataframe tbody tr th {\n",
       "        vertical-align: top;\n",
       "    }\n",
       "\n",
       "    .dataframe thead th {\n",
       "        text-align: right;\n",
       "    }\n",
       "</style>\n",
       "<table border=\"1\" class=\"dataframe\">\n",
       "  <thead>\n",
       "    <tr style=\"text-align: right;\">\n",
       "      <th></th>\n",
       "      <th>video_id</th>\n",
       "      <th>title</th>\n",
       "      <th>title_words_list</th>\n",
       "      <th>num_title_words</th>\n",
       "      <th>views</th>\n",
       "      <th>likes</th>\n",
       "      <th>dislikes</th>\n",
       "      <th>comment_count</th>\n",
       "      <th>category_name</th>\n",
       "    </tr>\n",
       "  </thead>\n",
       "  <tbody>\n",
       "    <tr>\n",
       "      <th>0</th>\n",
       "      <td>--7vNbh4UNA</td>\n",
       "      <td>Responding to ALL The Outrage, Ridiculous H3H3...</td>\n",
       "      <td>[Responding, to, ALL, The, Outrage,, Ridiculou...</td>\n",
       "      <td>11</td>\n",
       "      <td>1082647</td>\n",
       "      <td>52113</td>\n",
       "      <td>1284</td>\n",
       "      <td>10602</td>\n",
       "      <td>News &amp; Politics</td>\n",
       "    </tr>\n",
       "    <tr>\n",
       "      <th>1</th>\n",
       "      <td>--I0aj8MUdU</td>\n",
       "      <td>E diela shqiptare - Ka nje mesazh per ty! (04 ...</td>\n",
       "      <td>[E, diela, shqiptare, -, Ka, nje, mesazh, per,...</td>\n",
       "      <td>12</td>\n",
       "      <td>139025</td>\n",
       "      <td>490</td>\n",
       "      <td>78</td>\n",
       "      <td>22</td>\n",
       "      <td>Entertainment</td>\n",
       "    </tr>\n",
       "    <tr>\n",
       "      <th>2</th>\n",
       "      <td>--MtKsH5oBY</td>\n",
       "      <td>صحفي بين سبورت يكشف تفاصيل و كواليس استقالة زي...</td>\n",
       "      <td>[صحفي, بين, سبورت, يكشف, تفاصيل, و, كواليس, اس...</td>\n",
       "      <td>13</td>\n",
       "      <td>225445</td>\n",
       "      <td>2156</td>\n",
       "      <td>227</td>\n",
       "      <td>562</td>\n",
       "      <td>Sports</td>\n",
       "    </tr>\n",
       "    <tr>\n",
       "      <th>3</th>\n",
       "      <td>--moh3hSPpY</td>\n",
       "      <td>Te vreau langa mine! (02.01.2018) - Editie COM...</td>\n",
       "      <td>[Te, vreau, langa, mine!, (02.01.2018), -, Edi...</td>\n",
       "      <td>8</td>\n",
       "      <td>17050</td>\n",
       "      <td>100</td>\n",
       "      <td>32</td>\n",
       "      <td>74</td>\n",
       "      <td>Entertainment</td>\n",
       "    </tr>\n",
       "    <tr>\n",
       "      <th>4</th>\n",
       "      <td>--rE6D0_jAw</td>\n",
       "      <td>HÖR AUF DAS SCHLECHTE ZU SEHEN!</td>\n",
       "      <td>[HÖR, AUF, DAS, SCHLECHTE, ZU, SEHEN!]</td>\n",
       "      <td>6</td>\n",
       "      <td>5406</td>\n",
       "      <td>964</td>\n",
       "      <td>4</td>\n",
       "      <td>191</td>\n",
       "      <td>Entertainment</td>\n",
       "    </tr>\n",
       "  </tbody>\n",
       "</table>\n",
       "</div>"
      ],
      "text/plain": [
       "      video_id                                              title  \\\n",
       "0  --7vNbh4UNA  Responding to ALL The Outrage, Ridiculous H3H3...   \n",
       "1  --I0aj8MUdU  E diela shqiptare - Ka nje mesazh per ty! (04 ...   \n",
       "2  --MtKsH5oBY  صحفي بين سبورت يكشف تفاصيل و كواليس استقالة زي...   \n",
       "3  --moh3hSPpY  Te vreau langa mine! (02.01.2018) - Editie COM...   \n",
       "4  --rE6D0_jAw                    HÖR AUF DAS SCHLECHTE ZU SEHEN!   \n",
       "\n",
       "                                    title_words_list  num_title_words  \\\n",
       "0  [Responding, to, ALL, The, Outrage,, Ridiculou...               11   \n",
       "1  [E, diela, shqiptare, -, Ka, nje, mesazh, per,...               12   \n",
       "2  [صحفي, بين, سبورت, يكشف, تفاصيل, و, كواليس, اس...               13   \n",
       "3  [Te, vreau, langa, mine!, (02.01.2018), -, Edi...                8   \n",
       "4             [HÖR, AUF, DAS, SCHLECHTE, ZU, SEHEN!]                6   \n",
       "\n",
       "     views  likes  dislikes  comment_count    category_name  \n",
       "0  1082647  52113      1284          10602  News & Politics  \n",
       "1   139025    490        78             22    Entertainment  \n",
       "2   225445   2156       227            562           Sports  \n",
       "3    17050    100        32             74    Entertainment  \n",
       "4     5406    964         4            191    Entertainment  "
      ]
     },
     "execution_count": 10,
     "metadata": {},
     "output_type": "execute_result"
    }
   ],
   "source": [
    "df3 =pd.merge(title_df, data_once.iloc[:,[0,8,9,10,11,16]], how ='left', on='video_id')\n",
    "df3.head()"
   ]
  },
  {
   "cell_type": "code",
   "execution_count": null,
   "metadata": {},
   "outputs": [],
   "source": [
    "#groups_length2 = df3.groupby(['num_title_words', 'category_name']).size()"
   ]
  },
  {
   "cell_type": "code",
   "execution_count": 23,
   "metadata": {},
   "outputs": [],
   "source": [
    "category_array = pd.unique(df3['category_name'])"
   ]
  },
  {
   "cell_type": "code",
   "execution_count": 19,
   "metadata": {},
   "outputs": [
    {
     "data": {
      "text/html": [
       "<div>\n",
       "<style scoped>\n",
       "    .dataframe tbody tr th:only-of-type {\n",
       "        vertical-align: middle;\n",
       "    }\n",
       "\n",
       "    .dataframe tbody tr th {\n",
       "        vertical-align: top;\n",
       "    }\n",
       "\n",
       "    .dataframe thead th {\n",
       "        text-align: right;\n",
       "    }\n",
       "</style>\n",
       "<table border=\"1\" class=\"dataframe\">\n",
       "  <thead>\n",
       "    <tr style=\"text-align: right;\">\n",
       "      <th></th>\n",
       "      <th>video_id</th>\n",
       "      <th>title</th>\n",
       "      <th>title_words_list</th>\n",
       "      <th>num_title_words</th>\n",
       "      <th>views</th>\n",
       "      <th>likes</th>\n",
       "      <th>dislikes</th>\n",
       "      <th>comment_count</th>\n",
       "      <th>category_name</th>\n",
       "    </tr>\n",
       "  </thead>\n",
       "  <tbody>\n",
       "    <tr>\n",
       "      <th>0</th>\n",
       "      <td>--7vNbh4UNA</td>\n",
       "      <td>Responding to ALL The Outrage, Ridiculous H3H3...</td>\n",
       "      <td>[Responding, to, ALL, The, Outrage,, Ridiculou...</td>\n",
       "      <td>11</td>\n",
       "      <td>1082647</td>\n",
       "      <td>52113</td>\n",
       "      <td>1284</td>\n",
       "      <td>10602</td>\n",
       "      <td>News &amp; Politics</td>\n",
       "    </tr>\n",
       "    <tr>\n",
       "      <th>9</th>\n",
       "      <td>-0H6tlSzP9M</td>\n",
       "      <td>Mamoudou Gassama, le Malien ayant sauvé un enf...</td>\n",
       "      <td>[Mamoudou, Gassama,, le, Malien, ayant, sauvé,...</td>\n",
       "      <td>13</td>\n",
       "      <td>494874</td>\n",
       "      <td>7301</td>\n",
       "      <td>487</td>\n",
       "      <td>1706</td>\n",
       "      <td>News &amp; Politics</td>\n",
       "    </tr>\n",
       "    <tr>\n",
       "      <th>10</th>\n",
       "      <td>-0NhqVYR4UY</td>\n",
       "      <td>President Donald Trump Governing Like 'Mean Gi...</td>\n",
       "      <td>[President, Donald, Trump, Governing, Like, 'M...</td>\n",
       "      <td>13</td>\n",
       "      <td>147706</td>\n",
       "      <td>1162</td>\n",
       "      <td>74</td>\n",
       "      <td>591</td>\n",
       "      <td>News &amp; Politics</td>\n",
       "    </tr>\n",
       "    <tr>\n",
       "      <th>22</th>\n",
       "      <td>-22GevpL5wk</td>\n",
       "      <td>Die Smartphone-LÜGE</td>\n",
       "      <td>[Die, Smartphone-LÜGE]</td>\n",
       "      <td>2</td>\n",
       "      <td>35482</td>\n",
       "      <td>1798</td>\n",
       "      <td>146</td>\n",
       "      <td>339</td>\n",
       "      <td>News &amp; Politics</td>\n",
       "    </tr>\n",
       "    <tr>\n",
       "      <th>23</th>\n",
       "      <td>-2XKIGrAisA</td>\n",
       "      <td>03.02.2018 Cottbus. Mehre 1000ende bei der fri...</td>\n",
       "      <td>[03.02.2018, Cottbus., Mehre, 1000ende, bei, d...</td>\n",
       "      <td>11</td>\n",
       "      <td>24067</td>\n",
       "      <td>915</td>\n",
       "      <td>15</td>\n",
       "      <td>361</td>\n",
       "      <td>News &amp; Politics</td>\n",
       "    </tr>\n",
       "    <tr>\n",
       "      <th>...</th>\n",
       "      <td>...</td>\n",
       "      <td>...</td>\n",
       "      <td>...</td>\n",
       "      <td>...</td>\n",
       "      <td>...</td>\n",
       "      <td>...</td>\n",
       "      <td>...</td>\n",
       "      <td>...</td>\n",
       "      <td>...</td>\n",
       "    </tr>\n",
       "    <tr>\n",
       "      <th>29370</th>\n",
       "      <td>zqhMWtyylok</td>\n",
       "      <td>Michael Friedrich Vogt - Neuigkeiten: Langsam ...</td>\n",
       "      <td>[Michael, Friedrich, Vogt, -, Neuigkeiten:, La...</td>\n",
       "      <td>8</td>\n",
       "      <td>45256</td>\n",
       "      <td>3480</td>\n",
       "      <td>24</td>\n",
       "      <td>604</td>\n",
       "      <td>News &amp; Politics</td>\n",
       "    </tr>\n",
       "    <tr>\n",
       "      <th>29386</th>\n",
       "      <td>ztpQS51uTJM</td>\n",
       "      <td>Befragung der Bundeskanzlerin: Angela Merkel s...</td>\n",
       "      <td>[Befragung, der, Bundeskanzlerin:, Angela, Mer...</td>\n",
       "      <td>12</td>\n",
       "      <td>36046</td>\n",
       "      <td>279</td>\n",
       "      <td>123</td>\n",
       "      <td>0</td>\n",
       "      <td>News &amp; Politics</td>\n",
       "    </tr>\n",
       "    <tr>\n",
       "      <th>29393</th>\n",
       "      <td>zuDrNSxOEXc</td>\n",
       "      <td>60 минут по горячим следам от 06.06.2018</td>\n",
       "      <td>[60, минут, по, горячим, следам, от, 06.06.2018]</td>\n",
       "      <td>7</td>\n",
       "      <td>62843</td>\n",
       "      <td>450</td>\n",
       "      <td>391</td>\n",
       "      <td>449</td>\n",
       "      <td>News &amp; Politics</td>\n",
       "    </tr>\n",
       "    <tr>\n",
       "      <th>29413</th>\n",
       "      <td>zy9mKHH0ZQY</td>\n",
       "      <td>Вечер с Владимиром Соловьевым от 08.02.18</td>\n",
       "      <td>[Вечер, с, Владимиром, Соловьевым, от, 08.02.18]</td>\n",
       "      <td>6</td>\n",
       "      <td>47403</td>\n",
       "      <td>1270</td>\n",
       "      <td>499</td>\n",
       "      <td>693</td>\n",
       "      <td>News &amp; Politics</td>\n",
       "    </tr>\n",
       "    <tr>\n",
       "      <th>29415</th>\n",
       "      <td>zyH5x08KdzA</td>\n",
       "      <td>Срочно!! ответ Путина про УKPAИHУ заставил зал...</td>\n",
       "      <td>[Срочно!!, ответ, Путина, про, УKPAИHУ, застав...</td>\n",
       "      <td>8</td>\n",
       "      <td>287891</td>\n",
       "      <td>0</td>\n",
       "      <td>0</td>\n",
       "      <td>945</td>\n",
       "      <td>News &amp; Politics</td>\n",
       "    </tr>\n",
       "  </tbody>\n",
       "</table>\n",
       "<p>2369 rows × 9 columns</p>\n",
       "</div>"
      ],
      "text/plain": [
       "          video_id                                              title  \\\n",
       "0      --7vNbh4UNA  Responding to ALL The Outrage, Ridiculous H3H3...   \n",
       "9      -0H6tlSzP9M  Mamoudou Gassama, le Malien ayant sauvé un enf...   \n",
       "10     -0NhqVYR4UY  President Donald Trump Governing Like 'Mean Gi...   \n",
       "22     -22GevpL5wk                                Die Smartphone-LÜGE   \n",
       "23     -2XKIGrAisA  03.02.2018 Cottbus. Mehre 1000ende bei der fri...   \n",
       "...            ...                                                ...   \n",
       "29370  zqhMWtyylok  Michael Friedrich Vogt - Neuigkeiten: Langsam ...   \n",
       "29386  ztpQS51uTJM  Befragung der Bundeskanzlerin: Angela Merkel s...   \n",
       "29393  zuDrNSxOEXc           60 минут по горячим следам от 06.06.2018   \n",
       "29413  zy9mKHH0ZQY          Вечер с Владимиром Соловьевым от 08.02.18   \n",
       "29415  zyH5x08KdzA  Срочно!! ответ Путина про УKPAИHУ заставил зал...   \n",
       "\n",
       "                                        title_words_list  num_title_words  \\\n",
       "0      [Responding, to, ALL, The, Outrage,, Ridiculou...               11   \n",
       "9      [Mamoudou, Gassama,, le, Malien, ayant, sauvé,...               13   \n",
       "10     [President, Donald, Trump, Governing, Like, 'M...               13   \n",
       "22                                [Die, Smartphone-LÜGE]                2   \n",
       "23     [03.02.2018, Cottbus., Mehre, 1000ende, bei, d...               11   \n",
       "...                                                  ...              ...   \n",
       "29370  [Michael, Friedrich, Vogt, -, Neuigkeiten:, La...                8   \n",
       "29386  [Befragung, der, Bundeskanzlerin:, Angela, Mer...               12   \n",
       "29393   [60, минут, по, горячим, следам, от, 06.06.2018]                7   \n",
       "29413   [Вечер, с, Владимиром, Соловьевым, от, 08.02.18]                6   \n",
       "29415  [Срочно!!, ответ, Путина, про, УKPAИHУ, застав...                8   \n",
       "\n",
       "         views  likes  dislikes  comment_count    category_name  \n",
       "0      1082647  52113      1284          10602  News & Politics  \n",
       "9       494874   7301       487           1706  News & Politics  \n",
       "10      147706   1162        74            591  News & Politics  \n",
       "22       35482   1798       146            339  News & Politics  \n",
       "23       24067    915        15            361  News & Politics  \n",
       "...        ...    ...       ...            ...              ...  \n",
       "29370    45256   3480        24            604  News & Politics  \n",
       "29386    36046    279       123              0  News & Politics  \n",
       "29393    62843    450       391            449  News & Politics  \n",
       "29413    47403   1270       499            693  News & Politics  \n",
       "29415   287891      0         0            945  News & Politics  \n",
       "\n",
       "[2369 rows x 9 columns]"
      ]
     },
     "execution_count": 19,
     "metadata": {},
     "output_type": "execute_result"
    }
   ],
   "source": [
    "df3.groupby('category_name').get_group(\"News & Politics\")"
   ]
  },
  {
   "cell_type": "code",
   "execution_count": 16,
   "metadata": {},
   "outputs": [
    {
     "ename": "KeyError",
     "evalue": "1",
     "output_type": "error",
     "traceback": [
      "\u001b[1;31m---------------------------------------------------------------------------\u001b[0m",
      "\u001b[1;31mKeyError\u001b[0m                                  Traceback (most recent call last)",
      "\u001b[1;32m<ipython-input-16-47ec163879c3>\u001b[0m in \u001b[0;36m<module>\u001b[1;34m\u001b[0m\n\u001b[0;32m      2\u001b[0m \u001b[1;33m\u001b[0m\u001b[0m\n\u001b[0;32m      3\u001b[0m \u001b[1;32mfor\u001b[0m \u001b[0mn\u001b[0m \u001b[1;32min\u001b[0m \u001b[0mrange\u001b[0m\u001b[1;33m(\u001b[0m\u001b[1;36m1\u001b[0m\u001b[1;33m,\u001b[0m\u001b[1;36m18\u001b[0m\u001b[1;33m)\u001b[0m\u001b[1;33m:\u001b[0m\u001b[1;33m\u001b[0m\u001b[1;33m\u001b[0m\u001b[0m\n\u001b[1;32m----> 4\u001b[1;33m     \u001b[0mgroup4\u001b[0m \u001b[1;33m=\u001b[0m \u001b[0mdf3\u001b[0m\u001b[1;33m.\u001b[0m\u001b[0mgroupby\u001b[0m\u001b[1;33m(\u001b[0m\u001b[1;34m'category_name'\u001b[0m\u001b[1;33m)\u001b[0m\u001b[1;33m.\u001b[0m\u001b[0mget_group\u001b[0m\u001b[1;33m(\u001b[0m\u001b[0mn\u001b[0m\u001b[1;33m)\u001b[0m\u001b[1;33m\u001b[0m\u001b[1;33m\u001b[0m\u001b[0m\n\u001b[0m\u001b[0;32m      5\u001b[0m     \u001b[1;31m#g_words = group4['num_title_words'].mean()\u001b[0m\u001b[1;33m\u001b[0m\u001b[1;33m\u001b[0m\u001b[1;33m\u001b[0m\u001b[0m\n\u001b[0;32m      6\u001b[0m     \u001b[1;31m#vals_words.append(g_words)\u001b[0m\u001b[1;33m\u001b[0m\u001b[1;33m\u001b[0m\u001b[1;33m\u001b[0m\u001b[0m\n",
      "\u001b[1;32m~\\anaconda3\\lib\\site-packages\\pandas\\core\\groupby\\groupby.py\u001b[0m in \u001b[0;36mget_group\u001b[1;34m(self, name, obj)\u001b[0m\n\u001b[0;32m    843\u001b[0m         \u001b[0minds\u001b[0m \u001b[1;33m=\u001b[0m \u001b[0mself\u001b[0m\u001b[1;33m.\u001b[0m\u001b[0m_get_index\u001b[0m\u001b[1;33m(\u001b[0m\u001b[0mname\u001b[0m\u001b[1;33m)\u001b[0m\u001b[1;33m\u001b[0m\u001b[1;33m\u001b[0m\u001b[0m\n\u001b[0;32m    844\u001b[0m         \u001b[1;32mif\u001b[0m \u001b[1;32mnot\u001b[0m \u001b[0mlen\u001b[0m\u001b[1;33m(\u001b[0m\u001b[0minds\u001b[0m\u001b[1;33m)\u001b[0m\u001b[1;33m:\u001b[0m\u001b[1;33m\u001b[0m\u001b[1;33m\u001b[0m\u001b[0m\n\u001b[1;32m--> 845\u001b[1;33m             \u001b[1;32mraise\u001b[0m \u001b[0mKeyError\u001b[0m\u001b[1;33m(\u001b[0m\u001b[0mname\u001b[0m\u001b[1;33m)\u001b[0m\u001b[1;33m\u001b[0m\u001b[1;33m\u001b[0m\u001b[0m\n\u001b[0m\u001b[0;32m    846\u001b[0m \u001b[1;33m\u001b[0m\u001b[0m\n\u001b[0;32m    847\u001b[0m         \u001b[1;32mreturn\u001b[0m \u001b[0mobj\u001b[0m\u001b[1;33m.\u001b[0m\u001b[0m_take_with_is_copy\u001b[0m\u001b[1;33m(\u001b[0m\u001b[0minds\u001b[0m\u001b[1;33m,\u001b[0m \u001b[0maxis\u001b[0m\u001b[1;33m=\u001b[0m\u001b[0mself\u001b[0m\u001b[1;33m.\u001b[0m\u001b[0maxis\u001b[0m\u001b[1;33m)\u001b[0m\u001b[1;33m\u001b[0m\u001b[1;33m\u001b[0m\u001b[0m\n",
      "\u001b[1;31mKeyError\u001b[0m: 1"
     ]
    }
   ],
   "source": [
    "vals_words = []\n",
    "\n",
    "for n in range(1,18):\n",
    "    group4 = df3.groupby('category_name').get_group(n)\n",
    "    #g_words = group4['num_title_words'].mean()\n",
    "    #vals_words.append(g_words)\n",
    "\n"
   ]
  },
  {
   "cell_type": "code",
   "execution_count": null,
   "metadata": {},
   "outputs": [],
   "source": [
    "df3.category_name.unique()"
   ]
  },
  {
   "cell_type": "code",
   "execution_count": null,
   "metadata": {},
   "outputs": [],
   "source": []
  },
  {
   "cell_type": "code",
   "execution_count": null,
   "metadata": {},
   "outputs": [],
   "source": []
  },
  {
   "cell_type": "code",
   "execution_count": null,
   "metadata": {},
   "outputs": [],
   "source": []
  },
  {
   "cell_type": "code",
   "execution_count": null,
   "metadata": {},
   "outputs": [],
   "source": []
  },
  {
   "cell_type": "code",
   "execution_count": null,
   "metadata": {},
   "outputs": [],
   "source": []
  },
  {
   "cell_type": "code",
   "execution_count": null,
   "metadata": {},
   "outputs": [],
   "source": []
  },
  {
   "cell_type": "code",
   "execution_count": null,
   "metadata": {},
   "outputs": [],
   "source": [
    "vals_views = []\n",
    "vals_likes = []\n",
    "vals_dislikes = []\n",
    "vals_comments = []\n",
    "\n",
    "for n in range(1,29):\n",
    "    group3 = df3.groupby('num_title_words').get_group(n)\n",
    "    g_views = group3['views'].mean()\n",
    "    g_likes = group3['likes'].mean()\n",
    "    g_dislikes = group3['dislikes'].mean()\n",
    "    g_comments = group3['comment_count'].mean()\n",
    "    vals_views.append(g_views)\n",
    "    vals_likes.append(g_likes)\n",
    "    vals_dislikes.append(g_dislikes)\n",
    "    vals_comments.append(g_comments)"
   ]
  },
  {
   "cell_type": "code",
   "execution_count": null,
   "metadata": {},
   "outputs": [],
   "source": [
    "plt.plot(vals_views)\n",
    "plt.xlabel(\"Klassifizierung der Großbuchstaben\")\n",
    "plt.ylabel(\"Anzahl durchschnittliche Views\")\n",
    "plt.title(\"Visualisierung durchschnittliche Views mit der zugehörigen Klassifizierung\")\n",
    "\n",
    "\n",
    "### hier aufpassen - ist der Sinn gegeben? -> wenn nur ein Video mit 28 Wörtern vorkommt zieht das automatisch Schnitt nach oben!"
   ]
  },
  {
   "cell_type": "code",
   "execution_count": null,
   "metadata": {},
   "outputs": [],
   "source": [
    "plt.plot(vals_likes)\n",
    "plt.plot(vals_dislikes)\n",
    "plt.plot(vals_comments)\n",
    "plt.xlabel(\"Klassifizierung der Großbuchstaben\")\n",
    "plt.ylabel(\"Anzahl durchschnittliche Views\")\n",
    "plt.title(\"Visualisierung durchschnittliche Views mit der zugehörigen Klassifizierung\")"
   ]
  },
  {
   "cell_type": "code",
   "execution_count": null,
   "metadata": {},
   "outputs": [],
   "source": []
  },
  {
   "cell_type": "markdown",
   "metadata": {},
   "source": [
    "### Analyse Emojis"
   ]
  },
  {
   "cell_type": "code",
   "execution_count": null,
   "metadata": {},
   "outputs": [],
   "source": [
    "emoji_pattern = re.compile(\"[\"\n",
    "        u\"\\U0001F600-\\U0001F64F\"  # emoticons\n",
    "        u\"\\U0001F300-\\U0001F5FF\"  # symbols & pictographs\n",
    "        u\"\\U0001F680-\\U0001F6FF\"  # transport & map symbols\n",
    "        u\"\\U0001F1E0-\\U0001F1FF\"  # flags (iOS)\n",
    "                           \"]+\", flags=re.UNICODE)"
   ]
  },
  {
   "cell_type": "code",
   "execution_count": null,
   "metadata": {},
   "outputs": [],
   "source": [
    "title_df['emoji'] = None\n",
    "index_title = title_df.columns.get_loc('title')\n",
    "index_emoji = title_df.columns.get_loc('emoji')"
   ]
  },
  {
   "cell_type": "code",
   "execution_count": null,
   "metadata": {},
   "outputs": [],
   "source": [
    "def getEmojies(content, row):\n",
    "    #for element in content.loc[row, 'title']:\n",
    "        emo = re.search(emoji_pattern, content.iat[row, index_title])    \n",
    "        if emo is None:\n",
    "            return None\n",
    "        content.iat[row, index_emoji] = emo.group()\n",
    "\n",
    "for row in range(0, len(title_df)):\n",
    "    getEmojies(title_df, row)"
   ]
  },
  {
   "cell_type": "code",
   "execution_count": null,
   "metadata": {},
   "outputs": [],
   "source": [
    "only_emoji_df = title_df.loc[:, (\"video_id\", \"title\", \"emoji\")]\n",
    "only_emoji_df[\"num_emoji\"] = only_emoji_df[\"emoji\"].str.len()\n",
    "only_emoji_df[\"num_emoji\"].fillna(0, inplace = True)\n",
    "only_emoji_df['num_emoji'] = only_emoji_df['num_emoji'].apply(np.int64)\n",
    "only_emoji_df['emoji_flag'] = np.where(only_emoji_df['num_emoji']!= 0, True, False)"
   ]
  },
  {
   "cell_type": "code",
   "execution_count": null,
   "metadata": {},
   "outputs": [],
   "source": [
    "only_emoji_df['num_emoji'].mean()"
   ]
  },
  {
   "cell_type": "code",
   "execution_count": null,
   "metadata": {},
   "outputs": [],
   "source": [
    "#only_emoji_df.head(49)"
   ]
  },
  {
   "cell_type": "code",
   "execution_count": null,
   "metadata": {},
   "outputs": [],
   "source": [
    "groups_emoji = only_emoji_df.groupby('num_emoji').count()\n",
    "exclude = ['video_id','emoji','emoji_flag']\n",
    "graph = groups_emoji.loc[:, groups_emoji.columns.difference(exclude)].plot(colormap = 'jet', \n",
    "                                                                   title='Anzahl Videos mit und ohne Emojies')\n",
    "graph.set_xlabel(\"Anzahl Emojies\")\n",
    "graph.set_ylabel(\"Anzahl Videos\")\n",
    "graph.legend([\"Videos\"])\n",
    "bottom,top= plt.ylim()  ##???\n",
    "\n",
    "print(\"Top value:\",top)\n",
    "print(\"Lowest value:\", bottom)"
   ]
  },
  {
   "cell_type": "code",
   "execution_count": null,
   "metadata": {},
   "outputs": [],
   "source": [
    "groups_emoji = only_emoji_df.groupby('num_emoji').count()\n",
    "exclude = ['video_id','emoji','emoji_flag']\n",
    "graph2 = groups_emoji.loc[:, groups_emoji.columns.difference(exclude)].plot(kind = 'bar', colormap = 'jet', \n",
    "                                                                   title='Anzahl Videos mit und ohne Emojies') \n",
    "graph2.set_xlabel(\"Anzahl Emojies\")\n",
    "graph2.set_ylabel(\"Anzahl Videos\")\n",
    "graph2.legend([\"Videos\"])\n",
    "bottom,top= plt.ylim()  ##???\n",
    "\n",
    "print(\"Top value:\",top)\n",
    "print(\"Lowest value:\", bottom)"
   ]
  },
  {
   "cell_type": "code",
   "execution_count": null,
   "metadata": {},
   "outputs": [],
   "source": [
    "df=pd.merge(title_df, only_emoji_df.iloc[:, [0,3,4]], how ='left', on='video_id')"
   ]
  },
  {
   "cell_type": "code",
   "execution_count": null,
   "metadata": {},
   "outputs": [],
   "source": [
    "df2 =pd.merge(df, data_once.iloc[:,[0,8,9,10,16]], how ='left', on='video_id')\n",
    "df2.head()"
   ]
  },
  {
   "cell_type": "code",
   "execution_count": null,
   "metadata": {},
   "outputs": [],
   "source": [
    "vals_emojis = []\n",
    "\n",
    "for n in range(0,7):\n",
    "    group = df2.groupby('num_emoji').get_group(n)\n",
    "    val = group['views'].mean()\n",
    "    vals_emojis.append(val)"
   ]
  },
  {
   "cell_type": "code",
   "execution_count": null,
   "metadata": {},
   "outputs": [],
   "source": [
    "plt.plot(vals_emojis, \"g-\") #g ist der Parameter für grüne Farbe\n",
    "plt.xlabel(\"Anzahl Emojies\")\n",
    "plt.ylabel(\"Anzahl durchschnittliche Views\")\n",
    "plt.title(\"Visualisierung durchschnittliche Views mit der zugehörigen Anzahl Emojies\")"
   ]
  },
  {
   "cell_type": "code",
   "execution_count": null,
   "metadata": {},
   "outputs": [],
   "source": [
    "graph3 = df2.plot.scatter(x=\"num_emoji\", y=\"views\")\n",
    "graph3.set_xlabel(\"Anzahl Emojies\")\n",
    "graph3.set_ylabel(\"Anzahl Views\")\n",
    "graph3.set_ylim([0, 1000000])\n",
    "#hier noch iwi auf durschnittlichen Views runterbrechen - weiß nicht ob die Aussage so von Wert ist mit dem plot unten"
   ]
  },
  {
   "cell_type": "markdown",
   "metadata": {},
   "source": [
    "Reminder: Verhalten Emojies mit Kategorien noch untersuchen"
   ]
  },
  {
   "cell_type": "markdown",
   "metadata": {},
   "source": [
    "### Analyse der Großbuchstaben"
   ]
  },
  {
   "cell_type": "code",
   "execution_count": null,
   "metadata": {},
   "outputs": [],
   "source": [
    "cap_df = title_df.iloc[:, [0,1]]"
   ]
  },
  {
   "cell_type": "code",
   "execution_count": null,
   "metadata": {},
   "outputs": [],
   "source": [
    "s = cap_df['title']\n",
    "s = s.str.len() - s.str.count(\" \")\n",
    "cap_df = cap_df.merge(s.rename('num_char'), left_index=True, right_index=True)"
   ]
  },
  {
   "cell_type": "code",
   "execution_count": null,
   "metadata": {},
   "outputs": [],
   "source": [
    "cap_pattern = r'([A-ZÄÖÜ])'"
   ]
  },
  {
   "cell_type": "code",
   "execution_count": null,
   "metadata": {},
   "outputs": [],
   "source": [
    "cap_df['cap_list'] = None\n",
    "index_title = cap_df.columns.get_loc('title')\n",
    "index_cap_list = cap_df.columns.get_loc('cap_list')\n",
    "cap_df.info()"
   ]
  },
  {
   "cell_type": "code",
   "execution_count": null,
   "metadata": {},
   "outputs": [],
   "source": [
    "def getCaps(content, row):\n",
    "    cap = re.findall(cap_pattern, content.iat[row, index_title])    \n",
    "    if cap is None:\n",
    "        return None\n",
    "    content.iat[row, index_cap_list] = cap\n",
    "\n",
    "for row in range(0, len(cap_df)):\n",
    "    getCaps(cap_df, row)"
   ]
  },
  {
   "cell_type": "code",
   "execution_count": null,
   "metadata": {},
   "outputs": [],
   "source": [
    "cap_df[\"num_caps\"]=cap_df[\"cap_list\"].str.len()\n",
    "cap_df[\"cap_share\"] = (cap_df[\"num_caps\"]*100/cap_df[\"num_char\"]).round(decimals=2)"
   ]
  },
  {
   "cell_type": "code",
   "execution_count": null,
   "metadata": {},
   "outputs": [],
   "source": [
    "cap_df['cap_classified'] = 0\n",
    "cap_df['cap_classified'].astype(\"int64\")\n",
    "index_cap_share = cap_df.columns.get_loc('cap_share')\n",
    "index_cap_classified = cap_df.columns.get_loc('cap_classified')"
   ]
  },
  {
   "cell_type": "code",
   "execution_count": null,
   "metadata": {},
   "outputs": [],
   "source": [
    "cap_df['cap_classified'] = np.where((cap_df.cap_share <= 10), 1, cap_df.cap_classified)\n",
    "cap_df['cap_classified'] = np.where((cap_df.cap_share > 10) & (cap_df.cap_share <= 20), 2, cap_df.cap_classified)\n",
    "cap_df['cap_classified'] = np.where((cap_df.cap_share > 20) & (cap_df.cap_share <= 30), 3, cap_df.cap_classified)\n",
    "cap_df['cap_classified'] = np.where((cap_df.cap_share > 30) & (cap_df.cap_share <= 40), 4, cap_df.cap_classified)\n",
    "cap_df['cap_classified'] = np.where((cap_df.cap_share > 40) & (cap_df.cap_share <= 50), 5, cap_df.cap_classified)\n",
    "cap_df['cap_classified'] = np.where((cap_df.cap_share > 50) & (cap_df.cap_share <= 60), 6, cap_df.cap_classified)\n",
    "cap_df['cap_classified'] = np.where((cap_df.cap_share > 60) & (cap_df.cap_share <= 70), 7, cap_df.cap_classified)\n",
    "cap_df['cap_classified'] = np.where((cap_df.cap_share > 70) & (cap_df.cap_share <= 80), 8, cap_df.cap_classified)\n",
    "cap_df['cap_classified'] = np.where((cap_df.cap_share > 80) & (cap_df.cap_share <= 90), 9, cap_df.cap_classified)\n",
    "cap_df['cap_classified'] = np.where((cap_df.cap_share > 90), 10, cap_df.cap_classified)"
   ]
  },
  {
   "cell_type": "code",
   "execution_count": null,
   "metadata": {},
   "outputs": [],
   "source": [
    "groups_cap = cap_df.groupby('cap_classified').count()\n",
    "exclude = ['title','num_char', 'cap_list', 'num_caps', 'cap_share']\n",
    "graph4 = groups_cap.loc[:, groups_cap.columns.difference(exclude)].plot(kind = 'bar', colormap = 'jet', \n",
    "                                                                   title='Anzahl Videos und deren Großbuchstabenverteilung') \n",
    "graph4.set_xlabel(\"Kategorien Großbuchstaben\")\n",
    "graph4.set_ylabel(\"Anzahl Videos dieser Kategorien\")\n",
    "graph4.legend([\"Videos\"])\n",
    "bottom,top= plt.ylim()  ##???\n",
    "\n",
    "print(\"Top value:\",top)\n",
    "print(\"Lowest value:\", bottom)"
   ]
  },
  {
   "cell_type": "code",
   "execution_count": null,
   "metadata": {},
   "outputs": [],
   "source": [
    "cap_views_df =pd.merge(data_once.iloc[:,[0,8,9,10,16]], cap_df.iloc[:, [0,1,2,4,5,6]], how ='left', on='video_id')"
   ]
  },
  {
   "cell_type": "code",
   "execution_count": null,
   "metadata": {},
   "outputs": [],
   "source": [
    "cap_views_df.head()"
   ]
  },
  {
   "cell_type": "code",
   "execution_count": null,
   "metadata": {},
   "outputs": [],
   "source": [
    "graph5 = cap_views_df.plot.scatter(x=\"cap_classified\", y=\"views\")\n",
    "graph5.set_xlabel(\"Kategorien Großbuchstaben\")\n",
    "graph5.set_ylabel(\"Anzahl Views\")\n",
    "#graph5.set_ylim([0, 1000000])"
   ]
  },
  {
   "cell_type": "code",
   "execution_count": null,
   "metadata": {},
   "outputs": [],
   "source": [
    "group1 = cap_views_df.groupby('cap_classified').get_group(1)\n",
    "group1[\"views\"].mean()"
   ]
  },
  {
   "cell_type": "code",
   "execution_count": null,
   "metadata": {},
   "outputs": [],
   "source": [
    "group2 = cap_views_df.groupby('cap_classified').get_group(2)\n",
    "group2[\"views\"].mean()"
   ]
  },
  {
   "cell_type": "code",
   "execution_count": null,
   "metadata": {},
   "outputs": [],
   "source": [
    "group10 = cap_views_df.groupby('cap_classified').get_group(10)\n",
    "group10[\"views\"].mean()"
   ]
  },
  {
   "cell_type": "code",
   "execution_count": null,
   "metadata": {},
   "outputs": [],
   "source": [
    "vals = []\n",
    "\n",
    "for n in range(1,11):\n",
    "    group = cap_views_df.groupby('cap_classified').get_group(n)\n",
    "    val = group['views'].mean()\n",
    "    vals.append(val)"
   ]
  },
  {
   "cell_type": "code",
   "execution_count": null,
   "metadata": {},
   "outputs": [],
   "source": [
    "graph6 = plt.plot(vals)\n",
    "plt.xlabel(\"Klassifizierung der Großbuchstaben\")\n",
    "plt.ylabel(\"Anzahl durchschnittliche Views\")\n",
    "plt.title(\"Visualisierung durchschnittliche Views mit der zugehörigen Klassifizierung\")"
   ]
  },
  {
   "cell_type": "code",
   "execution_count": null,
   "metadata": {},
   "outputs": [],
   "source": []
  }
 ],
 "metadata": {
  "kernelspec": {
   "display_name": "Python 3",
   "language": "python",
   "name": "python3"
  },
  "language_info": {
   "codemirror_mode": {
    "name": "ipython",
    "version": 3
   },
   "file_extension": ".py",
   "mimetype": "text/x-python",
   "name": "python",
   "nbconvert_exporter": "python",
   "pygments_lexer": "ipython3",
   "version": "3.8.5"
  }
 },
 "nbformat": 4,
 "nbformat_minor": 4
}
