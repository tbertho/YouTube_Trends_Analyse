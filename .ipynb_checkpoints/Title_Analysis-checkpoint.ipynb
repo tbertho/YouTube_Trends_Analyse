{
 "cells": [
  {
   "cell_type": "markdown",
   "metadata": {},
   "source": [
    "In diesem Abschnitt sollen nun die Titel der getrendeten Youtube Videos anhand der Merkmale Länge der Titel, Anteil der Großbuchstaben sowie Anteil der Emojies genauer untersucht werden. Im Anschluss daran sollen anhand eines ...-Modells Vorhersagen getroffen werden wie ein Titel anhand der genannten Merkmale positiven bzw. negativen Einfluss generieren kann. \n",
    "\n",
    "Zunächst werden wie zuvor die Bibliotheken \"NumPy\", die Grundlage für wissenschaftliche Berechnungen in Python, und \"Pandas\", eine Programmbibliothek zur Verabeitung von Daten, importiert. \n",
    "Darüber hinaus werden in diesem Abschnitt mit Hilfe von Regex die Titel analysiert.\n"
   ]
  },
  {
   "cell_type": "code",
   "execution_count": 16,
   "metadata": {},
   "outputs": [],
   "source": [
    "import pandas as pd\n",
    "import numpy as np\n",
    "import re\n",
    "\n",
    "import matplotlib.pyplot as plt\n",
    "import seaborn as sns\n",
    "%matplotlib inline"
   ]
  },
  {
   "cell_type": "code",
   "execution_count": 17,
   "metadata": {},
   "outputs": [],
   "source": [
    "%store -r data_once"
   ]
  },
  {
   "cell_type": "code",
   "execution_count": 18,
   "metadata": {},
   "outputs": [],
   "source": [
    "#Analyse der Titel -> nochmal nachschauen wie NLP genau funktioniert\n",
    "title_df = data_once.loc[:, (\"video_id\", \"title\")]\n",
    "\n",
    "title_df[\"title_words_list\"]=title_df[\"title\"].str.split(\" \", expand = False)\n",
    "title_df[\"num_title_words\"]=title_df[\"title_words_list\"].str.len()"
   ]
  },
  {
   "cell_type": "code",
   "execution_count": 4,
   "metadata": {},
   "outputs": [
    {
     "data": {
      "text/plain": [
       "9.493763806287172"
      ]
     },
     "execution_count": 4,
     "metadata": {},
     "output_type": "execute_result"
    }
   ],
   "source": [
    "mean_title_len = title_df[\"num_title_words\"].mean()\n",
    "mean_title_len"
   ]
  },
  {
   "cell_type": "code",
   "execution_count": 67,
   "metadata": {},
   "outputs": [
    {
     "name": "stdout",
     "output_type": "stream",
     "text": [
      "<class 'pandas.core.frame.DataFrame'>\n",
      "Int64Index: 29425 entries, 0 to 29424\n",
      "Data columns (total 5 columns):\n",
      " #   Column            Non-Null Count  Dtype \n",
      "---  ------            --------------  ----- \n",
      " 0   video_id          29425 non-null  object\n",
      " 1   title             29425 non-null  object\n",
      " 2   title_words_list  29425 non-null  object\n",
      " 3   num_title_words   29425 non-null  int64 \n",
      " 4   emoji             1190 non-null   object\n",
      "dtypes: int64(1), object(4)\n",
      "memory usage: 1.3+ MB\n"
     ]
    }
   ],
   "source": [
    "title_df.info()"
   ]
  },
  {
   "cell_type": "code",
   "execution_count": 5,
   "metadata": {},
   "outputs": [
    {
     "data": {
      "text/html": [
       "<div>\n",
       "<style scoped>\n",
       "    .dataframe tbody tr th:only-of-type {\n",
       "        vertical-align: middle;\n",
       "    }\n",
       "\n",
       "    .dataframe tbody tr th {\n",
       "        vertical-align: top;\n",
       "    }\n",
       "\n",
       "    .dataframe thead th {\n",
       "        text-align: right;\n",
       "    }\n",
       "</style>\n",
       "<table border=\"1\" class=\"dataframe\">\n",
       "  <thead>\n",
       "    <tr style=\"text-align: right;\">\n",
       "      <th></th>\n",
       "      <th>video_id</th>\n",
       "      <th>title</th>\n",
       "      <th>title_words_list</th>\n",
       "      <th>num_title_words</th>\n",
       "    </tr>\n",
       "  </thead>\n",
       "  <tbody>\n",
       "    <tr>\n",
       "      <th>0</th>\n",
       "      <td>--7vNbh4UNA</td>\n",
       "      <td>Responding to ALL The Outrage, Ridiculous H3H3...</td>\n",
       "      <td>[Responding, to, ALL, The, Outrage,, Ridiculou...</td>\n",
       "      <td>11</td>\n",
       "    </tr>\n",
       "    <tr>\n",
       "      <th>1</th>\n",
       "      <td>--I0aj8MUdU</td>\n",
       "      <td>E diela shqiptare - Ka nje mesazh per ty! (04 ...</td>\n",
       "      <td>[E, diela, shqiptare, -, Ka, nje, mesazh, per,...</td>\n",
       "      <td>12</td>\n",
       "    </tr>\n",
       "    <tr>\n",
       "      <th>2</th>\n",
       "      <td>--MtKsH5oBY</td>\n",
       "      <td>صحفي بين سبورت يكشف تفاصيل و كواليس استقالة زي...</td>\n",
       "      <td>[صحفي, بين, سبورت, يكشف, تفاصيل, و, كواليس, اس...</td>\n",
       "      <td>13</td>\n",
       "    </tr>\n",
       "    <tr>\n",
       "      <th>3</th>\n",
       "      <td>--moh3hSPpY</td>\n",
       "      <td>Te vreau langa mine! (02.01.2018) - Editie COM...</td>\n",
       "      <td>[Te, vreau, langa, mine!, (02.01.2018), -, Edi...</td>\n",
       "      <td>8</td>\n",
       "    </tr>\n",
       "    <tr>\n",
       "      <th>4</th>\n",
       "      <td>--rE6D0_jAw</td>\n",
       "      <td>HÖR AUF DAS SCHLECHTE ZU SEHEN!</td>\n",
       "      <td>[HÖR, AUF, DAS, SCHLECHTE, ZU, SEHEN!]</td>\n",
       "      <td>6</td>\n",
       "    </tr>\n",
       "  </tbody>\n",
       "</table>\n",
       "</div>"
      ],
      "text/plain": [
       "      video_id                                              title  \\\n",
       "0  --7vNbh4UNA  Responding to ALL The Outrage, Ridiculous H3H3...   \n",
       "1  --I0aj8MUdU  E diela shqiptare - Ka nje mesazh per ty! (04 ...   \n",
       "2  --MtKsH5oBY  صحفي بين سبورت يكشف تفاصيل و كواليس استقالة زي...   \n",
       "3  --moh3hSPpY  Te vreau langa mine! (02.01.2018) - Editie COM...   \n",
       "4  --rE6D0_jAw                    HÖR AUF DAS SCHLECHTE ZU SEHEN!   \n",
       "\n",
       "                                    title_words_list  num_title_words  \n",
       "0  [Responding, to, ALL, The, Outrage,, Ridiculou...               11  \n",
       "1  [E, diela, shqiptare, -, Ka, nje, mesazh, per,...               12  \n",
       "2  [صحفي, بين, سبورت, يكشف, تفاصيل, و, كواليس, اس...               13  \n",
       "3  [Te, vreau, langa, mine!, (02.01.2018), -, Edi...                8  \n",
       "4             [HÖR, AUF, DAS, SCHLECHTE, ZU, SEHEN!]                6  "
      ]
     },
     "execution_count": 5,
     "metadata": {},
     "output_type": "execute_result"
    }
   ],
   "source": [
    "title_df.head()"
   ]
  },
  {
   "cell_type": "markdown",
   "metadata": {},
   "source": [
    "### Antalyse Emojis"
   ]
  },
  {
   "cell_type": "code",
   "execution_count": 6,
   "metadata": {},
   "outputs": [],
   "source": [
    "emoji_pattern = re.compile(\"[\"\n",
    "        u\"\\U0001F600-\\U0001F64F\"  # emoticons\n",
    "        u\"\\U0001F300-\\U0001F5FF\"  # symbols & pictographs\n",
    "        u\"\\U0001F680-\\U0001F6FF\"  # transport & map symbols\n",
    "        u\"\\U0001F1E0-\\U0001F1FF\"  # flags (iOS)\n",
    "                           \"]+\", flags=re.UNICODE)"
   ]
  },
  {
   "cell_type": "code",
   "execution_count": 7,
   "metadata": {},
   "outputs": [],
   "source": [
    "title_df['emoji'] = None\n",
    "index_title = title_df.columns.get_loc('title')\n",
    "index_emoji = title_df.columns.get_loc('emoji')"
   ]
  },
  {
   "cell_type": "code",
   "execution_count": 8,
   "metadata": {},
   "outputs": [],
   "source": [
    "def getEmojies(content, row):\n",
    "    #for element in content.loc[row, 'title']:\n",
    "        emo = re.search(emoji_pattern, content.iat[row, index_title])    \n",
    "        if emo is None:\n",
    "            return None\n",
    "        content.iat[row, index_emoji] = emo.group()\n",
    "\n",
    "for row in range(0, len(title_df)):\n",
    "    getEmojies(title_df, row)"
   ]
  },
  {
   "cell_type": "code",
   "execution_count": 28,
   "metadata": {},
   "outputs": [],
   "source": [
    "only_emoji_df = title_df.loc[:, (\"video_id\", \"title\", \"emoji\")]\n",
    "only_emoji_df[\"num_emoji\"] = only_emoji_df[\"emoji\"].str.len()\n",
    "only_emoji_df[\"num_emoji\"].fillna(0, inplace = True)\n",
    "only_emoji_df['num_emoji'] = only_emoji_df['num_emoji'].apply(np.int64)\n",
    "only_emoji_df['emoji_flag'] = np.where(only_emoji_df['num_emoji']!= 0, True, False)"
   ]
  },
  {
   "cell_type": "code",
   "execution_count": 39,
   "metadata": {},
   "outputs": [
    {
     "data": {
      "text/plain": [
       "0.05784197111299915"
      ]
     },
     "execution_count": 39,
     "metadata": {},
     "output_type": "execute_result"
    }
   ],
   "source": [
    "only_emoji_df['num_emoji'].mean()"
   ]
  },
  {
   "cell_type": "code",
   "execution_count": 29,
   "metadata": {
    "collapsed": true
   },
   "outputs": [
    {
     "data": {
      "text/html": [
       "<div>\n",
       "<style scoped>\n",
       "    .dataframe tbody tr th:only-of-type {\n",
       "        vertical-align: middle;\n",
       "    }\n",
       "\n",
       "    .dataframe tbody tr th {\n",
       "        vertical-align: top;\n",
       "    }\n",
       "\n",
       "    .dataframe thead th {\n",
       "        text-align: right;\n",
       "    }\n",
       "</style>\n",
       "<table border=\"1\" class=\"dataframe\">\n",
       "  <thead>\n",
       "    <tr style=\"text-align: right;\">\n",
       "      <th></th>\n",
       "      <th>video_id</th>\n",
       "      <th>title</th>\n",
       "      <th>emoji</th>\n",
       "      <th>num_emoji</th>\n",
       "      <th>emoji_flag</th>\n",
       "    </tr>\n",
       "  </thead>\n",
       "  <tbody>\n",
       "    <tr>\n",
       "      <th>0</th>\n",
       "      <td>--7vNbh4UNA</td>\n",
       "      <td>Responding to ALL The Outrage, Ridiculous H3H3...</td>\n",
       "      <td>None</td>\n",
       "      <td>0</td>\n",
       "      <td>False</td>\n",
       "    </tr>\n",
       "    <tr>\n",
       "      <th>1</th>\n",
       "      <td>--I0aj8MUdU</td>\n",
       "      <td>E diela shqiptare - Ka nje mesazh per ty! (04 ...</td>\n",
       "      <td>None</td>\n",
       "      <td>0</td>\n",
       "      <td>False</td>\n",
       "    </tr>\n",
       "    <tr>\n",
       "      <th>2</th>\n",
       "      <td>--MtKsH5oBY</td>\n",
       "      <td>صحفي بين سبورت يكشف تفاصيل و كواليس استقالة زي...</td>\n",
       "      <td>None</td>\n",
       "      <td>0</td>\n",
       "      <td>False</td>\n",
       "    </tr>\n",
       "    <tr>\n",
       "      <th>3</th>\n",
       "      <td>--moh3hSPpY</td>\n",
       "      <td>Te vreau langa mine! (02.01.2018) - Editie COM...</td>\n",
       "      <td>None</td>\n",
       "      <td>0</td>\n",
       "      <td>False</td>\n",
       "    </tr>\n",
       "    <tr>\n",
       "      <th>4</th>\n",
       "      <td>--rE6D0_jAw</td>\n",
       "      <td>HÖR AUF DAS SCHLECHTE ZU SEHEN!</td>\n",
       "      <td>None</td>\n",
       "      <td>0</td>\n",
       "      <td>False</td>\n",
       "    </tr>\n",
       "    <tr>\n",
       "      <th>5</th>\n",
       "      <td>--znlYcDEfI</td>\n",
       "      <td>Familja 6 anetareshe e Halit Fazliu nga Dumnic...</td>\n",
       "      <td>None</td>\n",
       "      <td>0</td>\n",
       "      <td>False</td>\n",
       "    </tr>\n",
       "    <tr>\n",
       "      <th>6</th>\n",
       "      <td>-0-KcJkKjqA</td>\n",
       "      <td>MrGamerPros Mercedes CLA Tuning by BBM</td>\n",
       "      <td>None</td>\n",
       "      <td>0</td>\n",
       "      <td>False</td>\n",
       "    </tr>\n",
       "    <tr>\n",
       "      <th>7</th>\n",
       "      <td>-01JK3TRtIo</td>\n",
       "      <td>Çocuklar Duymasın | 18.Bölüm 1.Fragman</td>\n",
       "      <td>None</td>\n",
       "      <td>0</td>\n",
       "      <td>False</td>\n",
       "    </tr>\n",
       "    <tr>\n",
       "      <th>8</th>\n",
       "      <td>-06RYo6s6qQ</td>\n",
       "      <td>Wie du eine KAPUTTE Beziehung REPARIERST</td>\n",
       "      <td>None</td>\n",
       "      <td>0</td>\n",
       "      <td>False</td>\n",
       "    </tr>\n",
       "    <tr>\n",
       "      <th>9</th>\n",
       "      <td>-0H6tlSzP9M</td>\n",
       "      <td>Mamoudou Gassama, le Malien ayant sauvé un enf...</td>\n",
       "      <td>None</td>\n",
       "      <td>0</td>\n",
       "      <td>False</td>\n",
       "    </tr>\n",
       "    <tr>\n",
       "      <th>10</th>\n",
       "      <td>-0NhqVYR4UY</td>\n",
       "      <td>President Donald Trump Governing Like 'Mean Gi...</td>\n",
       "      <td>None</td>\n",
       "      <td>0</td>\n",
       "      <td>False</td>\n",
       "    </tr>\n",
       "    <tr>\n",
       "      <th>11</th>\n",
       "      <td>-0Zl7WkRAQc</td>\n",
       "      <td>Давай поженимся! Романтик из Израиля. Выпуск о...</td>\n",
       "      <td>None</td>\n",
       "      <td>0</td>\n",
       "      <td>False</td>\n",
       "    </tr>\n",
       "    <tr>\n",
       "      <th>12</th>\n",
       "      <td>-0fTk5Jpi2w</td>\n",
       "      <td>Dunkelziffer Mord: Die Todesermittler | 45 Min...</td>\n",
       "      <td>None</td>\n",
       "      <td>0</td>\n",
       "      <td>False</td>\n",
       "    </tr>\n",
       "    <tr>\n",
       "      <th>13</th>\n",
       "      <td>-0ilM33s70k</td>\n",
       "      <td>Kleiner Gute Nacht Gruß für dich 🌙 mit lieben ...</td>\n",
       "      <td>🌙</td>\n",
       "      <td>1</td>\n",
       "      <td>True</td>\n",
       "    </tr>\n",
       "    <tr>\n",
       "      <th>14</th>\n",
       "      <td>-0zqv290I5I</td>\n",
       "      <td>Norbert Kleinwächter (AFD) läuft im Bundestag ...</td>\n",
       "      <td>None</td>\n",
       "      <td>0</td>\n",
       "      <td>False</td>\n",
       "    </tr>\n",
       "    <tr>\n",
       "      <th>15</th>\n",
       "      <td>-1446KeS7aA</td>\n",
       "      <td>Servietten falten Weihnachten: Schneeflocken b...</td>\n",
       "      <td>None</td>\n",
       "      <td>0</td>\n",
       "      <td>False</td>\n",
       "    </tr>\n",
       "    <tr>\n",
       "      <th>16</th>\n",
       "      <td>-18jiSget8s</td>\n",
       "      <td>Harald Schmidt Show 866 - Harrys Mutter fährt ...</td>\n",
       "      <td>None</td>\n",
       "      <td>0</td>\n",
       "      <td>False</td>\n",
       "    </tr>\n",
       "    <tr>\n",
       "      <th>17</th>\n",
       "      <td>-1AfFuVxPb8</td>\n",
       "      <td>RTL reagiert: KOLLEGAH gegen MASSENMEDIEN (RTL...</td>\n",
       "      <td>None</td>\n",
       "      <td>0</td>\n",
       "      <td>False</td>\n",
       "    </tr>\n",
       "    <tr>\n",
       "      <th>18</th>\n",
       "      <td>-1DkGrAyTfU</td>\n",
       "      <td>Was braucht man wirklich am Auto damit es fähr...</td>\n",
       "      <td>None</td>\n",
       "      <td>0</td>\n",
       "      <td>False</td>\n",
       "    </tr>\n",
       "    <tr>\n",
       "      <th>19</th>\n",
       "      <td>-1Hm41N0dUs</td>\n",
       "      <td>Cast of Avengers: Infinity War Draws Their Cha...</td>\n",
       "      <td>None</td>\n",
       "      <td>0</td>\n",
       "      <td>False</td>\n",
       "    </tr>\n",
       "    <tr>\n",
       "      <th>20</th>\n",
       "      <td>-2-rbk21ChA</td>\n",
       "      <td>WOWBIZ (14.02.2018) - Editie COMPLETA</td>\n",
       "      <td>None</td>\n",
       "      <td>0</td>\n",
       "      <td>False</td>\n",
       "    </tr>\n",
       "    <tr>\n",
       "      <th>21</th>\n",
       "      <td>-20FrNRYB44</td>\n",
       "      <td>VORSÄTZE ⎮ VORSTELLUNG VS. REALITÄT ⎮ Younes j...</td>\n",
       "      <td>None</td>\n",
       "      <td>0</td>\n",
       "      <td>False</td>\n",
       "    </tr>\n",
       "    <tr>\n",
       "      <th>22</th>\n",
       "      <td>-22GevpL5wk</td>\n",
       "      <td>Die Smartphone-LÜGE</td>\n",
       "      <td>None</td>\n",
       "      <td>0</td>\n",
       "      <td>False</td>\n",
       "    </tr>\n",
       "    <tr>\n",
       "      <th>23</th>\n",
       "      <td>-2XKIGrAisA</td>\n",
       "      <td>03.02.2018 Cottbus. Mehre 1000ende bei der fri...</td>\n",
       "      <td>None</td>\n",
       "      <td>0</td>\n",
       "      <td>False</td>\n",
       "    </tr>\n",
       "    <tr>\n",
       "      <th>24</th>\n",
       "      <td>-2Y-XwD0Ltg</td>\n",
       "      <td>Liebe Grüße für Neujahr 2018 - Happy New Year ...</td>\n",
       "      <td>None</td>\n",
       "      <td>0</td>\n",
       "      <td>False</td>\n",
       "    </tr>\n",
       "    <tr>\n",
       "      <th>25</th>\n",
       "      <td>-2_0-NZRZ3U</td>\n",
       "      <td>Dybalissimo – Paulo Dybala trifft doppelt: Juv...</td>\n",
       "      <td>None</td>\n",
       "      <td>0</td>\n",
       "      <td>False</td>\n",
       "    </tr>\n",
       "    <tr>\n",
       "      <th>26</th>\n",
       "      <td>-2aVkGcI7ZA</td>\n",
       "      <td>Benedict Cumberbatch's Tom Holland impression ...</td>\n",
       "      <td>None</td>\n",
       "      <td>0</td>\n",
       "      <td>False</td>\n",
       "    </tr>\n",
       "    <tr>\n",
       "      <th>27</th>\n",
       "      <td>-2g4CBUTP5A</td>\n",
       "      <td>مسلسل روزنا الحلقة 6</td>\n",
       "      <td>None</td>\n",
       "      <td>0</td>\n",
       "      <td>False</td>\n",
       "    </tr>\n",
       "    <tr>\n",
       "      <th>28</th>\n",
       "      <td>-2j815HzOes</td>\n",
       "      <td>بوی توت فرنگی قسمت 26 - boye tootfarangi</td>\n",
       "      <td>None</td>\n",
       "      <td>0</td>\n",
       "      <td>False</td>\n",
       "    </tr>\n",
       "    <tr>\n",
       "      <th>29</th>\n",
       "      <td>-2lXJX54cPU</td>\n",
       "      <td>Schönen 3. Advent</td>\n",
       "      <td>None</td>\n",
       "      <td>0</td>\n",
       "      <td>False</td>\n",
       "    </tr>\n",
       "    <tr>\n",
       "      <th>30</th>\n",
       "      <td>-2nFlBRqfHQ</td>\n",
       "      <td>Die BESTEN DIY REZEPTE aus AMERIKA! 🤤😍 - Rice ...</td>\n",
       "      <td>😍</td>\n",
       "      <td>1</td>\n",
       "      <td>True</td>\n",
       "    </tr>\n",
       "    <tr>\n",
       "      <th>31</th>\n",
       "      <td>-2t8UavH5ys</td>\n",
       "      <td>Dua te te bej te lumtur 2, 24/02/2018, Pjesa 2</td>\n",
       "      <td>None</td>\n",
       "      <td>0</td>\n",
       "      <td>False</td>\n",
       "    </tr>\n",
       "    <tr>\n",
       "      <th>32</th>\n",
       "      <td>-2w_b3FfYjo</td>\n",
       "      <td>Scholz will alle Flüchtlinge abschieben 2</td>\n",
       "      <td>None</td>\n",
       "      <td>0</td>\n",
       "      <td>False</td>\n",
       "    </tr>\n",
       "    <tr>\n",
       "      <th>33</th>\n",
       "      <td>-2yP-zSyGEM</td>\n",
       "      <td>BẠN MUỐN HẸN HÒ | Tập 338 UNCUT | Đình Tú - Th...</td>\n",
       "      <td>💚</td>\n",
       "      <td>1</td>\n",
       "      <td>True</td>\n",
       "    </tr>\n",
       "    <tr>\n",
       "      <th>34</th>\n",
       "      <td>-3WlpoJuII8</td>\n",
       "      <td>Wunschpartner Liebesorakel 6. bis 12. Mai 2018</td>\n",
       "      <td>None</td>\n",
       "      <td>0</td>\n",
       "      <td>False</td>\n",
       "    </tr>\n",
       "    <tr>\n",
       "      <th>35</th>\n",
       "      <td>-3ZdI0JAq2I</td>\n",
       "      <td>söz 40  bölüm  | العهد الحلقة 40</td>\n",
       "      <td>None</td>\n",
       "      <td>0</td>\n",
       "      <td>False</td>\n",
       "    </tr>\n",
       "    <tr>\n",
       "      <th>36</th>\n",
       "      <td>-3kw4iBabKI</td>\n",
       "      <td>Anlassen / Motorrad-Korso 22.04.2018 Nürburgri...</td>\n",
       "      <td>None</td>\n",
       "      <td>0</td>\n",
       "      <td>False</td>\n",
       "    </tr>\n",
       "    <tr>\n",
       "      <th>37</th>\n",
       "      <td>-3t6yONlGG4</td>\n",
       "      <td>NEW YEARS! FAILS EVERY WEEK! #4 💥😂 Fail Compil...</td>\n",
       "      <td>💥😂</td>\n",
       "      <td>2</td>\n",
       "      <td>True</td>\n",
       "    </tr>\n",
       "    <tr>\n",
       "      <th>38</th>\n",
       "      <td>-3wISxkMA8c</td>\n",
       "      <td>Söz | 29.Bölüm - Önizleme</td>\n",
       "      <td>None</td>\n",
       "      <td>0</td>\n",
       "      <td>False</td>\n",
       "    </tr>\n",
       "    <tr>\n",
       "      <th>39</th>\n",
       "      <td>-3xYLD_zoII</td>\n",
       "      <td>Beni Affet 1283. Bölüm</td>\n",
       "      <td>None</td>\n",
       "      <td>0</td>\n",
       "      <td>False</td>\n",
       "    </tr>\n",
       "    <tr>\n",
       "      <th>40</th>\n",
       "      <td>-4D1XHpdb0I</td>\n",
       "      <td>Vorschau 19.3-23.3 Köln 50667</td>\n",
       "      <td>None</td>\n",
       "      <td>0</td>\n",
       "      <td>False</td>\n",
       "    </tr>\n",
       "    <tr>\n",
       "      <th>41</th>\n",
       "      <td>-4NbAU8JFXQ</td>\n",
       "      <td>Die 4 Todsünden für Beziehungen // Dr. Stefan ...</td>\n",
       "      <td>None</td>\n",
       "      <td>0</td>\n",
       "      <td>False</td>\n",
       "    </tr>\n",
       "    <tr>\n",
       "      <th>42</th>\n",
       "      <td>-4pwKFtdKgI</td>\n",
       "      <td>Ufak Tefek Cinayetler 25. Bölüm</td>\n",
       "      <td>None</td>\n",
       "      <td>0</td>\n",
       "      <td>False</td>\n",
       "    </tr>\n",
       "    <tr>\n",
       "      <th>43</th>\n",
       "      <td>-4tG-mIK7KI</td>\n",
       "      <td>Ufak Tefek Cinayetler 19. Bölüm</td>\n",
       "      <td>None</td>\n",
       "      <td>0</td>\n",
       "      <td>False</td>\n",
       "    </tr>\n",
       "    <tr>\n",
       "      <th>44</th>\n",
       "      <td>-5-yWL6LrQA</td>\n",
       "      <td>Dachdecker / Der Praktikant! Der zweite Tag!</td>\n",
       "      <td>None</td>\n",
       "      <td>0</td>\n",
       "      <td>False</td>\n",
       "    </tr>\n",
       "    <tr>\n",
       "      <th>45</th>\n",
       "      <td>-55OlnWP3eI</td>\n",
       "      <td>پنجره ای رو به خانه پدری سه شنبه ۱۲ دی</td>\n",
       "      <td>None</td>\n",
       "      <td>0</td>\n",
       "      <td>False</td>\n",
       "    </tr>\n",
       "    <tr>\n",
       "      <th>46</th>\n",
       "      <td>-5CyPycP91Y</td>\n",
       "      <td>Pod et Marichou - Saison 2 - Episode 74</td>\n",
       "      <td>None</td>\n",
       "      <td>0</td>\n",
       "      <td>False</td>\n",
       "    </tr>\n",
       "    <tr>\n",
       "      <th>47</th>\n",
       "      <td>-5I4FCUo7AA</td>\n",
       "      <td>Are We Frenemies?! | Lele Pons, Hannah Stockin...</td>\n",
       "      <td>None</td>\n",
       "      <td>0</td>\n",
       "      <td>False</td>\n",
       "    </tr>\n",
       "    <tr>\n",
       "      <th>48</th>\n",
       "      <td>-5WBTeCd1A4</td>\n",
       "      <td>Umut Timur - Vermedin ft MRC (Prod. Umut Timur)</td>\n",
       "      <td>None</td>\n",
       "      <td>0</td>\n",
       "      <td>False</td>\n",
       "    </tr>\n",
       "  </tbody>\n",
       "</table>\n",
       "</div>"
      ],
      "text/plain": [
       "       video_id                                              title emoji  \\\n",
       "0   --7vNbh4UNA  Responding to ALL The Outrage, Ridiculous H3H3...  None   \n",
       "1   --I0aj8MUdU  E diela shqiptare - Ka nje mesazh per ty! (04 ...  None   \n",
       "2   --MtKsH5oBY  صحفي بين سبورت يكشف تفاصيل و كواليس استقالة زي...  None   \n",
       "3   --moh3hSPpY  Te vreau langa mine! (02.01.2018) - Editie COM...  None   \n",
       "4   --rE6D0_jAw                    HÖR AUF DAS SCHLECHTE ZU SEHEN!  None   \n",
       "5   --znlYcDEfI  Familja 6 anetareshe e Halit Fazliu nga Dumnic...  None   \n",
       "6   -0-KcJkKjqA             MrGamerPros Mercedes CLA Tuning by BBM  None   \n",
       "7   -01JK3TRtIo             Çocuklar Duymasın | 18.Bölüm 1.Fragman  None   \n",
       "8   -06RYo6s6qQ           Wie du eine KAPUTTE Beziehung REPARIERST  None   \n",
       "9   -0H6tlSzP9M  Mamoudou Gassama, le Malien ayant sauvé un enf...  None   \n",
       "10  -0NhqVYR4UY  President Donald Trump Governing Like 'Mean Gi...  None   \n",
       "11  -0Zl7WkRAQc  Давай поженимся! Романтик из Израиля. Выпуск о...  None   \n",
       "12  -0fTk5Jpi2w  Dunkelziffer Mord: Die Todesermittler | 45 Min...  None   \n",
       "13  -0ilM33s70k  Kleiner Gute Nacht Gruß für dich 🌙 mit lieben ...     🌙   \n",
       "14  -0zqv290I5I  Norbert Kleinwächter (AFD) läuft im Bundestag ...  None   \n",
       "15  -1446KeS7aA  Servietten falten Weihnachten: Schneeflocken b...  None   \n",
       "16  -18jiSget8s  Harald Schmidt Show 866 - Harrys Mutter fährt ...  None   \n",
       "17  -1AfFuVxPb8  RTL reagiert: KOLLEGAH gegen MASSENMEDIEN (RTL...  None   \n",
       "18  -1DkGrAyTfU  Was braucht man wirklich am Auto damit es fähr...  None   \n",
       "19  -1Hm41N0dUs  Cast of Avengers: Infinity War Draws Their Cha...  None   \n",
       "20  -2-rbk21ChA              WOWBIZ (14.02.2018) - Editie COMPLETA  None   \n",
       "21  -20FrNRYB44  VORSÄTZE ⎮ VORSTELLUNG VS. REALITÄT ⎮ Younes j...  None   \n",
       "22  -22GevpL5wk                                Die Smartphone-LÜGE  None   \n",
       "23  -2XKIGrAisA  03.02.2018 Cottbus. Mehre 1000ende bei der fri...  None   \n",
       "24  -2Y-XwD0Ltg  Liebe Grüße für Neujahr 2018 - Happy New Year ...  None   \n",
       "25  -2_0-NZRZ3U  Dybalissimo – Paulo Dybala trifft doppelt: Juv...  None   \n",
       "26  -2aVkGcI7ZA  Benedict Cumberbatch's Tom Holland impression ...  None   \n",
       "27  -2g4CBUTP5A                               مسلسل روزنا الحلقة 6  None   \n",
       "28  -2j815HzOes           بوی توت فرنگی قسمت 26 - boye tootfarangi  None   \n",
       "29  -2lXJX54cPU                                  Schönen 3. Advent  None   \n",
       "30  -2nFlBRqfHQ  Die BESTEN DIY REZEPTE aus AMERIKA! 🤤😍 - Rice ...     😍   \n",
       "31  -2t8UavH5ys     Dua te te bej te lumtur 2, 24/02/2018, Pjesa 2  None   \n",
       "32  -2w_b3FfYjo          Scholz will alle Flüchtlinge abschieben 2  None   \n",
       "33  -2yP-zSyGEM  BẠN MUỐN HẸN HÒ | Tập 338 UNCUT | Đình Tú - Th...     💚   \n",
       "34  -3WlpoJuII8     Wunschpartner Liebesorakel 6. bis 12. Mai 2018  None   \n",
       "35  -3ZdI0JAq2I                   söz 40  bölüm  | العهد الحلقة 40  None   \n",
       "36  -3kw4iBabKI  Anlassen / Motorrad-Korso 22.04.2018 Nürburgri...  None   \n",
       "37  -3t6yONlGG4  NEW YEARS! FAILS EVERY WEEK! #4 💥😂 Fail Compil...    💥😂   \n",
       "38  -3wISxkMA8c                       Söz | 29.Bölüm - Önizleme  None   \n",
       "39  -3xYLD_zoII                             Beni Affet 1283. Bölüm  None   \n",
       "40  -4D1XHpdb0I                      Vorschau 19.3-23.3 Köln 50667  None   \n",
       "41  -4NbAU8JFXQ  Die 4 Todsünden für Beziehungen // Dr. Stefan ...  None   \n",
       "42  -4pwKFtdKgI                    Ufak Tefek Cinayetler 25. Bölüm  None   \n",
       "43  -4tG-mIK7KI                    Ufak Tefek Cinayetler 19. Bölüm  None   \n",
       "44  -5-yWL6LrQA       Dachdecker / Der Praktikant! Der zweite Tag!  None   \n",
       "45  -55OlnWP3eI             پنجره ای رو به خانه پدری سه شنبه ۱۲ دی  None   \n",
       "46  -5CyPycP91Y            Pod et Marichou - Saison 2 - Episode 74  None   \n",
       "47  -5I4FCUo7AA  Are We Frenemies?! | Lele Pons, Hannah Stockin...  None   \n",
       "48  -5WBTeCd1A4    Umut Timur - Vermedin ft MRC (Prod. Umut Timur)  None   \n",
       "\n",
       "    num_emoji  emoji_flag  \n",
       "0           0       False  \n",
       "1           0       False  \n",
       "2           0       False  \n",
       "3           0       False  \n",
       "4           0       False  \n",
       "5           0       False  \n",
       "6           0       False  \n",
       "7           0       False  \n",
       "8           0       False  \n",
       "9           0       False  \n",
       "10          0       False  \n",
       "11          0       False  \n",
       "12          0       False  \n",
       "13          1        True  \n",
       "14          0       False  \n",
       "15          0       False  \n",
       "16          0       False  \n",
       "17          0       False  \n",
       "18          0       False  \n",
       "19          0       False  \n",
       "20          0       False  \n",
       "21          0       False  \n",
       "22          0       False  \n",
       "23          0       False  \n",
       "24          0       False  \n",
       "25          0       False  \n",
       "26          0       False  \n",
       "27          0       False  \n",
       "28          0       False  \n",
       "29          0       False  \n",
       "30          1        True  \n",
       "31          0       False  \n",
       "32          0       False  \n",
       "33          1        True  \n",
       "34          0       False  \n",
       "35          0       False  \n",
       "36          0       False  \n",
       "37          2        True  \n",
       "38          0       False  \n",
       "39          0       False  \n",
       "40          0       False  \n",
       "41          0       False  \n",
       "42          0       False  \n",
       "43          0       False  \n",
       "44          0       False  \n",
       "45          0       False  \n",
       "46          0       False  \n",
       "47          0       False  \n",
       "48          0       False  "
      ]
     },
     "execution_count": 29,
     "metadata": {},
     "output_type": "execute_result"
    }
   ],
   "source": [
    "only_emoji_df.head(49)"
   ]
  },
  {
   "cell_type": "code",
   "execution_count": 71,
   "metadata": {},
   "outputs": [
    {
     "name": "stdout",
     "output_type": "stream",
     "text": [
      "Top value: 29646.7\n",
      "Lowest value: -1410.7\n"
     ]
    },
    {
     "data": {
      "image/png": "[encoded data removed]",
      "text/plain": [
       "<Figure size 432x288 with 1 Axes>"
      ]
     },
     "metadata": {
      "needs_background": "light"
     },
     "output_type": "display_data"
    }
   ],
   "source": [
    "groups_emoji = only_emoji_df.groupby('num_emoji').count()\n",
    "exclude = ['video_id','emoji','emoji_flag']\n",
    "graph = groups_emoji.loc[:, groups_emoji.columns.difference(exclude)].plot(colormap = 'jet', \n",
    "                                                                   title='Anzahl Videos mit und ohne Emojies')\n",
    "graph.set_xlabel(\"Anzahl Emojies\")\n",
    "graph.set_ylabel(\"Anzahl Videos\")\n",
    "graph.legend([\"Videos\"])\n",
    "bottom,top= plt.ylim()  ##???\n",
    "\n",
    "print(\"Top value:\",top)\n",
    "print(\"Lowest value:\", bottom)"
   ]
  },
  {
   "cell_type": "code",
   "execution_count": 70,
   "metadata": {},
   "outputs": [
    {
     "name": "stdout",
     "output_type": "stream",
     "text": [
      "Top value: 29646.75\n",
      "Lowest value: 0.0\n"
     ]
    },
    {
     "data": {
      "image/png": "[encoded data removed]",
      "text/plain": [
       "<Figure size 432x288 with 1 Axes>"
      ]
     },
     "metadata": {
      "needs_background": "light"
     },
     "output_type": "display_data"
    }
   ],
   "source": [
    "groups_emoji = only_emoji_df.groupby('num_emoji').count()\n",
    "exclude = ['video_id','emoji','emoji_flag']\n",
    "graph2 = groups_emoji.loc[:, groups_emoji.columns.difference(exclude)].plot(kind = 'bar', colormap = 'jet', \n",
    "                                                                   title='Anzahl Videos mit und ohne Emojies') \n",
    "graph2.set_xlabel(\"Anzahl Emojies\")\n",
    "graph2.set_ylabel(\"Anzahl Videos\")\n",
    "graph2.legend([\"Videos\"])\n",
    "bottom,top= plt.ylim()  ##???\n",
    "\n",
    "print(\"Top value:\",top)\n",
    "print(\"Lowest value:\", bottom)"
   ]
  },
  {
   "cell_type": "code",
   "execution_count": 62,
   "metadata": {},
   "outputs": [],
   "source": [
    "df=pd.merge(title_df, only_emoji_df.iloc[:, [0,3,4]], how ='left', on='video_id')"
   ]
  },
  {
   "cell_type": "code",
   "execution_count": 61,
   "metadata": {},
   "outputs": [],
   "source": [
    "df2 =pd.merge(df, data_once.iloc[:,[0,8,9,10,16]], how ='left', on='video_id')"
   ]
  },
  {
   "cell_type": "code",
   "execution_count": 65,
   "metadata": {},
   "outputs": [
    {
     "data": {
      "text/plain": [
       "(0.0, 1000000.0)"
      ]
     },
     "execution_count": 65,
     "metadata": {},
     "output_type": "execute_result"
    },
    {
     "data": {
      "image/png": "[encoded data removed]",
      "text/plain": [
       "<Figure size 432x288 with 1 Axes>"
      ]
     },
     "metadata": {
      "needs_background": "light"
     },
     "output_type": "display_data"
    }
   ],
   "source": [
    "graph3 = df2.plot.scatter(x=\"num_emoji\", y=\"views\")\n",
    "graph3.set_xlabel(\"Anzahl Emojies\")\n",
    "graph3.set_ylabel(\"Anzahl Views\")\n",
    "graph3.set_ylim([0, 1000000])\n",
    "#hier noch iwi auf durschnittlichen Views runterbrechen - weiß nicht ob die Aussage so von Wert ist mit dem plot unten"
   ]
  },
  {
   "cell_type": "markdown",
   "metadata": {},
   "source": [
    "Reminder: Verhalten Emojies mit Kategorien noch untersuchen"
   ]
  },
  {
   "cell_type": "markdown",
   "metadata": {},
   "source": [
    "### Analyse der Großbuchstaben"
   ]
  },
  {
   "cell_type": "code",
   "execution_count": 42,
   "metadata": {},
   "outputs": [],
   "source": [
    "cap_df = title_df.iloc[:, [0,1]]"
   ]
  },
  {
   "cell_type": "code",
   "execution_count": 43,
   "metadata": {},
   "outputs": [],
   "source": [
    "s = cap_df['title']\n",
    "s = s.str.len() - s.str.count(\" \")\n",
    "cap_df = cap_df.merge(s.rename('num_char'), left_index=True, right_index=True)"
   ]
  },
  {
   "cell_type": "code",
   "execution_count": 44,
   "metadata": {},
   "outputs": [],
   "source": [
    "cap_pattern = r'([A-ZÄÖÜ])'"
   ]
  },
  {
   "cell_type": "code",
   "execution_count": 45,
   "metadata": {},
   "outputs": [
    {
     "name": "stdout",
     "output_type": "stream",
     "text": [
      "<class 'pandas.core.frame.DataFrame'>\n",
      "Int64Index: 29425 entries, 0 to 29424\n",
      "Data columns (total 4 columns):\n",
      " #   Column    Non-Null Count  Dtype \n",
      "---  ------    --------------  ----- \n",
      " 0   video_id  29425 non-null  object\n",
      " 1   title     29425 non-null  object\n",
      " 2   num_char  29425 non-null  int64 \n",
      " 3   cap_list  0 non-null      object\n",
      "dtypes: int64(1), object(3)\n",
      "memory usage: 2.1+ MB\n"
     ]
    }
   ],
   "source": [
    "cap_df['cap_list'] = None\n",
    "index_title = cap_df.columns.get_loc('title')\n",
    "index_cap_list = cap_df.columns.get_loc('cap_list')\n",
    "cap_df.info()"
   ]
  },
  {
   "cell_type": "code",
   "execution_count": 46,
   "metadata": {},
   "outputs": [],
   "source": [
    "def getCaps(content, row):\n",
    "    cap = re.findall(cap_pattern, content.iat[row, index_title])    \n",
    "    if cap is None:\n",
    "        return None\n",
    "    content.iat[row, index_cap_list] = cap\n",
    "\n",
    "for row in range(0, len(cap_df)):\n",
    "    getCaps(cap_df, row)"
   ]
  },
  {
   "cell_type": "code",
   "execution_count": 47,
   "metadata": {},
   "outputs": [],
   "source": [
    "cap_df[\"num_caps\"]=cap_df[\"cap_list\"].str.len()\n",
    "cap_df[\"cap_share\"] = (cap_df[\"num_caps\"]*100/cap_df[\"num_char\"]).round(decimals=2)"
   ]
  },
  {
   "cell_type": "code",
   "execution_count": 53,
   "metadata": {},
   "outputs": [
    {
     "name": "stdout",
     "output_type": "stream",
     "text": [
      "<class 'pandas.core.frame.DataFrame'>\n",
      "Int64Index: 29425 entries, 0 to 29424\n",
      "Data columns (total 7 columns):\n",
      " #   Column          Non-Null Count  Dtype  \n",
      "---  ------          --------------  -----  \n",
      " 0   video_id        29425 non-null  object \n",
      " 1   title           29425 non-null  object \n",
      " 2   num_char        29425 non-null  int64  \n",
      " 3   cap_list        29425 non-null  object \n",
      " 4   num_caps        29425 non-null  int64  \n",
      " 5   cap_share       29425 non-null  float64\n",
      " 6   cap_classified  29425 non-null  int64  \n",
      "dtypes: float64(1), int64(3), object(3)\n",
      "memory usage: 2.8+ MB\n"
     ]
    }
   ],
   "source": [
    "cap_df['cap_classified'] = 0\n",
    "cap_df['cap_classified'].astype(\"int64\")\n",
    "index_cap_share = cap_df.columns.get_loc('cap_share')\n",
    "index_cap_classified = cap_df.columns.get_loc('cap_classified')"
   ]
  },
  {
   "cell_type": "code",
   "execution_count": 79,
   "metadata": {},
   "outputs": [],
   "source": [
    "cap_df['cap_classified'] = np.where((cap_df.cap_share <= 10), 1, cap_df.cap_classified)\n",
    "cap_df['cap_classified'] = np.where((cap_df.cap_share > 10) & (cap_df.cap_share <= 20), 2, cap_df.cap_classified)\n",
    "cap_df['cap_classified'] = np.where((cap_df.cap_share > 20) & (cap_df.cap_share <= 30), 3, cap_df.cap_classified)\n",
    "cap_df['cap_classified'] = np.where((cap_df.cap_share > 30) & (cap_df.cap_share <= 40), 4, cap_df.cap_classified)\n",
    "cap_df['cap_classified'] = np.where((cap_df.cap_share > 40) & (cap_df.cap_share <= 50), 5, cap_df.cap_classified)\n",
    "cap_df['cap_classified'] = np.where((cap_df.cap_share > 50) & (cap_df.cap_share <= 60), 6, cap_df.cap_classified)\n",
    "cap_df['cap_classified'] = np.where((cap_df.cap_share > 60) & (cap_df.cap_share <= 70), 7, cap_df.cap_classified)\n",
    "cap_df['cap_classified'] = np.where((cap_df.cap_share > 70) & (cap_df.cap_share <= 80), 8, cap_df.cap_classified)\n",
    "cap_df['cap_classified'] = np.where((cap_df.cap_share > 80) & (cap_df.cap_share <= 90), 9, cap_df.cap_classified)\n",
    "cap_df['cap_classified'] = np.where((cap_df.cap_share > 90), 10, cap_df.cap_classified)"
   ]
  },
  {
   "cell_type": "code",
   "execution_count": 84,
   "metadata": {},
   "outputs": [
    {
     "name": "stdout",
     "output_type": "stream",
     "text": [
      "Top value: 13751.85\n",
      "Lowest value: 0.0\n"
     ]
    },
    {
     "data": {
      "image/png": "[encoded data removed]",
      "text/plain": [
       "<Figure size 432x288 with 1 Axes>"
      ]
     },
     "metadata": {
      "needs_background": "light"
     },
     "output_type": "display_data"
    }
   ],
   "source": [
    "groups_cap = cap_df.groupby('cap_classified').count()\n",
    "exclude = ['title','num_char', 'cap_list', 'num_caps', 'cap_share']\n",
    "graph4 = groups_cap.loc[:, groups_cap.columns.difference(exclude)].plot(kind = 'bar', colormap = 'jet', \n",
    "                                                                   title='Anzahl Videos und deren Großbuchstabenverteilung') \n",
    "graph4.set_xlabel(\"Kategorien Großbuchstaben\")\n",
    "graph4.set_ylabel(\"Anzahl Videos dieser Kategorien\")\n",
    "graph4.legend([\"Videos\"])\n",
    "bottom,top= plt.ylim()  ##???\n",
    "\n",
    "print(\"Top value:\",top)\n",
    "print(\"Lowest value:\", bottom)"
   ]
  },
  {
   "cell_type": "code",
   "execution_count": 86,
   "metadata": {},
   "outputs": [],
   "source": [
    "cap_views_df =pd.merge(data_once.iloc[:,[0,8,9,10,16]], cap_df.iloc[:, [0,1,2,4,5,6]], how ='left', on='video_id')"
   ]
  },
  {
   "cell_type": "code",
   "execution_count": 87,
   "metadata": {},
   "outputs": [
    {
     "data": {
      "text/html": [
       "<div>\n",
       "<style scoped>\n",
       "    .dataframe tbody tr th:only-of-type {\n",
       "        vertical-align: middle;\n",
       "    }\n",
       "\n",
       "    .dataframe tbody tr th {\n",
       "        vertical-align: top;\n",
       "    }\n",
       "\n",
       "    .dataframe thead th {\n",
       "        text-align: right;\n",
       "    }\n",
       "</style>\n",
       "<table border=\"1\" class=\"dataframe\">\n",
       "  <thead>\n",
       "    <tr style=\"text-align: right;\">\n",
       "      <th></th>\n",
       "      <th>video_id</th>\n",
       "      <th>views</th>\n",
       "      <th>likes</th>\n",
       "      <th>dislikes</th>\n",
       "      <th>category_name</th>\n",
       "      <th>title</th>\n",
       "      <th>num_char</th>\n",
       "      <th>num_caps</th>\n",
       "      <th>cap_share</th>\n",
       "      <th>cap_classified</th>\n",
       "    </tr>\n",
       "  </thead>\n",
       "  <tbody>\n",
       "    <tr>\n",
       "      <th>0</th>\n",
       "      <td>--7vNbh4UNA</td>\n",
       "      <td>1082647</td>\n",
       "      <td>52113</td>\n",
       "      <td>1284</td>\n",
       "      <td>News &amp; Politics</td>\n",
       "      <td>Responding to ALL The Outrage, Ridiculous H3H3...</td>\n",
       "      <td>66</td>\n",
       "      <td>12</td>\n",
       "      <td>18.18</td>\n",
       "      <td>2</td>\n",
       "    </tr>\n",
       "    <tr>\n",
       "      <th>1</th>\n",
       "      <td>--I0aj8MUdU</td>\n",
       "      <td>139025</td>\n",
       "      <td>490</td>\n",
       "      <td>78</td>\n",
       "      <td>Entertainment</td>\n",
       "      <td>E diela shqiptare - Ka nje mesazh per ty! (04 ...</td>\n",
       "      <td>47</td>\n",
       "      <td>2</td>\n",
       "      <td>4.26</td>\n",
       "      <td>1</td>\n",
       "    </tr>\n",
       "    <tr>\n",
       "      <th>2</th>\n",
       "      <td>--MtKsH5oBY</td>\n",
       "      <td>225445</td>\n",
       "      <td>2156</td>\n",
       "      <td>227</td>\n",
       "      <td>Sports</td>\n",
       "      <td>صحفي بين سبورت يكشف تفاصيل و كواليس استقالة زي...</td>\n",
       "      <td>57</td>\n",
       "      <td>0</td>\n",
       "      <td>0.00</td>\n",
       "      <td>1</td>\n",
       "    </tr>\n",
       "    <tr>\n",
       "      <th>3</th>\n",
       "      <td>--moh3hSPpY</td>\n",
       "      <td>17050</td>\n",
       "      <td>100</td>\n",
       "      <td>32</td>\n",
       "      <td>Entertainment</td>\n",
       "      <td>Te vreau langa mine! (02.01.2018) - Editie COM...</td>\n",
       "      <td>44</td>\n",
       "      <td>10</td>\n",
       "      <td>22.73</td>\n",
       "      <td>3</td>\n",
       "    </tr>\n",
       "    <tr>\n",
       "      <th>4</th>\n",
       "      <td>--rE6D0_jAw</td>\n",
       "      <td>5406</td>\n",
       "      <td>964</td>\n",
       "      <td>4</td>\n",
       "      <td>Entertainment</td>\n",
       "      <td>HÖR AUF DAS SCHLECHTE ZU SEHEN!</td>\n",
       "      <td>26</td>\n",
       "      <td>25</td>\n",
       "      <td>96.15</td>\n",
       "      <td>10</td>\n",
       "    </tr>\n",
       "  </tbody>\n",
       "</table>\n",
       "</div>"
      ],
      "text/plain": [
       "      video_id    views  likes  dislikes    category_name  \\\n",
       "0  --7vNbh4UNA  1082647  52113      1284  News & Politics   \n",
       "1  --I0aj8MUdU   139025    490        78    Entertainment   \n",
       "2  --MtKsH5oBY   225445   2156       227           Sports   \n",
       "3  --moh3hSPpY    17050    100        32    Entertainment   \n",
       "4  --rE6D0_jAw     5406    964         4    Entertainment   \n",
       "\n",
       "                                               title  num_char  num_caps  \\\n",
       "0  Responding to ALL The Outrage, Ridiculous H3H3...        66        12   \n",
       "1  E diela shqiptare - Ka nje mesazh per ty! (04 ...        47         2   \n",
       "2  صحفي بين سبورت يكشف تفاصيل و كواليس استقالة زي...        57         0   \n",
       "3  Te vreau langa mine! (02.01.2018) - Editie COM...        44        10   \n",
       "4                    HÖR AUF DAS SCHLECHTE ZU SEHEN!        26        25   \n",
       "\n",
       "   cap_share  cap_classified  \n",
       "0      18.18               2  \n",
       "1       4.26               1  \n",
       "2       0.00               1  \n",
       "3      22.73               3  \n",
       "4      96.15              10  "
      ]
     },
     "execution_count": 87,
     "metadata": {},
     "output_type": "execute_result"
    }
   ],
   "source": [
    "cap_views_df.head()"
   ]
  },
  {
   "cell_type": "code",
   "execution_count": 89,
   "metadata": {},
   "outputs": [
    {
     "data": {
      "text/plain": [
       "(0.0, 1000000.0)"
      ]
     },
     "execution_count": 89,
     "metadata": {},
     "output_type": "execute_result"
    },
    {
     "data": {
      "image/png": "[encoded data removed]",
      "text/plain": [
       "<Figure size 432x288 with 1 Axes>"
      ]
     },
     "metadata": {
      "needs_background": "light"
     },
     "output_type": "display_data"
    }
   ],
   "source": [
    "graph5 = cap_views_df.plot.scatter(x=\"cap_classified\", y=\"views\")\n",
    "graph5.set_xlabel(\"Kategorien Großbuchstaben\")\n",
    "graph5.set_ylabel(\"Anzahl Views\")\n",
    "#graph5.set_ylim([0, 1000000])"
   ]
  },
  {
   "cell_type": "code",
   "execution_count": 94,
   "metadata": {},
   "outputs": [
    {
     "data": {
      "text/plain": [
       "305503.06340882"
      ]
     },
     "execution_count": 94,
     "metadata": {},
     "output_type": "execute_result"
    }
   ],
   "source": [
    "group1 = cap_views_df.groupby('cap_classified').get_group(1)\n",
    "group1[\"views\"].mean()"
   ]
  },
  {
   "cell_type": "code",
   "execution_count": 96,
   "metadata": {},
   "outputs": [
    {
     "data": {
      "text/plain": [
       "503116.18309536536"
      ]
     },
     "execution_count": 96,
     "metadata": {},
     "output_type": "execute_result"
    }
   ],
   "source": [
    "group2 = cap_views_df.groupby('cap_classified').get_group(2)\n",
    "group2[\"views\"].mean()"
   ]
  },
  {
   "cell_type": "code",
   "execution_count": 95,
   "metadata": {},
   "outputs": [
    {
     "data": {
      "text/plain": [
       "805955.9426470589"
      ]
     },
     "execution_count": 95,
     "metadata": {},
     "output_type": "execute_result"
    }
   ],
   "source": [
    "group10 = cap_views_df.groupby('cap_classified').get_group(10)\n",
    "group10[\"views\"].mean()"
   ]
  },
  {
   "cell_type": "code",
   "execution_count": null,
   "metadata": {},
   "outputs": [],
   "source": []
  },
  {
   "cell_type": "code",
   "execution_count": null,
   "metadata": {},
   "outputs": [],
   "source": []
  }
 ],
 "metadata": {
  "kernelspec": {
   "display_name": "Python 3",
   "language": "python",
   "name": "python3"
  },
  "language_info": {
   "codemirror_mode": {
    "name": "ipython",
    "version": 3
   },
   "file_extension": ".py",
   "mimetype": "text/x-python",
   "name": "python",
   "nbconvert_exporter": "python",
   "pygments_lexer": "ipython3",
   "version": "3.8.5"
  }
 },
 "nbformat": 4,
 "nbformat_minor": 4
}
