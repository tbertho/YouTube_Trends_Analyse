{
 "cells": [
  {
   "cell_type": "code",
   "execution_count": 40,
   "metadata": {},
   "outputs": [],
   "source": [
    "import pandas as pd\n",
    "import numpy as np\n",
    "import matplotlib.pyplot as plt\n",
    "import seaborn as sns\n",
    "from datetime import datetime\n",
    "%matplotlib inline"
   ]
  },
  {
   "cell_type": "code",
   "execution_count": 2,
   "metadata": {},
   "outputs": [],
   "source": [
    "%store -r data_once"
   ]
  },
  {
   "cell_type": "code",
   "execution_count": 8,
   "metadata": {},
   "outputs": [
    {
     "data": {
      "text/html": [
       "<div>\n",
       "<style scoped>\n",
       "    .dataframe tbody tr th:only-of-type {\n",
       "        vertical-align: middle;\n",
       "    }\n",
       "\n",
       "    .dataframe tbody tr th {\n",
       "        vertical-align: top;\n",
       "    }\n",
       "\n",
       "    .dataframe thead th {\n",
       "        text-align: right;\n",
       "    }\n",
       "</style>\n",
       "<table border=\"1\" class=\"dataframe\">\n",
       "  <thead>\n",
       "    <tr style=\"text-align: right;\">\n",
       "      <th></th>\n",
       "      <th>video_id</th>\n",
       "      <th>trending_date</th>\n",
       "      <th>latest_trending_date</th>\n",
       "      <th>latest_trending_date_x</th>\n",
       "      <th>title</th>\n",
       "      <th>channel_title</th>\n",
       "      <th>publish_time</th>\n",
       "      <th>tags</th>\n",
       "      <th>views</th>\n",
       "      <th>likes</th>\n",
       "      <th>dislikes</th>\n",
       "      <th>comment_count</th>\n",
       "      <th>comments_disabled</th>\n",
       "      <th>ratings_disabled</th>\n",
       "      <th>video_error_or_removed</th>\n",
       "      <th>description</th>\n",
       "      <th>category_name</th>\n",
       "      <th>latest_trending_date_y</th>\n",
       "    </tr>\n",
       "  </thead>\n",
       "  <tbody>\n",
       "    <tr>\n",
       "      <th>0</th>\n",
       "      <td>--7vNbh4UNA</td>\n",
       "      <td>18.14.04</td>\n",
       "      <td>18.14.04</td>\n",
       "      <td>18.14.04</td>\n",
       "      <td>Responding to ALL The Outrage, Ridiculous H3H3...</td>\n",
       "      <td>Philip DeFranco</td>\n",
       "      <td>2018-04-13T19:00:00.000Z</td>\n",
       "      <td>Elizabeth Hurley|\"Instagram\"|\"Outrage\"|\"scanda...</td>\n",
       "      <td>1082647</td>\n",
       "      <td>52113</td>\n",
       "      <td>1284</td>\n",
       "      <td>10602</td>\n",
       "      <td>False</td>\n",
       "      <td>False</td>\n",
       "      <td>False</td>\n",
       "      <td>Thanks for tuning in this week, ya Beautiful B...</td>\n",
       "      <td>News &amp; Politics</td>\n",
       "      <td>18.14.04</td>\n",
       "    </tr>\n",
       "    <tr>\n",
       "      <th>1</th>\n",
       "      <td>--I0aj8MUdU</td>\n",
       "      <td>18.06.02</td>\n",
       "      <td>18.06.02</td>\n",
       "      <td>18.06.02</td>\n",
       "      <td>E diela shqiptare - Ka nje mesazh per ty! (04 ...</td>\n",
       "      <td>RTV KLAN</td>\n",
       "      <td>2018-02-04T13:19:38.000Z</td>\n",
       "      <td>tv klan|\"televizioni klan\"|\"klanhd\"|\"ardit gje...</td>\n",
       "      <td>139025</td>\n",
       "      <td>490</td>\n",
       "      <td>78</td>\n",
       "      <td>22</td>\n",
       "      <td>False</td>\n",
       "      <td>False</td>\n",
       "      <td>False</td>\n",
       "      <td>Facebook: https://www.facebook.com/tvklan Talk...</td>\n",
       "      <td>Entertainment</td>\n",
       "      <td>18.06.02</td>\n",
       "    </tr>\n",
       "    <tr>\n",
       "      <th>2</th>\n",
       "      <td>--MtKsH5oBY</td>\n",
       "      <td>18.31.05</td>\n",
       "      <td>18.31.05</td>\n",
       "      <td>18.31.05</td>\n",
       "      <td>صحفي بين سبورت يكشف تفاصيل و كواليس استقالة زي...</td>\n",
       "      <td>RedsTech</td>\n",
       "      <td>2018-05-31T12:40:46.000Z</td>\n",
       "      <td>RedsTech|\"bein sports\"|\"ريال مدريد\"|\"real madr...</td>\n",
       "      <td>225445</td>\n",
       "      <td>2156</td>\n",
       "      <td>227</td>\n",
       "      <td>562</td>\n",
       "      <td>False</td>\n",
       "      <td>False</td>\n",
       "      <td>False</td>\n",
       "      <td>I للتواصل معنا Ihttps://www.facebook.com/RedsT...</td>\n",
       "      <td>Sports</td>\n",
       "      <td>18.31.05</td>\n",
       "    </tr>\n",
       "    <tr>\n",
       "      <th>3</th>\n",
       "      <td>--moh3hSPpY</td>\n",
       "      <td>18.03.01</td>\n",
       "      <td>18.03.01</td>\n",
       "      <td>18.03.01</td>\n",
       "      <td>Te vreau langa mine! (02.01.2018) - Editie COM...</td>\n",
       "      <td>Kanal D Romania</td>\n",
       "      <td>2018-01-02T13:30:00.000Z</td>\n",
       "      <td>te vreau langa mine|\"kanal d\"|\"kanal d romania...</td>\n",
       "      <td>17050</td>\n",
       "      <td>100</td>\n",
       "      <td>32</td>\n",
       "      <td>74</td>\n",
       "      <td>False</td>\n",
       "      <td>False</td>\n",
       "      <td>False</td>\n",
       "      <td>Te vreau langa mine! (02.01.2018) - Editie COM...</td>\n",
       "      <td>Entertainment</td>\n",
       "      <td>18.03.01</td>\n",
       "    </tr>\n",
       "    <tr>\n",
       "      <th>4</th>\n",
       "      <td>--rE6D0_jAw</td>\n",
       "      <td>18.30.04</td>\n",
       "      <td>18.30.04</td>\n",
       "      <td>18.30.04</td>\n",
       "      <td>HÖR AUF DAS SCHLECHTE ZU SEHEN!</td>\n",
       "      <td>Biyon</td>\n",
       "      <td>2018-04-29T14:35:57.000Z</td>\n",
       "      <td>Motivation|\"Positivität\"|\"Erfolg\"|\"Selbstbewus...</td>\n",
       "      <td>5406</td>\n",
       "      <td>964</td>\n",
       "      <td>4</td>\n",
       "      <td>191</td>\n",
       "      <td>False</td>\n",
       "      <td>False</td>\n",
       "      <td>False</td>\n",
       "      <td>▶︎ Wie du vielleicht mitbekommen hast, ist mei...</td>\n",
       "      <td>Entertainment</td>\n",
       "      <td>18.30.04</td>\n",
       "    </tr>\n",
       "  </tbody>\n",
       "</table>\n",
       "</div>"
      ],
      "text/plain": [
       "      video_id trending_date latest_trending_date latest_trending_date_x  \\\n",
       "0  --7vNbh4UNA      18.14.04             18.14.04               18.14.04   \n",
       "1  --I0aj8MUdU      18.06.02             18.06.02               18.06.02   \n",
       "2  --MtKsH5oBY      18.31.05             18.31.05               18.31.05   \n",
       "3  --moh3hSPpY      18.03.01             18.03.01               18.03.01   \n",
       "4  --rE6D0_jAw      18.30.04             18.30.04               18.30.04   \n",
       "\n",
       "                                               title    channel_title  \\\n",
       "0  Responding to ALL The Outrage, Ridiculous H3H3...  Philip DeFranco   \n",
       "1  E diela shqiptare - Ka nje mesazh per ty! (04 ...         RTV KLAN   \n",
       "2  صحفي بين سبورت يكشف تفاصيل و كواليس استقالة زي...         RedsTech   \n",
       "3  Te vreau langa mine! (02.01.2018) - Editie COM...  Kanal D Romania   \n",
       "4                    HÖR AUF DAS SCHLECHTE ZU SEHEN!            Biyon   \n",
       "\n",
       "               publish_time  \\\n",
       "0  2018-04-13T19:00:00.000Z   \n",
       "1  2018-02-04T13:19:38.000Z   \n",
       "2  2018-05-31T12:40:46.000Z   \n",
       "3  2018-01-02T13:30:00.000Z   \n",
       "4  2018-04-29T14:35:57.000Z   \n",
       "\n",
       "                                                tags    views  likes  \\\n",
       "0  Elizabeth Hurley|\"Instagram\"|\"Outrage\"|\"scanda...  1082647  52113   \n",
       "1  tv klan|\"televizioni klan\"|\"klanhd\"|\"ardit gje...   139025    490   \n",
       "2  RedsTech|\"bein sports\"|\"ريال مدريد\"|\"real madr...   225445   2156   \n",
       "3  te vreau langa mine|\"kanal d\"|\"kanal d romania...    17050    100   \n",
       "4  Motivation|\"Positivität\"|\"Erfolg\"|\"Selbstbewus...     5406    964   \n",
       "\n",
       "   dislikes  comment_count  comments_disabled  ratings_disabled  \\\n",
       "0      1284          10602              False             False   \n",
       "1        78             22              False             False   \n",
       "2       227            562              False             False   \n",
       "3        32             74              False             False   \n",
       "4         4            191              False             False   \n",
       "\n",
       "   video_error_or_removed                                        description  \\\n",
       "0                   False  Thanks for tuning in this week, ya Beautiful B...   \n",
       "1                   False  Facebook: https://www.facebook.com/tvklan Talk...   \n",
       "2                   False  I للتواصل معنا Ihttps://www.facebook.com/RedsT...   \n",
       "3                   False  Te vreau langa mine! (02.01.2018) - Editie COM...   \n",
       "4                   False  ▶︎ Wie du vielleicht mitbekommen hast, ist mei...   \n",
       "\n",
       "     category_name latest_trending_date_y  \n",
       "0  News & Politics               18.14.04  \n",
       "1    Entertainment               18.06.02  \n",
       "2           Sports               18.31.05  \n",
       "3    Entertainment               18.03.01  \n",
       "4    Entertainment               18.30.04  "
      ]
     },
     "execution_count": 8,
     "metadata": {},
     "output_type": "execute_result"
    }
   ],
   "source": [
    "data_once.head()"
   ]
  },
  {
   "cell_type": "code",
   "execution_count": 11,
   "metadata": {},
   "outputs": [
    {
     "data": {
      "text/plain": [
       "[<matplotlib.lines.Line2D at 0x224a8cc1d00>]"
      ]
     },
     "execution_count": 11,
     "metadata": {},
     "output_type": "execute_result"
    },
    {
     "data": {
      "image/png": "[encoded data removed]",
      "text/plain": [
       "<Figure size 432x288 with 1 Axes>"
      ]
     },
     "metadata": {
      "needs_background": "light"
     },
     "output_type": "display_data"
    }
   ],
   "source": [
    "x = data_once['category_name']\n",
    "y = data_once['views']\n",
    "\n",
    "plt.plot(x, y, 'r')"
   ]
  },
  {
   "cell_type": "markdown",
   "metadata": {},
   "source": [
    "Ideen für Visualisierungen:\n",
    "    - Balkendiagramm Kategorien mit durchschnittlichen Views, Likes, Dislikes, Comments\n",
    "    - "
   ]
  },
  {
   "cell_type": "code",
   "execution_count": 16,
   "metadata": {},
   "outputs": [
    {
     "name": "stderr",
     "output_type": "stream",
     "text": [
      "C:\\Users\\Nutzer\\anaconda3\\lib\\site-packages\\seaborn\\distributions.py:2551: FutureWarning: `distplot` is a deprecated function and will be removed in a future version. Please adapt your code to use either `displot` (a figure-level function with similar flexibility) or `histplot` (an axes-level function for histograms).\n",
      "  warnings.warn(msg, FutureWarning)\n"
     ]
    },
    {
     "data": {
      "text/plain": [
       "<AxesSubplot:xlabel='views', ylabel='Density'>"
      ]
     },
     "execution_count": 16,
     "metadata": {},
     "output_type": "execute_result"
    },
    {
     "data": {
      "image/png": "[encoded data removed]",
      "text/plain": [
       "<Figure size 432x288 with 1 Axes>"
      ]
     },
     "metadata": {
      "needs_background": "light"
     },
     "output_type": "display_data"
    }
   ],
   "source": [
    "sns.distplot(data_once['views'], bins = 100)"
   ]
  },
  {
   "cell_type": "code",
   "execution_count": 18,
   "metadata": {},
   "outputs": [
    {
     "data": {
      "text/plain": [
       "113876217"
      ]
     },
     "execution_count": 18,
     "metadata": {},
     "output_type": "execute_result"
    }
   ],
   "source": [
    "data_once['views'].mean()\n",
    "data_once['views'].max()"
   ]
  },
  {
   "cell_type": "code",
   "execution_count": 20,
   "metadata": {},
   "outputs": [
    {
     "data": {
      "text/plain": [
       "<seaborn.axisgrid.JointGrid at 0x224b4ccbdf0>"
      ]
     },
     "execution_count": 20,
     "metadata": {},
     "output_type": "execute_result"
    },
    {
     "data": {
      "image/png": "[encoded data removed]",
      "text/plain": [
       "<Figure size 432x432 with 3 Axes>"
      ]
     },
     "metadata": {
      "needs_background": "light"
     },
     "output_type": "display_data"
    }
   ],
   "source": [
    "#sns.jointplot(x=\"views\", y= \"likes\", data = data_once, kind=\"scatter\")\n",
    "#sns.jointplot(x=\"views\", y= \"likes\", data = data_once, kind=\"hex\")\n",
    "#sns.jointplot(x=\"views\", y= \"likes\", data = data_once, kind=\"reg\")\n",
    "#sns.jointplot(x=\"views\", y= \"likes\", data = data_once, kind=\"kde\")"
   ]
  },
  {
   "cell_type": "code",
   "execution_count": 22,
   "metadata": {},
   "outputs": [],
   "source": [
    "df_pair_plot = data_once.loc[:,('views', 'likes', 'dislikes')]"
   ]
  },
  {
   "cell_type": "code",
   "execution_count": 23,
   "metadata": {},
   "outputs": [
    {
     "data": {
      "text/plain": [
       "<seaborn.axisgrid.PairGrid at 0x224b4cc4220>"
      ]
     },
     "execution_count": 23,
     "metadata": {},
     "output_type": "execute_result"
    },
    {
     "data": {
      "image/png": "[encoded data removed]",
      "text/plain": [
       "<Figure size 540x540 with 12 Axes>"
      ]
     },
     "metadata": {
      "needs_background": "light"
     },
     "output_type": "display_data"
    }
   ],
   "source": [
    "sns.pairplot(df_pair_plot)"
   ]
  },
  {
   "cell_type": "markdown",
   "metadata": {},
   "source": [
    "### Analyse Kategorische Variablen"
   ]
  },
  {
   "cell_type": "code",
   "execution_count": 25,
   "metadata": {},
   "outputs": [
    {
     "data": {
      "text/plain": [
       "<AxesSubplot:xlabel='comments_disabled', ylabel='views'>"
      ]
     },
     "execution_count": 25,
     "metadata": {},
     "output_type": "execute_result"
    },
    {
     "data": {
      "image/png": "[encoded data removed]",
      "text/plain": [
       "<Figure size 432x288 with 1 Axes>"
      ]
     },
     "metadata": {
      "needs_background": "light"
     },
     "output_type": "display_data"
    }
   ],
   "source": [
    "sns.barplot(x='comments_disabled', y='views', data = data_once)"
   ]
  },
  {
   "cell_type": "markdown",
   "metadata": {},
   "source": [
    "Die durchschnittliche Clickzahl für Videos mit freigeschalteten Kommentaren liegt bei ~ 480.000 und bei Videos mit gesperrten Kommentaren bei knapp 400.000"
   ]
  },
  {
   "cell_type": "code",
   "execution_count": 28,
   "metadata": {},
   "outputs": [
    {
     "data": {
      "text/plain": [
       "<AxesSubplot:xlabel='comments_disabled', ylabel='count'>"
      ]
     },
     "execution_count": 28,
     "metadata": {},
     "output_type": "execute_result"
    },
    {
     "data": {
      "image/png": "[encoded data removed]",
      "text/plain": [
       "<Figure size 432x288 with 1 Axes>"
      ]
     },
     "metadata": {
      "needs_background": "light"
     },
     "output_type": "display_data"
    }
   ],
   "source": [
    "sns.countplot(x='comments_disabled', data = data_once)"
   ]
  },
  {
   "cell_type": "code",
   "execution_count": 26,
   "metadata": {},
   "outputs": [
    {
     "data": {
      "text/plain": [
       "<AxesSubplot:xlabel='ratings_disabled', ylabel='views'>"
      ]
     },
     "execution_count": 26,
     "metadata": {},
     "output_type": "execute_result"
    },
    {
     "data": {
      "image/png": "[encoded data removed]",
      "text/plain": [
       "<Figure size 432x288 with 1 Axes>"
      ]
     },
     "metadata": {
      "needs_background": "light"
     },
     "output_type": "display_data"
    }
   ],
   "source": [
    "sns.barplot(x='ratings_disabled', y='views', data = data_once)"
   ]
  },
  {
   "cell_type": "code",
   "execution_count": 29,
   "metadata": {},
   "outputs": [
    {
     "data": {
      "text/plain": [
       "<AxesSubplot:xlabel='ratings_disabled', ylabel='count'>"
      ]
     },
     "execution_count": 29,
     "metadata": {},
     "output_type": "execute_result"
    },
    {
     "data": {
      "image/png": "[encoded data removed]",
      "text/plain": [
       "<Figure size 432x288 with 1 Axes>"
      ]
     },
     "metadata": {
      "needs_background": "light"
     },
     "output_type": "display_data"
    }
   ],
   "source": [
    "sns.countplot(x='ratings_disabled', data = data_once)"
   ]
  },
  {
   "cell_type": "code",
   "execution_count": 30,
   "metadata": {},
   "outputs": [
    {
     "data": {
      "text/plain": [
       "<AxesSubplot:xlabel='comments_disabled', ylabel='views'>"
      ]
     },
     "execution_count": 30,
     "metadata": {},
     "output_type": "execute_result"
    },
    {
     "data": {
      "image/png": "[encoded data removed]",
      "text/plain": [
       "<Figure size 432x288 with 1 Axes>"
      ]
     },
     "metadata": {
      "needs_background": "light"
     },
     "output_type": "display_data"
    }
   ],
   "source": [
    "sns.boxplot(x='comments_disabled', y = 'views', data= data_once, palette=\"rainbow\")"
   ]
  },
  {
   "cell_type": "code",
   "execution_count": 32,
   "metadata": {},
   "outputs": [
    {
     "data": {
      "text/plain": [
       "<AxesSubplot:xlabel='comments_disabled', ylabel='views'>"
      ]
     },
     "execution_count": 32,
     "metadata": {},
     "output_type": "execute_result"
    },
    {
     "data": {
      "image/png": "[encoded data removed]",
      "text/plain": [
       "<Figure size 432x288 with 1 Axes>"
      ]
     },
     "metadata": {
      "needs_background": "light"
     },
     "output_type": "display_data"
    }
   ],
   "source": [
    "sns.violinplot(x='comments_disabled', y = 'views', data= data_once, palette=\"rainbow\")"
   ]
  },
  {
   "cell_type": "markdown",
   "metadata": {},
   "source": [
    "### Matrix Plots"
   ]
  },
  {
   "cell_type": "code",
   "execution_count": 34,
   "metadata": {},
   "outputs": [
    {
     "data": {
      "text/html": [
       "<div>\n",
       "<style scoped>\n",
       "    .dataframe tbody tr th:only-of-type {\n",
       "        vertical-align: middle;\n",
       "    }\n",
       "\n",
       "    .dataframe tbody tr th {\n",
       "        vertical-align: top;\n",
       "    }\n",
       "\n",
       "    .dataframe thead th {\n",
       "        text-align: right;\n",
       "    }\n",
       "</style>\n",
       "<table border=\"1\" class=\"dataframe\">\n",
       "  <thead>\n",
       "    <tr style=\"text-align: right;\">\n",
       "      <th></th>\n",
       "      <th>views</th>\n",
       "      <th>likes</th>\n",
       "      <th>dislikes</th>\n",
       "      <th>comment_count</th>\n",
       "      <th>comments_disabled</th>\n",
       "      <th>ratings_disabled</th>\n",
       "      <th>video_error_or_removed</th>\n",
       "    </tr>\n",
       "  </thead>\n",
       "  <tbody>\n",
       "    <tr>\n",
       "      <th>views</th>\n",
       "      <td>1.000000</td>\n",
       "      <td>0.799495</td>\n",
       "      <td>0.572223</td>\n",
       "      <td>0.675062</td>\n",
       "      <td>-0.006572</td>\n",
       "      <td>-0.010408</td>\n",
       "      <td>-0.002371</td>\n",
       "    </tr>\n",
       "    <tr>\n",
       "      <th>likes</th>\n",
       "      <td>0.799495</td>\n",
       "      <td>1.000000</td>\n",
       "      <td>0.439055</td>\n",
       "      <td>0.833700</td>\n",
       "      <td>-0.025448</td>\n",
       "      <td>-0.027409</td>\n",
       "      <td>-0.000341</td>\n",
       "    </tr>\n",
       "    <tr>\n",
       "      <th>dislikes</th>\n",
       "      <td>0.572223</td>\n",
       "      <td>0.439055</td>\n",
       "      <td>1.000000</td>\n",
       "      <td>0.564491</td>\n",
       "      <td>-0.009039</td>\n",
       "      <td>-0.012085</td>\n",
       "      <td>0.000009</td>\n",
       "    </tr>\n",
       "    <tr>\n",
       "      <th>comment_count</th>\n",
       "      <td>0.675062</td>\n",
       "      <td>0.833700</td>\n",
       "      <td>0.564491</td>\n",
       "      <td>1.000000</td>\n",
       "      <td>-0.026030</td>\n",
       "      <td>-0.011774</td>\n",
       "      <td>-0.000725</td>\n",
       "    </tr>\n",
       "    <tr>\n",
       "      <th>comments_disabled</th>\n",
       "      <td>-0.006572</td>\n",
       "      <td>-0.025448</td>\n",
       "      <td>-0.009039</td>\n",
       "      <td>-0.026030</td>\n",
       "      <td>1.000000</td>\n",
       "      <td>0.248598</td>\n",
       "      <td>-0.002654</td>\n",
       "    </tr>\n",
       "    <tr>\n",
       "      <th>ratings_disabled</th>\n",
       "      <td>-0.010408</td>\n",
       "      <td>-0.027409</td>\n",
       "      <td>-0.012085</td>\n",
       "      <td>-0.011774</td>\n",
       "      <td>0.248598</td>\n",
       "      <td>1.000000</td>\n",
       "      <td>-0.002208</td>\n",
       "    </tr>\n",
       "    <tr>\n",
       "      <th>video_error_or_removed</th>\n",
       "      <td>-0.002371</td>\n",
       "      <td>-0.000341</td>\n",
       "      <td>0.000009</td>\n",
       "      <td>-0.000725</td>\n",
       "      <td>-0.002654</td>\n",
       "      <td>-0.002208</td>\n",
       "      <td>1.000000</td>\n",
       "    </tr>\n",
       "  </tbody>\n",
       "</table>\n",
       "</div>"
      ],
      "text/plain": [
       "                           views     likes  dislikes  comment_count  \\\n",
       "views                   1.000000  0.799495  0.572223       0.675062   \n",
       "likes                   0.799495  1.000000  0.439055       0.833700   \n",
       "dislikes                0.572223  0.439055  1.000000       0.564491   \n",
       "comment_count           0.675062  0.833700  0.564491       1.000000   \n",
       "comments_disabled      -0.006572 -0.025448 -0.009039      -0.026030   \n",
       "ratings_disabled       -0.010408 -0.027409 -0.012085      -0.011774   \n",
       "video_error_or_removed -0.002371 -0.000341  0.000009      -0.000725   \n",
       "\n",
       "                        comments_disabled  ratings_disabled  \\\n",
       "views                           -0.006572         -0.010408   \n",
       "likes                           -0.025448         -0.027409   \n",
       "dislikes                        -0.009039         -0.012085   \n",
       "comment_count                   -0.026030         -0.011774   \n",
       "comments_disabled                1.000000          0.248598   \n",
       "ratings_disabled                 0.248598          1.000000   \n",
       "video_error_or_removed          -0.002654         -0.002208   \n",
       "\n",
       "                        video_error_or_removed  \n",
       "views                                -0.002371  \n",
       "likes                                -0.000341  \n",
       "dislikes                              0.000009  \n",
       "comment_count                        -0.000725  \n",
       "comments_disabled                    -0.002654  \n",
       "ratings_disabled                     -0.002208  \n",
       "video_error_or_removed                1.000000  "
      ]
     },
     "execution_count": 34,
     "metadata": {},
     "output_type": "execute_result"
    }
   ],
   "source": [
    "data_once.corr()"
   ]
  },
  {
   "cell_type": "code",
   "execution_count": 36,
   "metadata": {},
   "outputs": [
    {
     "data": {
      "text/plain": [
       "<AxesSubplot:>"
      ]
     },
     "execution_count": 36,
     "metadata": {},
     "output_type": "execute_result"
    },
    {
     "data": {
      "image/png": "[encoded data removed]",
      "text/plain": [
       "<Figure size 432x288 with 2 Axes>"
      ]
     },
     "metadata": {
      "needs_background": "light"
     },
     "output_type": "display_data"
    }
   ],
   "source": [
    "sns.heatmap(data_once.corr(), annot=True)"
   ]
  },
  {
   "cell_type": "code",
   "execution_count": 67,
   "metadata": {},
   "outputs": [
    {
     "data": {
      "text/plain": [
       "0        04.18\n",
       "1        02.18\n",
       "2        05.18\n",
       "3        01.18\n",
       "4        04.18\n",
       "         ...  \n",
       "29420    03.18\n",
       "29421    03.18\n",
       "29422    03.18\n",
       "29423    12.17\n",
       "29424    02.18\n",
       "Name: month, Length: 29425, dtype: object"
      ]
     },
     "execution_count": 67,
     "metadata": {},
     "output_type": "execute_result"
    }
   ],
   "source": [
    "data_once[\"trending_date_format\"]=pd.to_datetime(data_once['trending_date'], format ='%y.%d.%m')\n",
    "data_once[\"month_year\"] = data_once['trending_date_format'].dt.strftime('%m.%y')\n",
    "data_once.month"
   ]
  },
  {
   "cell_type": "code",
   "execution_count": 62,
   "metadata": {},
   "outputs": [
    {
     "data": {
      "text/plain": [
       "Timestamp('2017-11-14 00:00:00')"
      ]
     },
     "execution_count": 62,
     "metadata": {},
     "output_type": "execute_result"
    }
   ],
   "source": [
    "data_once[\"trending_date_format\"].min()"
   ]
  },
  {
   "cell_type": "code",
   "execution_count": 63,
   "metadata": {},
   "outputs": [
    {
     "data": {
      "text/plain": [
       "Timestamp('2018-06-14 00:00:00')"
      ]
     },
     "execution_count": 63,
     "metadata": {},
     "output_type": "execute_result"
    }
   ],
   "source": [
    "data_once[\"trending_date_format\"].max()"
   ]
  },
  {
   "cell_type": "code",
   "execution_count": 73,
   "metadata": {},
   "outputs": [
    {
     "data": {
      "text/html": [
       "<div>\n",
       "<style scoped>\n",
       "    .dataframe tbody tr th:only-of-type {\n",
       "        vertical-align: middle;\n",
       "    }\n",
       "\n",
       "    .dataframe tbody tr th {\n",
       "        vertical-align: top;\n",
       "    }\n",
       "\n",
       "    .dataframe thead th {\n",
       "        text-align: right;\n",
       "    }\n",
       "</style>\n",
       "<table border=\"1\" class=\"dataframe\">\n",
       "  <thead>\n",
       "    <tr style=\"text-align: right;\">\n",
       "      <th>category_name</th>\n",
       "      <th>Autos &amp; Vehicles</th>\n",
       "      <th>Comedy</th>\n",
       "      <th>Education</th>\n",
       "      <th>Entertainment</th>\n",
       "      <th>Film &amp; Animation</th>\n",
       "      <th>Gaming</th>\n",
       "      <th>Howto &amp; Style</th>\n",
       "      <th>Movies</th>\n",
       "      <th>Music</th>\n",
       "      <th>News &amp; Politics</th>\n",
       "      <th>People &amp; Blogs</th>\n",
       "      <th>Pets &amp; Animals</th>\n",
       "      <th>Science &amp; Technology</th>\n",
       "      <th>Shows</th>\n",
       "      <th>Sports</th>\n",
       "      <th>Trailers</th>\n",
       "      <th>Travel &amp; Events</th>\n",
       "    </tr>\n",
       "    <tr>\n",
       "      <th>month_year</th>\n",
       "      <th></th>\n",
       "      <th></th>\n",
       "      <th></th>\n",
       "      <th></th>\n",
       "      <th></th>\n",
       "      <th></th>\n",
       "      <th></th>\n",
       "      <th></th>\n",
       "      <th></th>\n",
       "      <th></th>\n",
       "      <th></th>\n",
       "      <th></th>\n",
       "      <th></th>\n",
       "      <th></th>\n",
       "      <th></th>\n",
       "      <th></th>\n",
       "      <th></th>\n",
       "    </tr>\n",
       "  </thead>\n",
       "  <tbody>\n",
       "    <tr>\n",
       "      <th>01.18</th>\n",
       "      <td>209128.493827</td>\n",
       "      <td>625420.124498</td>\n",
       "      <td>106091.526882</td>\n",
       "      <td>359837.210938</td>\n",
       "      <td>4.488635e+05</td>\n",
       "      <td>398679.672131</td>\n",
       "      <td>189537.609865</td>\n",
       "      <td>NaN</td>\n",
       "      <td>2.148187e+06</td>\n",
       "      <td>155732.638821</td>\n",
       "      <td>228572.272866</td>\n",
       "      <td>212061.448276</td>\n",
       "      <td>215660.000000</td>\n",
       "      <td>417382.562500</td>\n",
       "      <td>528592.181518</td>\n",
       "      <td>NaN</td>\n",
       "      <td>131729.600000</td>\n",
       "    </tr>\n",
       "    <tr>\n",
       "      <th>02.18</th>\n",
       "      <td>309451.735294</td>\n",
       "      <td>578962.827751</td>\n",
       "      <td>92934.882883</td>\n",
       "      <td>405012.253492</td>\n",
       "      <td>6.557456e+05</td>\n",
       "      <td>199087.767123</td>\n",
       "      <td>258508.432692</td>\n",
       "      <td>NaN</td>\n",
       "      <td>1.523826e+06</td>\n",
       "      <td>295927.392857</td>\n",
       "      <td>368848.499133</td>\n",
       "      <td>172042.037037</td>\n",
       "      <td>423422.192053</td>\n",
       "      <td>230585.333333</td>\n",
       "      <td>568476.942675</td>\n",
       "      <td>NaN</td>\n",
       "      <td>126024.105263</td>\n",
       "    </tr>\n",
       "    <tr>\n",
       "      <th>03.18</th>\n",
       "      <td>134245.000000</td>\n",
       "      <td>582362.774590</td>\n",
       "      <td>189289.972222</td>\n",
       "      <td>411819.533333</td>\n",
       "      <td>6.598263e+05</td>\n",
       "      <td>239396.137566</td>\n",
       "      <td>203510.885463</td>\n",
       "      <td>NaN</td>\n",
       "      <td>2.052467e+06</td>\n",
       "      <td>289050.048101</td>\n",
       "      <td>302919.014263</td>\n",
       "      <td>284080.970588</td>\n",
       "      <td>379010.299065</td>\n",
       "      <td>600038.142857</td>\n",
       "      <td>690747.309353</td>\n",
       "      <td>8804.0</td>\n",
       "      <td>157942.863636</td>\n",
       "    </tr>\n",
       "    <tr>\n",
       "      <th>04.18</th>\n",
       "      <td>116291.960000</td>\n",
       "      <td>629409.643836</td>\n",
       "      <td>159234.000000</td>\n",
       "      <td>469785.499157</td>\n",
       "      <td>5.339706e+05</td>\n",
       "      <td>326753.577320</td>\n",
       "      <td>362462.709677</td>\n",
       "      <td>NaN</td>\n",
       "      <td>1.980575e+06</td>\n",
       "      <td>306139.968254</td>\n",
       "      <td>315002.292599</td>\n",
       "      <td>357894.653846</td>\n",
       "      <td>266943.180723</td>\n",
       "      <td>523875.333333</td>\n",
       "      <td>556286.640777</td>\n",
       "      <td>NaN</td>\n",
       "      <td>182798.333333</td>\n",
       "    </tr>\n",
       "    <tr>\n",
       "      <th>05.18</th>\n",
       "      <td>172293.750000</td>\n",
       "      <td>672177.570000</td>\n",
       "      <td>188711.853659</td>\n",
       "      <td>471369.510532</td>\n",
       "      <td>6.544932e+05</td>\n",
       "      <td>692813.221239</td>\n",
       "      <td>432034.476190</td>\n",
       "      <td>NaN</td>\n",
       "      <td>2.409235e+06</td>\n",
       "      <td>431546.530822</td>\n",
       "      <td>343727.261076</td>\n",
       "      <td>257738.250000</td>\n",
       "      <td>989477.542553</td>\n",
       "      <td>495179.700000</td>\n",
       "      <td>607931.417957</td>\n",
       "      <td>NaN</td>\n",
       "      <td>134509.181818</td>\n",
       "    </tr>\n",
       "    <tr>\n",
       "      <th>06.18</th>\n",
       "      <td>248898.606061</td>\n",
       "      <td>524454.424000</td>\n",
       "      <td>255394.454545</td>\n",
       "      <td>541555.496287</td>\n",
       "      <td>1.081540e+06</td>\n",
       "      <td>739643.683333</td>\n",
       "      <td>482125.683544</td>\n",
       "      <td>2289027.0</td>\n",
       "      <td>1.849824e+06</td>\n",
       "      <td>339404.876923</td>\n",
       "      <td>417282.611111</td>\n",
       "      <td>656943.400000</td>\n",
       "      <td>436876.266667</td>\n",
       "      <td>480076.000000</td>\n",
       "      <td>796468.565891</td>\n",
       "      <td>NaN</td>\n",
       "      <td>180148.285714</td>\n",
       "    </tr>\n",
       "    <tr>\n",
       "      <th>11.17</th>\n",
       "      <td>196766.606557</td>\n",
       "      <td>640398.287671</td>\n",
       "      <td>88185.514706</td>\n",
       "      <td>317658.265497</td>\n",
       "      <td>5.517947e+05</td>\n",
       "      <td>129670.757812</td>\n",
       "      <td>247009.897727</td>\n",
       "      <td>NaN</td>\n",
       "      <td>2.270022e+06</td>\n",
       "      <td>94595.341772</td>\n",
       "      <td>243293.389952</td>\n",
       "      <td>539086.187500</td>\n",
       "      <td>819606.291667</td>\n",
       "      <td>507449.666667</td>\n",
       "      <td>442763.723757</td>\n",
       "      <td>NaN</td>\n",
       "      <td>109218.800000</td>\n",
       "    </tr>\n",
       "    <tr>\n",
       "      <th>12.17</th>\n",
       "      <td>210715.588235</td>\n",
       "      <td>705447.888031</td>\n",
       "      <td>140782.477273</td>\n",
       "      <td>421996.892835</td>\n",
       "      <td>3.804077e+05</td>\n",
       "      <td>343993.786127</td>\n",
       "      <td>337820.113208</td>\n",
       "      <td>NaN</td>\n",
       "      <td>1.333224e+06</td>\n",
       "      <td>125059.957895</td>\n",
       "      <td>268722.549296</td>\n",
       "      <td>289442.000000</td>\n",
       "      <td>266332.541667</td>\n",
       "      <td>505606.916667</td>\n",
       "      <td>512982.507874</td>\n",
       "      <td>NaN</td>\n",
       "      <td>112064.000000</td>\n",
       "    </tr>\n",
       "  </tbody>\n",
       "</table>\n",
       "</div>"
      ],
      "text/plain": [
       "category_name  Autos & Vehicles         Comedy      Education  Entertainment  \\\n",
       "month_year                                                                     \n",
       "01.18             209128.493827  625420.124498  106091.526882  359837.210938   \n",
       "02.18             309451.735294  578962.827751   92934.882883  405012.253492   \n",
       "03.18             134245.000000  582362.774590  189289.972222  411819.533333   \n",
       "04.18             116291.960000  629409.643836  159234.000000  469785.499157   \n",
       "05.18             172293.750000  672177.570000  188711.853659  471369.510532   \n",
       "06.18             248898.606061  524454.424000  255394.454545  541555.496287   \n",
       "11.17             196766.606557  640398.287671   88185.514706  317658.265497   \n",
       "12.17             210715.588235  705447.888031  140782.477273  421996.892835   \n",
       "\n",
       "category_name  Film & Animation         Gaming  Howto & Style     Movies  \\\n",
       "month_year                                                                 \n",
       "01.18              4.488635e+05  398679.672131  189537.609865        NaN   \n",
       "02.18              6.557456e+05  199087.767123  258508.432692        NaN   \n",
       "03.18              6.598263e+05  239396.137566  203510.885463        NaN   \n",
       "04.18              5.339706e+05  326753.577320  362462.709677        NaN   \n",
       "05.18              6.544932e+05  692813.221239  432034.476190        NaN   \n",
       "06.18              1.081540e+06  739643.683333  482125.683544  2289027.0   \n",
       "11.17              5.517947e+05  129670.757812  247009.897727        NaN   \n",
       "12.17              3.804077e+05  343993.786127  337820.113208        NaN   \n",
       "\n",
       "category_name         Music  News & Politics  People & Blogs  Pets & Animals  \\\n",
       "month_year                                                                     \n",
       "01.18          2.148187e+06    155732.638821   228572.272866   212061.448276   \n",
       "02.18          1.523826e+06    295927.392857   368848.499133   172042.037037   \n",
       "03.18          2.052467e+06    289050.048101   302919.014263   284080.970588   \n",
       "04.18          1.980575e+06    306139.968254   315002.292599   357894.653846   \n",
       "05.18          2.409235e+06    431546.530822   343727.261076   257738.250000   \n",
       "06.18          1.849824e+06    339404.876923   417282.611111   656943.400000   \n",
       "11.17          2.270022e+06     94595.341772   243293.389952   539086.187500   \n",
       "12.17          1.333224e+06    125059.957895   268722.549296   289442.000000   \n",
       "\n",
       "category_name  Science & Technology          Shows         Sports  Trailers  \\\n",
       "month_year                                                                    \n",
       "01.18                 215660.000000  417382.562500  528592.181518       NaN   \n",
       "02.18                 423422.192053  230585.333333  568476.942675       NaN   \n",
       "03.18                 379010.299065  600038.142857  690747.309353    8804.0   \n",
       "04.18                 266943.180723  523875.333333  556286.640777       NaN   \n",
       "05.18                 989477.542553  495179.700000  607931.417957       NaN   \n",
       "06.18                 436876.266667  480076.000000  796468.565891       NaN   \n",
       "11.17                 819606.291667  507449.666667  442763.723757       NaN   \n",
       "12.17                 266332.541667  505606.916667  512982.507874       NaN   \n",
       "\n",
       "category_name  Travel & Events  \n",
       "month_year                      \n",
       "01.18            131729.600000  \n",
       "02.18            126024.105263  \n",
       "03.18            157942.863636  \n",
       "04.18            182798.333333  \n",
       "05.18            134509.181818  \n",
       "06.18            180148.285714  \n",
       "11.17            109218.800000  \n",
       "12.17            112064.000000  "
      ]
     },
     "execution_count": 73,
     "metadata": {},
     "output_type": "execute_result"
    }
   ],
   "source": [
    "data_once.pivot_table(values=\"views\", index='month_year', columns=\"category_name\")"
   ]
  },
  {
   "cell_type": "code",
   "execution_count": 70,
   "metadata": {},
   "outputs": [
    {
     "data": {
      "text/html": [
       "<div>\n",
       "<style scoped>\n",
       "    .dataframe tbody tr th:only-of-type {\n",
       "        vertical-align: middle;\n",
       "    }\n",
       "\n",
       "    .dataframe tbody tr th {\n",
       "        vertical-align: top;\n",
       "    }\n",
       "\n",
       "    .dataframe thead th {\n",
       "        text-align: right;\n",
       "    }\n",
       "</style>\n",
       "<table border=\"1\" class=\"dataframe\">\n",
       "  <thead>\n",
       "    <tr style=\"text-align: right;\">\n",
       "      <th>category_name</th>\n",
       "      <th>Autos &amp; Vehicles</th>\n",
       "      <th>Comedy</th>\n",
       "      <th>Education</th>\n",
       "      <th>Entertainment</th>\n",
       "      <th>Film &amp; Animation</th>\n",
       "      <th>Gaming</th>\n",
       "      <th>Howto &amp; Style</th>\n",
       "      <th>Movies</th>\n",
       "      <th>Music</th>\n",
       "      <th>News &amp; Politics</th>\n",
       "      <th>People &amp; Blogs</th>\n",
       "      <th>Pets &amp; Animals</th>\n",
       "      <th>Science &amp; Technology</th>\n",
       "      <th>Shows</th>\n",
       "      <th>Sports</th>\n",
       "      <th>Trailers</th>\n",
       "      <th>Travel &amp; Events</th>\n",
       "    </tr>\n",
       "    <tr>\n",
       "      <th>month_year</th>\n",
       "      <th></th>\n",
       "      <th></th>\n",
       "      <th></th>\n",
       "      <th></th>\n",
       "      <th></th>\n",
       "      <th></th>\n",
       "      <th></th>\n",
       "      <th></th>\n",
       "      <th></th>\n",
       "      <th></th>\n",
       "      <th></th>\n",
       "      <th></th>\n",
       "      <th></th>\n",
       "      <th></th>\n",
       "      <th></th>\n",
       "      <th></th>\n",
       "      <th></th>\n",
       "    </tr>\n",
       "  </thead>\n",
       "  <tbody>\n",
       "    <tr>\n",
       "      <th>01.18</th>\n",
       "      <td>5669.432099</td>\n",
       "      <td>29449.634538</td>\n",
       "      <td>5490.053763</td>\n",
       "      <td>11573.653646</td>\n",
       "      <td>12267.251064</td>\n",
       "      <td>19770.918033</td>\n",
       "      <td>4122.488789</td>\n",
       "      <td>NaN</td>\n",
       "      <td>88386.379310</td>\n",
       "      <td>2946.508600</td>\n",
       "      <td>6931.314024</td>\n",
       "      <td>10259.379310</td>\n",
       "      <td>7385.596774</td>\n",
       "      <td>2119.875000</td>\n",
       "      <td>8839.537954</td>\n",
       "      <td>NaN</td>\n",
       "      <td>9151.950000</td>\n",
       "    </tr>\n",
       "    <tr>\n",
       "      <th>02.18</th>\n",
       "      <td>6411.450980</td>\n",
       "      <td>23017.033493</td>\n",
       "      <td>3911.855856</td>\n",
       "      <td>11223.872905</td>\n",
       "      <td>16119.900452</td>\n",
       "      <td>7025.684932</td>\n",
       "      <td>5420.192308</td>\n",
       "      <td>NaN</td>\n",
       "      <td>81004.087719</td>\n",
       "      <td>4601.665584</td>\n",
       "      <td>9082.856153</td>\n",
       "      <td>8589.259259</td>\n",
       "      <td>15607.390728</td>\n",
       "      <td>1017.777778</td>\n",
       "      <td>8771.926752</td>\n",
       "      <td>NaN</td>\n",
       "      <td>3759.842105</td>\n",
       "    </tr>\n",
       "    <tr>\n",
       "      <th>03.18</th>\n",
       "      <td>5029.719424</td>\n",
       "      <td>21369.135246</td>\n",
       "      <td>6533.925926</td>\n",
       "      <td>11881.120126</td>\n",
       "      <td>16159.176471</td>\n",
       "      <td>8425.280423</td>\n",
       "      <td>5352.132159</td>\n",
       "      <td>NaN</td>\n",
       "      <td>84915.840206</td>\n",
       "      <td>4128.820253</td>\n",
       "      <td>7702.434231</td>\n",
       "      <td>10406.323529</td>\n",
       "      <td>7231.112150</td>\n",
       "      <td>5726.285714</td>\n",
       "      <td>12274.949640</td>\n",
       "      <td>0.0</td>\n",
       "      <td>6958.318182</td>\n",
       "    </tr>\n",
       "    <tr>\n",
       "      <th>04.18</th>\n",
       "      <td>4264.760000</td>\n",
       "      <td>26440.237443</td>\n",
       "      <td>7388.066667</td>\n",
       "      <td>13284.320405</td>\n",
       "      <td>9648.288136</td>\n",
       "      <td>13606.144330</td>\n",
       "      <td>9725.941935</td>\n",
       "      <td>NaN</td>\n",
       "      <td>99433.553922</td>\n",
       "      <td>4619.987302</td>\n",
       "      <td>8925.590361</td>\n",
       "      <td>4027.230769</td>\n",
       "      <td>9802.216867</td>\n",
       "      <td>3566.333333</td>\n",
       "      <td>7958.045307</td>\n",
       "      <td>NaN</td>\n",
       "      <td>4311.666667</td>\n",
       "    </tr>\n",
       "    <tr>\n",
       "      <th>05.18</th>\n",
       "      <td>6862.920455</td>\n",
       "      <td>24362.376667</td>\n",
       "      <td>9812.487805</td>\n",
       "      <td>11917.491131</td>\n",
       "      <td>15223.132159</td>\n",
       "      <td>22911.929204</td>\n",
       "      <td>10420.973545</td>\n",
       "      <td>NaN</td>\n",
       "      <td>126371.173913</td>\n",
       "      <td>7827.702055</td>\n",
       "      <td>8809.473101</td>\n",
       "      <td>8303.718750</td>\n",
       "      <td>23540.659574</td>\n",
       "      <td>3153.350000</td>\n",
       "      <td>8969.185759</td>\n",
       "      <td>NaN</td>\n",
       "      <td>5583.727273</td>\n",
       "    </tr>\n",
       "    <tr>\n",
       "      <th>06.18</th>\n",
       "      <td>10730.212121</td>\n",
       "      <td>23912.184000</td>\n",
       "      <td>14851.409091</td>\n",
       "      <td>15160.899752</td>\n",
       "      <td>23565.192771</td>\n",
       "      <td>26550.066667</td>\n",
       "      <td>10914.658228</td>\n",
       "      <td>41807.0</td>\n",
       "      <td>95004.347826</td>\n",
       "      <td>6768.576923</td>\n",
       "      <td>19892.962963</td>\n",
       "      <td>23703.600000</td>\n",
       "      <td>15205.833333</td>\n",
       "      <td>3099.666667</td>\n",
       "      <td>11192.837209</td>\n",
       "      <td>NaN</td>\n",
       "      <td>6605.000000</td>\n",
       "    </tr>\n",
       "    <tr>\n",
       "      <th>11.17</th>\n",
       "      <td>6433.754098</td>\n",
       "      <td>26536.630137</td>\n",
       "      <td>4036.514706</td>\n",
       "      <td>10169.877193</td>\n",
       "      <td>10631.748603</td>\n",
       "      <td>6557.593750</td>\n",
       "      <td>8022.170455</td>\n",
       "      <td>NaN</td>\n",
       "      <td>132997.573171</td>\n",
       "      <td>1775.679325</td>\n",
       "      <td>4830.854067</td>\n",
       "      <td>26154.875000</td>\n",
       "      <td>23714.125000</td>\n",
       "      <td>5684.733333</td>\n",
       "      <td>7591.917127</td>\n",
       "      <td>NaN</td>\n",
       "      <td>6541.400000</td>\n",
       "    </tr>\n",
       "    <tr>\n",
       "      <th>12.17</th>\n",
       "      <td>9179.882353</td>\n",
       "      <td>35069.362934</td>\n",
       "      <td>7268.636364</td>\n",
       "      <td>14056.140233</td>\n",
       "      <td>8565.146667</td>\n",
       "      <td>17728.208092</td>\n",
       "      <td>9425.349057</td>\n",
       "      <td>NaN</td>\n",
       "      <td>62061.480583</td>\n",
       "      <td>1897.263158</td>\n",
       "      <td>9117.500000</td>\n",
       "      <td>12002.657143</td>\n",
       "      <td>12029.708333</td>\n",
       "      <td>3231.458333</td>\n",
       "      <td>9144.389764</td>\n",
       "      <td>NaN</td>\n",
       "      <td>4716.705882</td>\n",
       "    </tr>\n",
       "  </tbody>\n",
       "</table>\n",
       "</div>"
      ],
      "text/plain": [
       "category_name  Autos & Vehicles        Comedy     Education  Entertainment  \\\n",
       "month_year                                                                   \n",
       "01.18               5669.432099  29449.634538   5490.053763   11573.653646   \n",
       "02.18               6411.450980  23017.033493   3911.855856   11223.872905   \n",
       "03.18               5029.719424  21369.135246   6533.925926   11881.120126   \n",
       "04.18               4264.760000  26440.237443   7388.066667   13284.320405   \n",
       "05.18               6862.920455  24362.376667   9812.487805   11917.491131   \n",
       "06.18              10730.212121  23912.184000  14851.409091   15160.899752   \n",
       "11.17               6433.754098  26536.630137   4036.514706   10169.877193   \n",
       "12.17               9179.882353  35069.362934   7268.636364   14056.140233   \n",
       "\n",
       "category_name  Film & Animation        Gaming  Howto & Style   Movies  \\\n",
       "month_year                                                              \n",
       "01.18              12267.251064  19770.918033    4122.488789      NaN   \n",
       "02.18              16119.900452   7025.684932    5420.192308      NaN   \n",
       "03.18              16159.176471   8425.280423    5352.132159      NaN   \n",
       "04.18               9648.288136  13606.144330    9725.941935      NaN   \n",
       "05.18              15223.132159  22911.929204   10420.973545      NaN   \n",
       "06.18              23565.192771  26550.066667   10914.658228  41807.0   \n",
       "11.17              10631.748603   6557.593750    8022.170455      NaN   \n",
       "12.17               8565.146667  17728.208092    9425.349057      NaN   \n",
       "\n",
       "category_name          Music  News & Politics  People & Blogs  Pets & Animals  \\\n",
       "month_year                                                                      \n",
       "01.18           88386.379310      2946.508600     6931.314024    10259.379310   \n",
       "02.18           81004.087719      4601.665584     9082.856153     8589.259259   \n",
       "03.18           84915.840206      4128.820253     7702.434231    10406.323529   \n",
       "04.18           99433.553922      4619.987302     8925.590361     4027.230769   \n",
       "05.18          126371.173913      7827.702055     8809.473101     8303.718750   \n",
       "06.18           95004.347826      6768.576923    19892.962963    23703.600000   \n",
       "11.17          132997.573171      1775.679325     4830.854067    26154.875000   \n",
       "12.17           62061.480583      1897.263158     9117.500000    12002.657143   \n",
       "\n",
       "category_name  Science & Technology        Shows        Sports  Trailers  \\\n",
       "month_year                                                                 \n",
       "01.18                   7385.596774  2119.875000   8839.537954       NaN   \n",
       "02.18                  15607.390728  1017.777778   8771.926752       NaN   \n",
       "03.18                   7231.112150  5726.285714  12274.949640       0.0   \n",
       "04.18                   9802.216867  3566.333333   7958.045307       NaN   \n",
       "05.18                  23540.659574  3153.350000   8969.185759       NaN   \n",
       "06.18                  15205.833333  3099.666667  11192.837209       NaN   \n",
       "11.17                  23714.125000  5684.733333   7591.917127       NaN   \n",
       "12.17                  12029.708333  3231.458333   9144.389764       NaN   \n",
       "\n",
       "category_name  Travel & Events  \n",
       "month_year                      \n",
       "01.18              9151.950000  \n",
       "02.18              3759.842105  \n",
       "03.18              6958.318182  \n",
       "04.18              4311.666667  \n",
       "05.18              5583.727273  \n",
       "06.18              6605.000000  \n",
       "11.17              6541.400000  \n",
       "12.17              4716.705882  "
      ]
     },
     "execution_count": 70,
     "metadata": {},
     "output_type": "execute_result"
    }
   ],
   "source": [
    "data_once.pivot_table(values=\"likes\", index='month_year', columns=\"category_name\")"
   ]
  },
  {
   "cell_type": "code",
   "execution_count": 71,
   "metadata": {},
   "outputs": [
    {
     "data": {
      "text/html": [
       "<div>\n",
       "<style scoped>\n",
       "    .dataframe tbody tr th:only-of-type {\n",
       "        vertical-align: middle;\n",
       "    }\n",
       "\n",
       "    .dataframe tbody tr th {\n",
       "        vertical-align: top;\n",
       "    }\n",
       "\n",
       "    .dataframe thead th {\n",
       "        text-align: right;\n",
       "    }\n",
       "</style>\n",
       "<table border=\"1\" class=\"dataframe\">\n",
       "  <thead>\n",
       "    <tr style=\"text-align: right;\">\n",
       "      <th>category_name</th>\n",
       "      <th>Autos &amp; Vehicles</th>\n",
       "      <th>Comedy</th>\n",
       "      <th>Education</th>\n",
       "      <th>Entertainment</th>\n",
       "      <th>Film &amp; Animation</th>\n",
       "      <th>Gaming</th>\n",
       "      <th>Howto &amp; Style</th>\n",
       "      <th>Movies</th>\n",
       "      <th>Music</th>\n",
       "      <th>News &amp; Politics</th>\n",
       "      <th>People &amp; Blogs</th>\n",
       "      <th>Pets &amp; Animals</th>\n",
       "      <th>Science &amp; Technology</th>\n",
       "      <th>Shows</th>\n",
       "      <th>Sports</th>\n",
       "      <th>Trailers</th>\n",
       "      <th>Travel &amp; Events</th>\n",
       "    </tr>\n",
       "    <tr>\n",
       "      <th>month_year</th>\n",
       "      <th></th>\n",
       "      <th></th>\n",
       "      <th></th>\n",
       "      <th></th>\n",
       "      <th></th>\n",
       "      <th></th>\n",
       "      <th></th>\n",
       "      <th></th>\n",
       "      <th></th>\n",
       "      <th></th>\n",
       "      <th></th>\n",
       "      <th></th>\n",
       "      <th></th>\n",
       "      <th></th>\n",
       "      <th></th>\n",
       "      <th></th>\n",
       "      <th></th>\n",
       "    </tr>\n",
       "  </thead>\n",
       "  <tbody>\n",
       "    <tr>\n",
       "      <th>01.18</th>\n",
       "      <td>136.888889</td>\n",
       "      <td>1197.353414</td>\n",
       "      <td>181.612903</td>\n",
       "      <td>991.134115</td>\n",
       "      <td>594.302128</td>\n",
       "      <td>844.748634</td>\n",
       "      <td>213.690583</td>\n",
       "      <td>NaN</td>\n",
       "      <td>4438.431034</td>\n",
       "      <td>546.776413</td>\n",
       "      <td>577.567073</td>\n",
       "      <td>180.896552</td>\n",
       "      <td>502.080645</td>\n",
       "      <td>1405.375000</td>\n",
       "      <td>376.778878</td>\n",
       "      <td>NaN</td>\n",
       "      <td>184.750000</td>\n",
       "    </tr>\n",
       "    <tr>\n",
       "      <th>02.18</th>\n",
       "      <td>280.147059</td>\n",
       "      <td>909.755981</td>\n",
       "      <td>176.648649</td>\n",
       "      <td>796.913408</td>\n",
       "      <td>530.665158</td>\n",
       "      <td>361.746575</td>\n",
       "      <td>247.389423</td>\n",
       "      <td>NaN</td>\n",
       "      <td>3235.444444</td>\n",
       "      <td>463.759740</td>\n",
       "      <td>514.540728</td>\n",
       "      <td>169.851852</td>\n",
       "      <td>609.774834</td>\n",
       "      <td>682.111111</td>\n",
       "      <td>922.703822</td>\n",
       "      <td>NaN</td>\n",
       "      <td>251.210526</td>\n",
       "    </tr>\n",
       "    <tr>\n",
       "      <th>03.18</th>\n",
       "      <td>195.920863</td>\n",
       "      <td>882.188525</td>\n",
       "      <td>143.481481</td>\n",
       "      <td>844.967296</td>\n",
       "      <td>798.466063</td>\n",
       "      <td>733.772487</td>\n",
       "      <td>240.374449</td>\n",
       "      <td>NaN</td>\n",
       "      <td>3373.283505</td>\n",
       "      <td>1012.313924</td>\n",
       "      <td>681.096672</td>\n",
       "      <td>345.294118</td>\n",
       "      <td>746.336449</td>\n",
       "      <td>835.000000</td>\n",
       "      <td>712.535971</td>\n",
       "      <td>0.0</td>\n",
       "      <td>192.318182</td>\n",
       "    </tr>\n",
       "    <tr>\n",
       "      <th>04.18</th>\n",
       "      <td>102.990000</td>\n",
       "      <td>931.931507</td>\n",
       "      <td>352.966667</td>\n",
       "      <td>770.299325</td>\n",
       "      <td>509.265537</td>\n",
       "      <td>994.680412</td>\n",
       "      <td>471.935484</td>\n",
       "      <td>NaN</td>\n",
       "      <td>4281.588235</td>\n",
       "      <td>723.085714</td>\n",
       "      <td>479.053356</td>\n",
       "      <td>442.230769</td>\n",
       "      <td>495.349398</td>\n",
       "      <td>933.166667</td>\n",
       "      <td>444.449838</td>\n",
       "      <td>NaN</td>\n",
       "      <td>373.733333</td>\n",
       "    </tr>\n",
       "    <tr>\n",
       "      <th>05.18</th>\n",
       "      <td>151.375000</td>\n",
       "      <td>909.140000</td>\n",
       "      <td>336.926829</td>\n",
       "      <td>1039.866962</td>\n",
       "      <td>709.387665</td>\n",
       "      <td>2781.840708</td>\n",
       "      <td>515.777778</td>\n",
       "      <td>NaN</td>\n",
       "      <td>6114.723320</td>\n",
       "      <td>1026.784247</td>\n",
       "      <td>563.629747</td>\n",
       "      <td>187.062500</td>\n",
       "      <td>1030.946809</td>\n",
       "      <td>804.200000</td>\n",
       "      <td>585.015480</td>\n",
       "      <td>NaN</td>\n",
       "      <td>143.545455</td>\n",
       "    </tr>\n",
       "    <tr>\n",
       "      <th>06.18</th>\n",
       "      <td>315.363636</td>\n",
       "      <td>681.832000</td>\n",
       "      <td>871.590909</td>\n",
       "      <td>768.820545</td>\n",
       "      <td>1524.240964</td>\n",
       "      <td>1510.516667</td>\n",
       "      <td>477.949367</td>\n",
       "      <td>1811.0</td>\n",
       "      <td>5384.739130</td>\n",
       "      <td>867.484615</td>\n",
       "      <td>1257.740741</td>\n",
       "      <td>722.200000</td>\n",
       "      <td>718.800000</td>\n",
       "      <td>1004.333333</td>\n",
       "      <td>568.961240</td>\n",
       "      <td>NaN</td>\n",
       "      <td>221.714286</td>\n",
       "    </tr>\n",
       "    <tr>\n",
       "      <th>11.17</th>\n",
       "      <td>233.524590</td>\n",
       "      <td>972.191781</td>\n",
       "      <td>108.985294</td>\n",
       "      <td>386.221053</td>\n",
       "      <td>389.564246</td>\n",
       "      <td>237.609375</td>\n",
       "      <td>279.909091</td>\n",
       "      <td>NaN</td>\n",
       "      <td>3459.390244</td>\n",
       "      <td>235.413502</td>\n",
       "      <td>1119.105263</td>\n",
       "      <td>435.312500</td>\n",
       "      <td>1623.854167</td>\n",
       "      <td>767.200000</td>\n",
       "      <td>298.933702</td>\n",
       "      <td>NaN</td>\n",
       "      <td>262.000000</td>\n",
       "    </tr>\n",
       "    <tr>\n",
       "      <th>12.17</th>\n",
       "      <td>244.676471</td>\n",
       "      <td>961.799228</td>\n",
       "      <td>244.329545</td>\n",
       "      <td>1581.196571</td>\n",
       "      <td>331.240000</td>\n",
       "      <td>875.965318</td>\n",
       "      <td>429.542453</td>\n",
       "      <td>NaN</td>\n",
       "      <td>3345.082524</td>\n",
       "      <td>892.901754</td>\n",
       "      <td>592.456338</td>\n",
       "      <td>188.485714</td>\n",
       "      <td>408.750000</td>\n",
       "      <td>916.750000</td>\n",
       "      <td>386.940945</td>\n",
       "      <td>NaN</td>\n",
       "      <td>141.176471</td>\n",
       "    </tr>\n",
       "  </tbody>\n",
       "</table>\n",
       "</div>"
      ],
      "text/plain": [
       "category_name  Autos & Vehicles       Comedy   Education  Entertainment  \\\n",
       "month_year                                                                \n",
       "01.18                136.888889  1197.353414  181.612903     991.134115   \n",
       "02.18                280.147059   909.755981  176.648649     796.913408   \n",
       "03.18                195.920863   882.188525  143.481481     844.967296   \n",
       "04.18                102.990000   931.931507  352.966667     770.299325   \n",
       "05.18                151.375000   909.140000  336.926829    1039.866962   \n",
       "06.18                315.363636   681.832000  871.590909     768.820545   \n",
       "11.17                233.524590   972.191781  108.985294     386.221053   \n",
       "12.17                244.676471   961.799228  244.329545    1581.196571   \n",
       "\n",
       "category_name  Film & Animation       Gaming  Howto & Style  Movies  \\\n",
       "month_year                                                            \n",
       "01.18                594.302128   844.748634     213.690583     NaN   \n",
       "02.18                530.665158   361.746575     247.389423     NaN   \n",
       "03.18                798.466063   733.772487     240.374449     NaN   \n",
       "04.18                509.265537   994.680412     471.935484     NaN   \n",
       "05.18                709.387665  2781.840708     515.777778     NaN   \n",
       "06.18               1524.240964  1510.516667     477.949367  1811.0   \n",
       "11.17                389.564246   237.609375     279.909091     NaN   \n",
       "12.17                331.240000   875.965318     429.542453     NaN   \n",
       "\n",
       "category_name        Music  News & Politics  People & Blogs  Pets & Animals  \\\n",
       "month_year                                                                    \n",
       "01.18          4438.431034       546.776413      577.567073      180.896552   \n",
       "02.18          3235.444444       463.759740      514.540728      169.851852   \n",
       "03.18          3373.283505      1012.313924      681.096672      345.294118   \n",
       "04.18          4281.588235       723.085714      479.053356      442.230769   \n",
       "05.18          6114.723320      1026.784247      563.629747      187.062500   \n",
       "06.18          5384.739130       867.484615     1257.740741      722.200000   \n",
       "11.17          3459.390244       235.413502     1119.105263      435.312500   \n",
       "12.17          3345.082524       892.901754      592.456338      188.485714   \n",
       "\n",
       "category_name  Science & Technology        Shows      Sports  Trailers  \\\n",
       "month_year                                                               \n",
       "01.18                    502.080645  1405.375000  376.778878       NaN   \n",
       "02.18                    609.774834   682.111111  922.703822       NaN   \n",
       "03.18                    746.336449   835.000000  712.535971       0.0   \n",
       "04.18                    495.349398   933.166667  444.449838       NaN   \n",
       "05.18                   1030.946809   804.200000  585.015480       NaN   \n",
       "06.18                    718.800000  1004.333333  568.961240       NaN   \n",
       "11.17                   1623.854167   767.200000  298.933702       NaN   \n",
       "12.17                    408.750000   916.750000  386.940945       NaN   \n",
       "\n",
       "category_name  Travel & Events  \n",
       "month_year                      \n",
       "01.18               184.750000  \n",
       "02.18               251.210526  \n",
       "03.18               192.318182  \n",
       "04.18               373.733333  \n",
       "05.18               143.545455  \n",
       "06.18               221.714286  \n",
       "11.17               262.000000  \n",
       "12.17               141.176471  "
      ]
     },
     "execution_count": 71,
     "metadata": {},
     "output_type": "execute_result"
    }
   ],
   "source": [
    "data_once.pivot_table(values=\"dislikes\", index='month_year', columns=\"category_name\")"
   ]
  },
  {
   "cell_type": "code",
   "execution_count": null,
   "metadata": {},
   "outputs": [],
   "source": []
  }
 ],
 "metadata": {
  "kernelspec": {
   "display_name": "Python 3",
   "language": "python",
   "name": "python3"
  },
  "language_info": {
   "codemirror_mode": {
    "name": "ipython",
    "version": 3
   },
   "file_extension": ".py",
   "mimetype": "text/x-python",
   "name": "python",
   "nbconvert_exporter": "python",
   "pygments_lexer": "ipython3",
   "version": "3.8.5"
  }
 },
 "nbformat": 4,
 "nbformat_minor": 4
}
