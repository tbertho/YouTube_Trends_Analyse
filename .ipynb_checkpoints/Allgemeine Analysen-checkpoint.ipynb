{
 "cells": [
  {
   "cell_type": "code",
   "execution_count": 3,
   "metadata": {},
   "outputs": [],
   "source": [
    "import pandas as pd\n",
    "import numpy as np"
   ]
  },
  {
   "cell_type": "code",
   "execution_count": 2,
   "metadata": {},
   "outputs": [],
   "source": [
    "%store -r data_once\n",
    "%store -r data"
   ]
  },
  {
   "cell_type": "code",
   "execution_count": 6,
   "metadata": {},
   "outputs": [
    {
     "data": {
      "text/html": [
       "<div>\n",
       "<style scoped>\n",
       "    .dataframe tbody tr th:only-of-type {\n",
       "        vertical-align: middle;\n",
       "    }\n",
       "\n",
       "    .dataframe tbody tr th {\n",
       "        vertical-align: top;\n",
       "    }\n",
       "\n",
       "    .dataframe thead th {\n",
       "        text-align: right;\n",
       "    }\n",
       "</style>\n",
       "<table border=\"1\" class=\"dataframe\">\n",
       "  <thead>\n",
       "    <tr style=\"text-align: right;\">\n",
       "      <th></th>\n",
       "      <th>views</th>\n",
       "      <th>likes</th>\n",
       "      <th>dislikes</th>\n",
       "      <th>comment_count</th>\n",
       "    </tr>\n",
       "  </thead>\n",
       "  <tbody>\n",
       "    <tr>\n",
       "      <th>count</th>\n",
       "      <td>2.942500e+04</td>\n",
       "      <td>2.942500e+04</td>\n",
       "      <td>2.942500e+04</td>\n",
       "      <td>2.942500e+04</td>\n",
       "    </tr>\n",
       "    <tr>\n",
       "      <th>mean</th>\n",
       "      <td>4.731169e+05</td>\n",
       "      <td>1.521250e+04</td>\n",
       "      <td>9.216987e+02</td>\n",
       "      <td>1.969943e+03</td>\n",
       "    </tr>\n",
       "    <tr>\n",
       "      <th>std</th>\n",
       "      <td>1.810803e+06</td>\n",
       "      <td>7.429870e+04</td>\n",
       "      <td>1.020966e+04</td>\n",
       "      <td>1.218084e+04</td>\n",
       "    </tr>\n",
       "    <tr>\n",
       "      <th>min</th>\n",
       "      <td>5.180000e+02</td>\n",
       "      <td>0.000000e+00</td>\n",
       "      <td>0.000000e+00</td>\n",
       "      <td>0.000000e+00</td>\n",
       "    </tr>\n",
       "    <tr>\n",
       "      <th>25%</th>\n",
       "      <td>1.930600e+04</td>\n",
       "      <td>3.700000e+02</td>\n",
       "      <td>2.100000e+01</td>\n",
       "      <td>5.700000e+01</td>\n",
       "    </tr>\n",
       "    <tr>\n",
       "      <th>50%</th>\n",
       "      <td>8.771400e+04</td>\n",
       "      <td>1.858000e+03</td>\n",
       "      <td>9.300000e+01</td>\n",
       "      <td>2.680000e+02</td>\n",
       "    </tr>\n",
       "    <tr>\n",
       "      <th>75%</th>\n",
       "      <td>3.768980e+05</td>\n",
       "      <td>8.124000e+03</td>\n",
       "      <td>3.930000e+02</td>\n",
       "      <td>1.045000e+03</td>\n",
       "    </tr>\n",
       "    <tr>\n",
       "      <th>max</th>\n",
       "      <td>1.138762e+08</td>\n",
       "      <td>4.924056e+06</td>\n",
       "      <td>1.470386e+06</td>\n",
       "      <td>1.084435e+06</td>\n",
       "    </tr>\n",
       "  </tbody>\n",
       "</table>\n",
       "</div>"
      ],
      "text/plain": [
       "              views         likes      dislikes  comment_count\n",
       "count  2.942500e+04  2.942500e+04  2.942500e+04   2.942500e+04\n",
       "mean   4.731169e+05  1.521250e+04  9.216987e+02   1.969943e+03\n",
       "std    1.810803e+06  7.429870e+04  1.020966e+04   1.218084e+04\n",
       "min    5.180000e+02  0.000000e+00  0.000000e+00   0.000000e+00\n",
       "25%    1.930600e+04  3.700000e+02  2.100000e+01   5.700000e+01\n",
       "50%    8.771400e+04  1.858000e+03  9.300000e+01   2.680000e+02\n",
       "75%    3.768980e+05  8.124000e+03  3.930000e+02   1.045000e+03\n",
       "max    1.138762e+08  4.924056e+06  1.470386e+06   1.084435e+06"
      ]
     },
     "execution_count": 6,
     "metadata": {},
     "output_type": "execute_result"
    }
   ],
   "source": [
    "data_once.describe()"
   ]
  },
  {
   "cell_type": "code",
   "execution_count": 7,
   "metadata": {},
   "outputs": [
    {
     "data": {
      "text/plain": [
       "channel_title\n",
       "Анатолий Шарий                        175\n",
       "Promiflash                            157\n",
       "Ruhrpottwache                         157\n",
       "Auf Streife                           147\n",
       "Galileo                               144\n",
       "VikatanTV                             129\n",
       "Adını Sen Koy                         123\n",
       "Esra Erol'da                          123\n",
       "Beni Affet                            118\n",
       "JP Performance                        118\n",
       "Россия 24                             118\n",
       "The Daily Show with Trevor Noah       114\n",
       "The Late Show with Stephen Colbert    110\n",
       "atv                                   110\n",
       "Klinik am Südring                     105\n",
       "Zadruga Official                       98\n",
       "Ch3Thailand                            96\n",
       "Elhiwar Ettounsi                       94\n",
       "ZDF                                    94\n",
       "Acunn.com                              92\n",
       "Elli Schramm                           92\n",
       "Leckerschmecker                        92\n",
       "RadaanMedia                            92\n",
       "Duymayan Kalmasın                      91\n",
       "Müge Anlı ile Tatlı Sert               90\n",
       "Name: channel_title, dtype: int64"
      ]
     },
     "execution_count": 7,
     "metadata": {},
     "output_type": "execute_result"
    }
   ],
   "source": [
    "# Welcher ist der meistvertretende Creator? - muss noch auf video id gruppiert werden?\n",
    "most_viewed_creator = data_once.groupby(['channel_title'])['channel_title'].count()\n",
    "most_viewed_creator.nlargest(n=25)"
   ]
  },
  {
   "cell_type": "code",
   "execution_count": 9,
   "metadata": {},
   "outputs": [
    {
     "name": "stdout",
     "output_type": "stream",
     "text": [
      "trending_date\n",
      "17.01.12    198\n",
      "17.02.12    198\n",
      "17.03.12    200\n",
      "17.04.12    198\n",
      "17.05.12    197\n",
      "           ... \n",
      "18.30.04    199\n",
      "18.30.05    200\n",
      "18.31.01    196\n",
      "18.31.03    198\n",
      "18.31.05    197\n",
      "Name: trending_date, Length: 205, dtype: int64\n"
     ]
    },
    {
     "data": {
      "text/plain": [
       "197.97073170731707"
      ]
     },
     "execution_count": 9,
     "metadata": {},
     "output_type": "execute_result"
    }
   ],
   "source": [
    "# Wie viele Videos pro Tag?\n",
    "videos_per_day = data.groupby(['trending_date'])['trending_date'].count()\n",
    "print(videos_per_day)\n",
    "videos_per_day.mean()"
   ]
  },
  {
   "cell_type": "code",
   "execution_count": 10,
   "metadata": {},
   "outputs": [
    {
     "data": {
      "text/plain": [
       "category_name\n",
       "Entertainment           10844\n",
       "People & Blogs           4475\n",
       "News & Politics          2369\n",
       "Sports                   2091\n",
       "Comedy                   1751\n",
       "Film & Animation         1643\n",
       "Howto & Style            1381\n",
       "Music                    1376\n",
       "Gaming                   1089\n",
       "Autos & Vehicles          672\n",
       "Education                 662\n",
       "Science & Technology      647\n",
       "Pets & Animals            204\n",
       "Travel & Events           116\n",
       "Shows                     103\n",
       "Movies                      1\n",
       "Trailers                    1\n",
       "Name: category_name, dtype: int64"
      ]
     },
     "execution_count": 10,
     "metadata": {},
     "output_type": "execute_result"
    }
   ],
   "source": [
    "# Welche die meistvorkommende Kategorie?\n",
    "most_viewed_creator = data_once.groupby(['category_name'])['category_name'].count()\n",
    "most_viewed_creator.nlargest(n=30)\n",
    "\n",
    "#alternativ: data_once['category_name'].value_counts()"
   ]
  },
  {
   "cell_type": "code",
   "execution_count": 12,
   "metadata": {},
   "outputs": [
    {
     "data": {
      "text/plain": [
       "Entertainment           0.368530\n",
       "People & Blogs          0.152082\n",
       "News & Politics         0.080510\n",
       "Sports                  0.071062\n",
       "Comedy                  0.059507\n",
       "Film & Animation        0.055837\n",
       "Howto & Style           0.046933\n",
       "Music                   0.046763\n",
       "Gaming                  0.037009\n",
       "Autos & Vehicles        0.022838\n",
       "Education               0.022498\n",
       "Science & Technology    0.021988\n",
       "Pets & Animals          0.006933\n",
       "Travel & Events         0.003942\n",
       "Shows                   0.003500\n",
       "Movies                  0.000034\n",
       "Trailers                0.000034\n",
       "Name: category_name, dtype: float64"
      ]
     },
     "execution_count": 12,
     "metadata": {},
     "output_type": "execute_result"
    }
   ],
   "source": [
    "data_once['category_name'].value_counts(normalize=True)"
   ]
  },
  {
   "cell_type": "code",
   "execution_count": null,
   "metadata": {},
   "outputs": [],
   "source": [
    "#gibt es einen Zusammenhang beim publishdate und dessen Uhrzeit\n",
    "df_date = data.loc[:, (\"video_id\",\"publish_time\")]\n",
    "df_date['publish_time'] = pd.to_datetime(df_date['publish_time'])\n",
    "df_date.info()"
   ]
  },
  {
   "cell_type": "code",
   "execution_count": null,
   "metadata": {},
   "outputs": [],
   "source": [
    "df_time_only = df_date['publish_time'].dt.time"
   ]
  },
  {
   "cell_type": "code",
   "execution_count": null,
   "metadata": {},
   "outputs": [],
   "source": [
    "df_avg['Time submitted'] = pd.to_datetime(df_avg['Time submitted'], unit='s')\n",
    "                             .values.astype(np.int64)\n",
    "\n",
    "df = df_avg.groupby('decision', as_index=False)['Time submitted'].mean()\n",
    "df['Time submitted'] = pd.to_datetime(df['Time submitted'], unit='ns')\n",
    "print (df)"
   ]
  },
  {
   "cell_type": "code",
   "execution_count": 5,
   "metadata": {},
   "outputs": [
    {
     "data": {
      "text/plain": [
       "17.830926083262533"
      ]
     },
     "execution_count": 5,
     "metadata": {},
     "output_type": "execute_result"
    }
   ],
   "source": [
    "#Analyse der Tags - hier noch NullVals überprüfen\n",
    "tags_df = data_once.loc[:, (\"video_id\",\"tags\")]\n",
    "tags_df[\"tags_list\"]=tags_df[\"tags\"].str.split(\"|\", expand = False)\n",
    "\n",
    "tags_df[\"num_tags\"]=tags_df[\"tags_list\"].str.len()\n",
    "\n",
    "mean_tags = tags_df[\"num_tags\"].mean()\n",
    "\n",
    "mean_tags\n",
    "#tags_df.head()\n",
    "\n",
    "#top 10 Tags"
   ]
  },
  {
   "cell_type": "code",
   "execution_count": null,
   "metadata": {},
   "outputs": [],
   "source": [
    "#Analyse der Titel -> nochmal nachschauen wie NLP genau funktioniert\n",
    "title_df = data.loc[:, (\"video_id\", \"title\")]\n",
    "\n",
    "title_df[\"title_words_list\"]=title_df[\"title\"].str.split(\" \", expand = False)\n",
    "title_df[\"num_title_words\"]=title_df[\"title_words_list\"].str.len()\n",
    "mean_title_len = title_df[\"num_title_words\"].mean()\n",
    "mean_title_len\n",
    "\n",
    "#Anteil der Emojies\n",
    "\n",
    "\n",
    "\n",
    "#Anteil der CapitalLetters\n",
    "\n"
   ]
  },
  {
   "cell_type": "code",
   "execution_count": null,
   "metadata": {},
   "outputs": [],
   "source": [
    "# Test für die Emojies im Titel\n",
    "\n",
    "text = u'This dog \\U0001f602'\n",
    "print(text) # with emoji\n",
    "\n",
    "emoji_pattern = re.compile(\"[\"\n",
    "        u\"\\U0001F600-\\U0001F64F\"  # emoticons\n",
    "        u\"\\U0001F300-\\U0001F5FF\"  # symbols & pictographs\n",
    "        u\"\\U0001F680-\\U0001F6FF\"  # transport & map symbols\n",
    "        u\"\\U0001F1E0-\\U0001F1FF\"  # flags (iOS)\n",
    "                           \"]+\", flags=re.UNICODE)\n",
    "print(emoji_pattern.sub(r'', text)) # no emoji"
   ]
  },
  {
   "cell_type": "code",
   "execution_count": null,
   "metadata": {},
   "outputs": [],
   "source": [
    "#Wie lange trended ein Video im Schnitt?\n",
    "#Wo kommen die [none] vals noch vor außer bei den Tags? -> heatmap?\n",
    "#wie lange braucht es vom publishdate zum trending date?"
   ]
  }
 ],
 "metadata": {
  "kernelspec": {
   "display_name": "Python 3",
   "language": "python",
   "name": "python3"
  },
  "language_info": {
   "codemirror_mode": {
    "name": "ipython",
    "version": 3
   },
   "file_extension": ".py",
   "mimetype": "text/x-python",
   "name": "python",
   "nbconvert_exporter": "python",
   "pygments_lexer": "ipython3",
   "version": "3.8.5"
  }
 },
 "nbformat": 4,
 "nbformat_minor": 4
}
