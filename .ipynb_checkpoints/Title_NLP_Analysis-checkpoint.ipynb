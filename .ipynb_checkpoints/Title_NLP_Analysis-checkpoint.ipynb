{
 "cells": [
  {
   "cell_type": "code",
   "execution_count": 1,
   "metadata": {},
   "outputs": [],
   "source": [
    "%store -r data_once"
   ]
  },
  {
   "cell_type": "code",
   "execution_count": 67,
   "metadata": {},
   "outputs": [],
   "source": [
    "import pandas as pd\n",
    "import numpy as np\n",
    "import string\n",
    "\n",
    "##pip install notwenig\n",
    "import nltk\n",
    "from nltk.corpus import stopwords\n",
    "\n",
    "\n",
    "from langdetect import DetectorFactory, detect\n",
    "from langdetect.lang_detect_exception import LangDetectException"
   ]
  },
  {
   "cell_type": "code",
   "execution_count": 3,
   "metadata": {},
   "outputs": [
    {
     "data": {
      "text/html": [
       "<div>\n",
       "<style scoped>\n",
       "    .dataframe tbody tr th:only-of-type {\n",
       "        vertical-align: middle;\n",
       "    }\n",
       "\n",
       "    .dataframe tbody tr th {\n",
       "        vertical-align: top;\n",
       "    }\n",
       "\n",
       "    .dataframe thead th {\n",
       "        text-align: right;\n",
       "    }\n",
       "</style>\n",
       "<table border=\"1\" class=\"dataframe\">\n",
       "  <thead>\n",
       "    <tr style=\"text-align: right;\">\n",
       "      <th></th>\n",
       "      <th>video_id</th>\n",
       "      <th>trending_date</th>\n",
       "      <th>latest_trending_date</th>\n",
       "      <th>latest_trending_date_x</th>\n",
       "      <th>title</th>\n",
       "      <th>channel_title</th>\n",
       "      <th>publish_time</th>\n",
       "      <th>tags</th>\n",
       "      <th>views</th>\n",
       "      <th>likes</th>\n",
       "      <th>dislikes</th>\n",
       "      <th>comment_count</th>\n",
       "      <th>comments_disabled</th>\n",
       "      <th>ratings_disabled</th>\n",
       "      <th>video_error_or_removed</th>\n",
       "      <th>description</th>\n",
       "      <th>category_name</th>\n",
       "      <th>latest_trending_date_y</th>\n",
       "    </tr>\n",
       "  </thead>\n",
       "  <tbody>\n",
       "    <tr>\n",
       "      <th>0</th>\n",
       "      <td>--7vNbh4UNA</td>\n",
       "      <td>18.14.04</td>\n",
       "      <td>18.14.04</td>\n",
       "      <td>18.14.04</td>\n",
       "      <td>Responding to ALL The Outrage, Ridiculous H3H3...</td>\n",
       "      <td>Philip DeFranco</td>\n",
       "      <td>2018-04-13T19:00:00.000Z</td>\n",
       "      <td>Elizabeth Hurley|\"Instagram\"|\"Outrage\"|\"scanda...</td>\n",
       "      <td>1082647</td>\n",
       "      <td>52113</td>\n",
       "      <td>1284</td>\n",
       "      <td>10602</td>\n",
       "      <td>False</td>\n",
       "      <td>False</td>\n",
       "      <td>False</td>\n",
       "      <td>Thanks for tuning in this week, ya Beautiful B...</td>\n",
       "      <td>News &amp; Politics</td>\n",
       "      <td>18.14.04</td>\n",
       "    </tr>\n",
       "    <tr>\n",
       "      <th>1</th>\n",
       "      <td>--I0aj8MUdU</td>\n",
       "      <td>18.06.02</td>\n",
       "      <td>18.06.02</td>\n",
       "      <td>18.06.02</td>\n",
       "      <td>E diela shqiptare - Ka nje mesazh per ty! (04 ...</td>\n",
       "      <td>RTV KLAN</td>\n",
       "      <td>2018-02-04T13:19:38.000Z</td>\n",
       "      <td>tv klan|\"televizioni klan\"|\"klanhd\"|\"ardit gje...</td>\n",
       "      <td>139025</td>\n",
       "      <td>490</td>\n",
       "      <td>78</td>\n",
       "      <td>22</td>\n",
       "      <td>False</td>\n",
       "      <td>False</td>\n",
       "      <td>False</td>\n",
       "      <td>Facebook: https://www.facebook.com/tvklan Talk...</td>\n",
       "      <td>Entertainment</td>\n",
       "      <td>18.06.02</td>\n",
       "    </tr>\n",
       "    <tr>\n",
       "      <th>2</th>\n",
       "      <td>--MtKsH5oBY</td>\n",
       "      <td>18.31.05</td>\n",
       "      <td>18.31.05</td>\n",
       "      <td>18.31.05</td>\n",
       "      <td>صحفي بين سبورت يكشف تفاصيل و كواليس استقالة زي...</td>\n",
       "      <td>RedsTech</td>\n",
       "      <td>2018-05-31T12:40:46.000Z</td>\n",
       "      <td>RedsTech|\"bein sports\"|\"ريال مدريد\"|\"real madr...</td>\n",
       "      <td>225445</td>\n",
       "      <td>2156</td>\n",
       "      <td>227</td>\n",
       "      <td>562</td>\n",
       "      <td>False</td>\n",
       "      <td>False</td>\n",
       "      <td>False</td>\n",
       "      <td>I للتواصل معنا Ihttps://www.facebook.com/RedsT...</td>\n",
       "      <td>Sports</td>\n",
       "      <td>18.31.05</td>\n",
       "    </tr>\n",
       "    <tr>\n",
       "      <th>3</th>\n",
       "      <td>--moh3hSPpY</td>\n",
       "      <td>18.03.01</td>\n",
       "      <td>18.03.01</td>\n",
       "      <td>18.03.01</td>\n",
       "      <td>Te vreau langa mine! (02.01.2018) - Editie COM...</td>\n",
       "      <td>Kanal D Romania</td>\n",
       "      <td>2018-01-02T13:30:00.000Z</td>\n",
       "      <td>te vreau langa mine|\"kanal d\"|\"kanal d romania...</td>\n",
       "      <td>17050</td>\n",
       "      <td>100</td>\n",
       "      <td>32</td>\n",
       "      <td>74</td>\n",
       "      <td>False</td>\n",
       "      <td>False</td>\n",
       "      <td>False</td>\n",
       "      <td>Te vreau langa mine! (02.01.2018) - Editie COM...</td>\n",
       "      <td>Entertainment</td>\n",
       "      <td>18.03.01</td>\n",
       "    </tr>\n",
       "    <tr>\n",
       "      <th>4</th>\n",
       "      <td>--rE6D0_jAw</td>\n",
       "      <td>18.30.04</td>\n",
       "      <td>18.30.04</td>\n",
       "      <td>18.30.04</td>\n",
       "      <td>HÖR AUF DAS SCHLECHTE ZU SEHEN!</td>\n",
       "      <td>Biyon</td>\n",
       "      <td>2018-04-29T14:35:57.000Z</td>\n",
       "      <td>Motivation|\"Positivität\"|\"Erfolg\"|\"Selbstbewus...</td>\n",
       "      <td>5406</td>\n",
       "      <td>964</td>\n",
       "      <td>4</td>\n",
       "      <td>191</td>\n",
       "      <td>False</td>\n",
       "      <td>False</td>\n",
       "      <td>False</td>\n",
       "      <td>▶︎ Wie du vielleicht mitbekommen hast, ist mei...</td>\n",
       "      <td>Entertainment</td>\n",
       "      <td>18.30.04</td>\n",
       "    </tr>\n",
       "  </tbody>\n",
       "</table>\n",
       "</div>"
      ],
      "text/plain": [
       "      video_id trending_date latest_trending_date latest_trending_date_x  \\\n",
       "0  --7vNbh4UNA      18.14.04             18.14.04               18.14.04   \n",
       "1  --I0aj8MUdU      18.06.02             18.06.02               18.06.02   \n",
       "2  --MtKsH5oBY      18.31.05             18.31.05               18.31.05   \n",
       "3  --moh3hSPpY      18.03.01             18.03.01               18.03.01   \n",
       "4  --rE6D0_jAw      18.30.04             18.30.04               18.30.04   \n",
       "\n",
       "                                               title    channel_title  \\\n",
       "0  Responding to ALL The Outrage, Ridiculous H3H3...  Philip DeFranco   \n",
       "1  E diela shqiptare - Ka nje mesazh per ty! (04 ...         RTV KLAN   \n",
       "2  صحفي بين سبورت يكشف تفاصيل و كواليس استقالة زي...         RedsTech   \n",
       "3  Te vreau langa mine! (02.01.2018) - Editie COM...  Kanal D Romania   \n",
       "4                    HÖR AUF DAS SCHLECHTE ZU SEHEN!            Biyon   \n",
       "\n",
       "               publish_time  \\\n",
       "0  2018-04-13T19:00:00.000Z   \n",
       "1  2018-02-04T13:19:38.000Z   \n",
       "2  2018-05-31T12:40:46.000Z   \n",
       "3  2018-01-02T13:30:00.000Z   \n",
       "4  2018-04-29T14:35:57.000Z   \n",
       "\n",
       "                                                tags    views  likes  \\\n",
       "0  Elizabeth Hurley|\"Instagram\"|\"Outrage\"|\"scanda...  1082647  52113   \n",
       "1  tv klan|\"televizioni klan\"|\"klanhd\"|\"ardit gje...   139025    490   \n",
       "2  RedsTech|\"bein sports\"|\"ريال مدريد\"|\"real madr...   225445   2156   \n",
       "3  te vreau langa mine|\"kanal d\"|\"kanal d romania...    17050    100   \n",
       "4  Motivation|\"Positivität\"|\"Erfolg\"|\"Selbstbewus...     5406    964   \n",
       "\n",
       "   dislikes  comment_count  comments_disabled  ratings_disabled  \\\n",
       "0      1284          10602              False             False   \n",
       "1        78             22              False             False   \n",
       "2       227            562              False             False   \n",
       "3        32             74              False             False   \n",
       "4         4            191              False             False   \n",
       "\n",
       "   video_error_or_removed                                        description  \\\n",
       "0                   False  Thanks for tuning in this week, ya Beautiful B...   \n",
       "1                   False  Facebook: https://www.facebook.com/tvklan Talk...   \n",
       "2                   False  I للتواصل معنا Ihttps://www.facebook.com/RedsT...   \n",
       "3                   False  Te vreau langa mine! (02.01.2018) - Editie COM...   \n",
       "4                   False  ▶︎ Wie du vielleicht mitbekommen hast, ist mei...   \n",
       "\n",
       "     category_name latest_trending_date_y  \n",
       "0  News & Politics               18.14.04  \n",
       "1    Entertainment               18.06.02  \n",
       "2           Sports               18.31.05  \n",
       "3    Entertainment               18.03.01  \n",
       "4    Entertainment               18.30.04  "
      ]
     },
     "execution_count": 3,
     "metadata": {},
     "output_type": "execute_result"
    }
   ],
   "source": [
    "data_once.head()"
   ]
  },
  {
   "cell_type": "code",
   "execution_count": 6,
   "metadata": {},
   "outputs": [],
   "source": [
    "titles= data_once.loc[:, (\"video_id\", \"title\", \"category_name\", 'views')]\n",
    "\n",
    "\n",
    "\n",
    "titles[\"title_words_list\"]=titles[\"title\"].str.split(\" \", expand = False)\n",
    "titles[\"num_title_words\"]=titles[\"title_words_list\"].str.len()"
   ]
  },
  {
   "cell_type": "code",
   "execution_count": 7,
   "metadata": {},
   "outputs": [
    {
     "data": {
      "text/html": [
       "<div>\n",
       "<style scoped>\n",
       "    .dataframe tbody tr th:only-of-type {\n",
       "        vertical-align: middle;\n",
       "    }\n",
       "\n",
       "    .dataframe tbody tr th {\n",
       "        vertical-align: top;\n",
       "    }\n",
       "\n",
       "    .dataframe thead th {\n",
       "        text-align: right;\n",
       "    }\n",
       "</style>\n",
       "<table border=\"1\" class=\"dataframe\">\n",
       "  <thead>\n",
       "    <tr style=\"text-align: right;\">\n",
       "      <th></th>\n",
       "      <th>video_id</th>\n",
       "      <th>title</th>\n",
       "      <th>category_name</th>\n",
       "      <th>views</th>\n",
       "      <th>title_words_list</th>\n",
       "      <th>num_title_words</th>\n",
       "    </tr>\n",
       "  </thead>\n",
       "  <tbody>\n",
       "    <tr>\n",
       "      <th>0</th>\n",
       "      <td>--7vNbh4UNA</td>\n",
       "      <td>Responding to ALL The Outrage, Ridiculous H3H3...</td>\n",
       "      <td>News &amp; Politics</td>\n",
       "      <td>1082647</td>\n",
       "      <td>[Responding, to, ALL, The, Outrage,, Ridiculou...</td>\n",
       "      <td>11</td>\n",
       "    </tr>\n",
       "    <tr>\n",
       "      <th>1</th>\n",
       "      <td>--I0aj8MUdU</td>\n",
       "      <td>E diela shqiptare - Ka nje mesazh per ty! (04 ...</td>\n",
       "      <td>Entertainment</td>\n",
       "      <td>139025</td>\n",
       "      <td>[E, diela, shqiptare, -, Ka, nje, mesazh, per,...</td>\n",
       "      <td>12</td>\n",
       "    </tr>\n",
       "    <tr>\n",
       "      <th>2</th>\n",
       "      <td>--MtKsH5oBY</td>\n",
       "      <td>صحفي بين سبورت يكشف تفاصيل و كواليس استقالة زي...</td>\n",
       "      <td>Sports</td>\n",
       "      <td>225445</td>\n",
       "      <td>[صحفي, بين, سبورت, يكشف, تفاصيل, و, كواليس, اس...</td>\n",
       "      <td>13</td>\n",
       "    </tr>\n",
       "    <tr>\n",
       "      <th>3</th>\n",
       "      <td>--moh3hSPpY</td>\n",
       "      <td>Te vreau langa mine! (02.01.2018) - Editie COM...</td>\n",
       "      <td>Entertainment</td>\n",
       "      <td>17050</td>\n",
       "      <td>[Te, vreau, langa, mine!, (02.01.2018), -, Edi...</td>\n",
       "      <td>8</td>\n",
       "    </tr>\n",
       "    <tr>\n",
       "      <th>4</th>\n",
       "      <td>--rE6D0_jAw</td>\n",
       "      <td>HÖR AUF DAS SCHLECHTE ZU SEHEN!</td>\n",
       "      <td>Entertainment</td>\n",
       "      <td>5406</td>\n",
       "      <td>[HÖR, AUF, DAS, SCHLECHTE, ZU, SEHEN!]</td>\n",
       "      <td>6</td>\n",
       "    </tr>\n",
       "  </tbody>\n",
       "</table>\n",
       "</div>"
      ],
      "text/plain": [
       "      video_id                                              title  \\\n",
       "0  --7vNbh4UNA  Responding to ALL The Outrage, Ridiculous H3H3...   \n",
       "1  --I0aj8MUdU  E diela shqiptare - Ka nje mesazh per ty! (04 ...   \n",
       "2  --MtKsH5oBY  صحفي بين سبورت يكشف تفاصيل و كواليس استقالة زي...   \n",
       "3  --moh3hSPpY  Te vreau langa mine! (02.01.2018) - Editie COM...   \n",
       "4  --rE6D0_jAw                    HÖR AUF DAS SCHLECHTE ZU SEHEN!   \n",
       "\n",
       "     category_name    views  \\\n",
       "0  News & Politics  1082647   \n",
       "1    Entertainment   139025   \n",
       "2           Sports   225445   \n",
       "3    Entertainment    17050   \n",
       "4    Entertainment     5406   \n",
       "\n",
       "                                    title_words_list  num_title_words  \n",
       "0  [Responding, to, ALL, The, Outrage,, Ridiculou...               11  \n",
       "1  [E, diela, shqiptare, -, Ka, nje, mesazh, per,...               12  \n",
       "2  [صحفي, بين, سبورت, يكشف, تفاصيل, و, كواليس, اس...               13  \n",
       "3  [Te, vreau, langa, mine!, (02.01.2018), -, Edi...                8  \n",
       "4             [HÖR, AUF, DAS, SCHLECHTE, ZU, SEHEN!]                6  "
      ]
     },
     "execution_count": 7,
     "metadata": {},
     "output_type": "execute_result"
    }
   ],
   "source": [
    "titles.head()"
   ]
  },
  {
   "cell_type": "code",
   "execution_count": 8,
   "metadata": {},
   "outputs": [
    {
     "data": {
      "text/plain": [
       "array([[<AxesSubplot:title={'center':'Autos & Vehicles'}>,\n",
       "        <AxesSubplot:title={'center':'Comedy'}>,\n",
       "        <AxesSubplot:title={'center':'Education'}>,\n",
       "        <AxesSubplot:title={'center':'Entertainment'}>],\n",
       "       [<AxesSubplot:title={'center':'Film & Animation'}>,\n",
       "        <AxesSubplot:title={'center':'Gaming'}>,\n",
       "        <AxesSubplot:title={'center':'Howto & Style'}>,\n",
       "        <AxesSubplot:title={'center':'Movies'}>],\n",
       "       [<AxesSubplot:title={'center':'Music'}>,\n",
       "        <AxesSubplot:title={'center':'News & Politics'}>,\n",
       "        <AxesSubplot:title={'center':'People & Blogs'}>,\n",
       "        <AxesSubplot:title={'center':'Pets & Animals'}>],\n",
       "       [<AxesSubplot:title={'center':'Science & Technology'}>,\n",
       "        <AxesSubplot:title={'center':'Shows'}>,\n",
       "        <AxesSubplot:title={'center':'Sports'}>,\n",
       "        <AxesSubplot:title={'center':'Trailers'}>],\n",
       "       [<AxesSubplot:title={'center':'Travel & Events'}>, <AxesSubplot:>,\n",
       "        <AxesSubplot:>, <AxesSubplot:>]], dtype=object)"
      ]
     },
     "execution_count": 8,
     "metadata": {},
     "output_type": "execute_result"
    },
    {
     "data": {
      "image/png": "[encoded data removed]",
      "text/plain": [
       "<Figure size 4320x1440 with 20 Axes>"
      ]
     },
     "metadata": {
      "needs_background": "light"
     },
     "output_type": "display_data"
    }
   ],
   "source": [
    "titles.hist(column='num_title_words', by='category_name', bins=50, figsize=(60,20))"
   ]
  },
  {
   "cell_type": "markdown",
   "metadata": {},
   "source": [
    "### Entfernung aller Titel die nicht english oder deutsch sind"
   ]
  },
  {
   "cell_type": "code",
   "execution_count": 42,
   "metadata": {},
   "outputs": [
    {
     "data": {
      "text/plain": [
       "'de'"
      ]
     },
     "execution_count": 42,
     "metadata": {},
     "output_type": "execute_result"
    }
   ],
   "source": [
    "detect(titles['title'].iloc[4])"
   ]
  },
  {
   "cell_type": "code",
   "execution_count": 47,
   "metadata": {},
   "outputs": [],
   "source": [
    "titles['titleAZaz'] = titles['title'].str.contains('[A-Za-z]', na=False)"
   ]
  },
  {
   "cell_type": "code",
   "execution_count": 48,
   "metadata": {},
   "outputs": [
    {
     "data": {
      "text/html": [
       "<div>\n",
       "<style scoped>\n",
       "    .dataframe tbody tr th:only-of-type {\n",
       "        vertical-align: middle;\n",
       "    }\n",
       "\n",
       "    .dataframe tbody tr th {\n",
       "        vertical-align: top;\n",
       "    }\n",
       "\n",
       "    .dataframe thead th {\n",
       "        text-align: right;\n",
       "    }\n",
       "</style>\n",
       "<table border=\"1\" class=\"dataframe\">\n",
       "  <thead>\n",
       "    <tr style=\"text-align: right;\">\n",
       "      <th></th>\n",
       "      <th>video_id</th>\n",
       "      <th>title</th>\n",
       "      <th>category_name</th>\n",
       "      <th>views</th>\n",
       "      <th>title_words_list</th>\n",
       "      <th>num_title_words</th>\n",
       "      <th>titleAZaz</th>\n",
       "    </tr>\n",
       "  </thead>\n",
       "  <tbody>\n",
       "    <tr>\n",
       "      <th>0</th>\n",
       "      <td>--7vNbh4UNA</td>\n",
       "      <td>Responding to ALL The Outrage, Ridiculous H3H3...</td>\n",
       "      <td>News &amp; Politics</td>\n",
       "      <td>1082647</td>\n",
       "      <td>[Responding, to, ALL, The, Outrage,, Ridiculou...</td>\n",
       "      <td>11</td>\n",
       "      <td>True</td>\n",
       "    </tr>\n",
       "    <tr>\n",
       "      <th>1</th>\n",
       "      <td>--I0aj8MUdU</td>\n",
       "      <td>E diela shqiptare - Ka nje mesazh per ty! (04 ...</td>\n",
       "      <td>Entertainment</td>\n",
       "      <td>139025</td>\n",
       "      <td>[E, diela, shqiptare, -, Ka, nje, mesazh, per,...</td>\n",
       "      <td>12</td>\n",
       "      <td>True</td>\n",
       "    </tr>\n",
       "    <tr>\n",
       "      <th>2</th>\n",
       "      <td>--MtKsH5oBY</td>\n",
       "      <td>صحفي بين سبورت يكشف تفاصيل و كواليس استقالة زي...</td>\n",
       "      <td>Sports</td>\n",
       "      <td>225445</td>\n",
       "      <td>[صحفي, بين, سبورت, يكشف, تفاصيل, و, كواليس, اس...</td>\n",
       "      <td>13</td>\n",
       "      <td>False</td>\n",
       "    </tr>\n",
       "    <tr>\n",
       "      <th>3</th>\n",
       "      <td>--moh3hSPpY</td>\n",
       "      <td>Te vreau langa mine! (02.01.2018) - Editie COM...</td>\n",
       "      <td>Entertainment</td>\n",
       "      <td>17050</td>\n",
       "      <td>[Te, vreau, langa, mine!, (02.01.2018), -, Edi...</td>\n",
       "      <td>8</td>\n",
       "      <td>True</td>\n",
       "    </tr>\n",
       "    <tr>\n",
       "      <th>4</th>\n",
       "      <td>--rE6D0_jAw</td>\n",
       "      <td>HÖR AUF DAS SCHLECHTE ZU SEHEN!</td>\n",
       "      <td>Entertainment</td>\n",
       "      <td>5406</td>\n",
       "      <td>[HÖR, AUF, DAS, SCHLECHTE, ZU, SEHEN!]</td>\n",
       "      <td>6</td>\n",
       "      <td>True</td>\n",
       "    </tr>\n",
       "  </tbody>\n",
       "</table>\n",
       "</div>"
      ],
      "text/plain": [
       "      video_id                                              title  \\\n",
       "0  --7vNbh4UNA  Responding to ALL The Outrage, Ridiculous H3H3...   \n",
       "1  --I0aj8MUdU  E diela shqiptare - Ka nje mesazh per ty! (04 ...   \n",
       "2  --MtKsH5oBY  صحفي بين سبورت يكشف تفاصيل و كواليس استقالة زي...   \n",
       "3  --moh3hSPpY  Te vreau langa mine! (02.01.2018) - Editie COM...   \n",
       "4  --rE6D0_jAw                    HÖR AUF DAS SCHLECHTE ZU SEHEN!   \n",
       "\n",
       "     category_name    views  \\\n",
       "0  News & Politics  1082647   \n",
       "1    Entertainment   139025   \n",
       "2           Sports   225445   \n",
       "3    Entertainment    17050   \n",
       "4    Entertainment     5406   \n",
       "\n",
       "                                    title_words_list  num_title_words  \\\n",
       "0  [Responding, to, ALL, The, Outrage,, Ridiculou...               11   \n",
       "1  [E, diela, shqiptare, -, Ka, nje, mesazh, per,...               12   \n",
       "2  [صحفي, بين, سبورت, يكشف, تفاصيل, و, كواليس, اس...               13   \n",
       "3  [Te, vreau, langa, mine!, (02.01.2018), -, Edi...                8   \n",
       "4             [HÖR, AUF, DAS, SCHLECHTE, ZU, SEHEN!]                6   \n",
       "\n",
       "   titleAZaz  \n",
       "0       True  \n",
       "1       True  \n",
       "2      False  \n",
       "3       True  \n",
       "4       True  "
      ]
     },
     "execution_count": 48,
     "metadata": {},
     "output_type": "execute_result"
    }
   ],
   "source": [
    "titles.head()"
   ]
  },
  {
   "cell_type": "code",
   "execution_count": 55,
   "metadata": {},
   "outputs": [
    {
     "data": {
      "text/html": [
       "<div>\n",
       "<style scoped>\n",
       "    .dataframe tbody tr th:only-of-type {\n",
       "        vertical-align: middle;\n",
       "    }\n",
       "\n",
       "    .dataframe tbody tr th {\n",
       "        vertical-align: top;\n",
       "    }\n",
       "\n",
       "    .dataframe thead th {\n",
       "        text-align: right;\n",
       "    }\n",
       "</style>\n",
       "<table border=\"1\" class=\"dataframe\">\n",
       "  <thead>\n",
       "    <tr style=\"text-align: right;\">\n",
       "      <th></th>\n",
       "      <th>video_id</th>\n",
       "      <th>title</th>\n",
       "      <th>category_name</th>\n",
       "      <th>views</th>\n",
       "      <th>title_words_list</th>\n",
       "      <th>num_title_words</th>\n",
       "      <th>titleAZaz</th>\n",
       "    </tr>\n",
       "  </thead>\n",
       "  <tbody>\n",
       "    <tr>\n",
       "      <th>0</th>\n",
       "      <td>--7vNbh4UNA</td>\n",
       "      <td>Responding to ALL The Outrage, Ridiculous H3H3...</td>\n",
       "      <td>News &amp; Politics</td>\n",
       "      <td>1082647</td>\n",
       "      <td>[Responding, to, ALL, The, Outrage,, Ridiculou...</td>\n",
       "      <td>11</td>\n",
       "      <td>True</td>\n",
       "    </tr>\n",
       "    <tr>\n",
       "      <th>1</th>\n",
       "      <td>--I0aj8MUdU</td>\n",
       "      <td>E diela shqiptare - Ka nje mesazh per ty! (04 ...</td>\n",
       "      <td>Entertainment</td>\n",
       "      <td>139025</td>\n",
       "      <td>[E, diela, shqiptare, -, Ka, nje, mesazh, per,...</td>\n",
       "      <td>12</td>\n",
       "      <td>True</td>\n",
       "    </tr>\n",
       "    <tr>\n",
       "      <th>3</th>\n",
       "      <td>--moh3hSPpY</td>\n",
       "      <td>Te vreau langa mine! (02.01.2018) - Editie COM...</td>\n",
       "      <td>Entertainment</td>\n",
       "      <td>17050</td>\n",
       "      <td>[Te, vreau, langa, mine!, (02.01.2018), -, Edi...</td>\n",
       "      <td>8</td>\n",
       "      <td>True</td>\n",
       "    </tr>\n",
       "    <tr>\n",
       "      <th>4</th>\n",
       "      <td>--rE6D0_jAw</td>\n",
       "      <td>HÖR AUF DAS SCHLECHTE ZU SEHEN!</td>\n",
       "      <td>Entertainment</td>\n",
       "      <td>5406</td>\n",
       "      <td>[HÖR, AUF, DAS, SCHLECHTE, ZU, SEHEN!]</td>\n",
       "      <td>6</td>\n",
       "      <td>True</td>\n",
       "    </tr>\n",
       "    <tr>\n",
       "      <th>5</th>\n",
       "      <td>--znlYcDEfI</td>\n",
       "      <td>Familja 6 anetareshe e Halit Fazliu nga Dumnic...</td>\n",
       "      <td>People &amp; Blogs</td>\n",
       "      <td>36512</td>\n",
       "      <td>[Familja, 6, anetareshe, e, Halit, Fazliu, nga...</td>\n",
       "      <td>16</td>\n",
       "      <td>True</td>\n",
       "    </tr>\n",
       "  </tbody>\n",
       "</table>\n",
       "</div>"
      ],
      "text/plain": [
       "      video_id                                              title  \\\n",
       "0  --7vNbh4UNA  Responding to ALL The Outrage, Ridiculous H3H3...   \n",
       "1  --I0aj8MUdU  E diela shqiptare - Ka nje mesazh per ty! (04 ...   \n",
       "3  --moh3hSPpY  Te vreau langa mine! (02.01.2018) - Editie COM...   \n",
       "4  --rE6D0_jAw                    HÖR AUF DAS SCHLECHTE ZU SEHEN!   \n",
       "5  --znlYcDEfI  Familja 6 anetareshe e Halit Fazliu nga Dumnic...   \n",
       "\n",
       "     category_name    views  \\\n",
       "0  News & Politics  1082647   \n",
       "1    Entertainment   139025   \n",
       "3    Entertainment    17050   \n",
       "4    Entertainment     5406   \n",
       "5   People & Blogs    36512   \n",
       "\n",
       "                                    title_words_list  num_title_words  \\\n",
       "0  [Responding, to, ALL, The, Outrage,, Ridiculou...               11   \n",
       "1  [E, diela, shqiptare, -, Ka, nje, mesazh, per,...               12   \n",
       "3  [Te, vreau, langa, mine!, (02.01.2018), -, Edi...                8   \n",
       "4             [HÖR, AUF, DAS, SCHLECHTE, ZU, SEHEN!]                6   \n",
       "5  [Familja, 6, anetareshe, e, Halit, Fazliu, nga...               16   \n",
       "\n",
       "   titleAZaz  \n",
       "0       True  \n",
       "1       True  \n",
       "3       True  \n",
       "4       True  \n",
       "5       True  "
      ]
     },
     "execution_count": 55,
     "metadata": {},
     "output_type": "execute_result"
    }
   ],
   "source": [
    "titles = titles[titles['titleAZaz'] == True]\n",
    "titles.head()"
   ]
  },
  {
   "cell_type": "code",
   "execution_count": 59,
   "metadata": {},
   "outputs": [
    {
     "name": "stderr",
     "output_type": "stream",
     "text": [
      "<ipython-input-59-4c257d0e4216>:1: FutureWarning: The default value of regex will change from True to False in a future version.\n",
      "  titles[\"title\"] = titles['title'].str.replace('[^\\w\\s]','')\n",
      "<ipython-input-59-4c257d0e4216>:2: FutureWarning: The default value of regex will change from True to False in a future version.\n",
      "  titles[\"title\"] = titles['title'].str.replace('[0-9]','')\n"
     ]
    },
    {
     "data": {
      "text/html": [
       "<div>\n",
       "<style scoped>\n",
       "    .dataframe tbody tr th:only-of-type {\n",
       "        vertical-align: middle;\n",
       "    }\n",
       "\n",
       "    .dataframe tbody tr th {\n",
       "        vertical-align: top;\n",
       "    }\n",
       "\n",
       "    .dataframe thead th {\n",
       "        text-align: right;\n",
       "    }\n",
       "</style>\n",
       "<table border=\"1\" class=\"dataframe\">\n",
       "  <thead>\n",
       "    <tr style=\"text-align: right;\">\n",
       "      <th></th>\n",
       "      <th>video_id</th>\n",
       "      <th>title</th>\n",
       "      <th>category_name</th>\n",
       "      <th>views</th>\n",
       "      <th>title_words_list</th>\n",
       "      <th>num_title_words</th>\n",
       "      <th>titleAZaz</th>\n",
       "    </tr>\n",
       "  </thead>\n",
       "  <tbody>\n",
       "    <tr>\n",
       "      <th>0</th>\n",
       "      <td>--7vNbh4UNA</td>\n",
       "      <td>Responding to ALL The Outrage Ridiculous HH Tw...</td>\n",
       "      <td>News &amp; Politics</td>\n",
       "      <td>1082647</td>\n",
       "      <td>[Responding, to, ALL, The, Outrage,, Ridiculou...</td>\n",
       "      <td>11</td>\n",
       "      <td>True</td>\n",
       "    </tr>\n",
       "    <tr>\n",
       "      <th>1</th>\n",
       "      <td>--I0aj8MUdU</td>\n",
       "      <td>E diela shqiptare  Ka nje mesazh per ty  shkurt</td>\n",
       "      <td>Entertainment</td>\n",
       "      <td>139025</td>\n",
       "      <td>[E, diela, shqiptare, -, Ka, nje, mesazh, per,...</td>\n",
       "      <td>12</td>\n",
       "      <td>True</td>\n",
       "    </tr>\n",
       "    <tr>\n",
       "      <th>3</th>\n",
       "      <td>--moh3hSPpY</td>\n",
       "      <td>Te vreau langa mine   Editie COMPLETA</td>\n",
       "      <td>Entertainment</td>\n",
       "      <td>17050</td>\n",
       "      <td>[Te, vreau, langa, mine!, (02.01.2018), -, Edi...</td>\n",
       "      <td>8</td>\n",
       "      <td>True</td>\n",
       "    </tr>\n",
       "    <tr>\n",
       "      <th>4</th>\n",
       "      <td>--rE6D0_jAw</td>\n",
       "      <td>HÖR AUF DAS SCHLECHTE ZU SEHEN</td>\n",
       "      <td>Entertainment</td>\n",
       "      <td>5406</td>\n",
       "      <td>[HÖR, AUF, DAS, SCHLECHTE, ZU, SEHEN!]</td>\n",
       "      <td>6</td>\n",
       "      <td>True</td>\n",
       "    </tr>\n",
       "    <tr>\n",
       "      <th>5</th>\n",
       "      <td>--znlYcDEfI</td>\n",
       "      <td>Familja  anetareshe e Halit Fazliu nga Dumnica...</td>\n",
       "      <td>People &amp; Blogs</td>\n",
       "      <td>36512</td>\n",
       "      <td>[Familja, 6, anetareshe, e, Halit, Fazliu, nga...</td>\n",
       "      <td>16</td>\n",
       "      <td>True</td>\n",
       "    </tr>\n",
       "  </tbody>\n",
       "</table>\n",
       "</div>"
      ],
      "text/plain": [
       "      video_id                                              title  \\\n",
       "0  --7vNbh4UNA  Responding to ALL The Outrage Ridiculous HH Tw...   \n",
       "1  --I0aj8MUdU   E diela shqiptare  Ka nje mesazh per ty  shkurt    \n",
       "3  --moh3hSPpY              Te vreau langa mine   Editie COMPLETA   \n",
       "4  --rE6D0_jAw                     HÖR AUF DAS SCHLECHTE ZU SEHEN   \n",
       "5  --znlYcDEfI  Familja  anetareshe e Halit Fazliu nga Dumnica...   \n",
       "\n",
       "     category_name    views  \\\n",
       "0  News & Politics  1082647   \n",
       "1    Entertainment   139025   \n",
       "3    Entertainment    17050   \n",
       "4    Entertainment     5406   \n",
       "5   People & Blogs    36512   \n",
       "\n",
       "                                    title_words_list  num_title_words  \\\n",
       "0  [Responding, to, ALL, The, Outrage,, Ridiculou...               11   \n",
       "1  [E, diela, shqiptare, -, Ka, nje, mesazh, per,...               12   \n",
       "3  [Te, vreau, langa, mine!, (02.01.2018), -, Edi...                8   \n",
       "4             [HÖR, AUF, DAS, SCHLECHTE, ZU, SEHEN!]                6   \n",
       "5  [Familja, 6, anetareshe, e, Halit, Fazliu, nga...               16   \n",
       "\n",
       "   titleAZaz  \n",
       "0       True  \n",
       "1       True  \n",
       "3       True  \n",
       "4       True  \n",
       "5       True  "
      ]
     },
     "execution_count": 59,
     "metadata": {},
     "output_type": "execute_result"
    }
   ],
   "source": [
    "titles[\"title\"] = titles['title'].str.replace('[^\\w\\s]','')\n",
    "titles[\"title\"] = titles['title'].str.replace('[0-9]','')\n",
    "titles.head()"
   ]
  },
  {
   "cell_type": "code",
   "execution_count": 75,
   "metadata": {},
   "outputs": [
    {
     "name": "stdout",
     "output_type": "stream",
     "text": [
      "<class 'pandas.core.frame.DataFrame'>\n",
      "Int64Index: 27541 entries, 0 to 29424\n",
      "Data columns (total 7 columns):\n",
      " #   Column            Non-Null Count  Dtype \n",
      "---  ------            --------------  ----- \n",
      " 0   video_id          27541 non-null  object\n",
      " 1   title             27541 non-null  object\n",
      " 2   category_name     27541 non-null  object\n",
      " 3   views             27541 non-null  int64 \n",
      " 4   title_words_list  27541 non-null  object\n",
      " 5   num_title_words   27541 non-null  int64 \n",
      " 6   titleAZaz         27541 non-null  bool  \n",
      "dtypes: bool(1), int64(2), object(4)\n",
      "memory usage: 1.5+ MB\n"
     ]
    }
   ],
   "source": [
    "titles['title'] = titles['title'].astype('str')\n",
    "titles.info()"
   ]
  },
  {
   "cell_type": "code",
   "execution_count": 79,
   "metadata": {},
   "outputs": [],
   "source": [
    "DetectorFactory.seed = 0\n",
    "\n",
    "def is_english_german(text):\n",
    "    try:\n",
    "        if detect(text) !='en' and detect(text) !='de':\n",
    "            return False\n",
    "    except LangDetectException:\n",
    "        return False\n",
    "    return True"
   ]
  },
  {
   "cell_type": "code",
   "execution_count": 81,
   "metadata": {},
   "outputs": [],
   "source": [
    "#titles['en_de']= titles.apply(is_english_german(titles['title']))\n",
    "    \n"
   ]
  },
  {
   "cell_type": "code",
   "execution_count": 83,
   "metadata": {},
   "outputs": [],
   "source": [
    "def f(x):\n",
    "    try:\n",
    "        return detect(x)\n",
    "    except:\n",
    "        return np.nan\n",
    "\n",
    "titles['new'] = titles.title.apply(f)\n",
    "\n",
    "titles1 = titles[titles.new.isna()]\n",
    "\n",
    "df_new = titles[titles.new.eq('en')]"
   ]
  },
  {
   "cell_type": "code",
   "execution_count": 84,
   "metadata": {},
   "outputs": [
    {
     "data": {
      "text/html": [
       "<div>\n",
       "<style scoped>\n",
       "    .dataframe tbody tr th:only-of-type {\n",
       "        vertical-align: middle;\n",
       "    }\n",
       "\n",
       "    .dataframe tbody tr th {\n",
       "        vertical-align: top;\n",
       "    }\n",
       "\n",
       "    .dataframe thead th {\n",
       "        text-align: right;\n",
       "    }\n",
       "</style>\n",
       "<table border=\"1\" class=\"dataframe\">\n",
       "  <thead>\n",
       "    <tr style=\"text-align: right;\">\n",
       "      <th></th>\n",
       "      <th>video_id</th>\n",
       "      <th>title</th>\n",
       "      <th>category_name</th>\n",
       "      <th>views</th>\n",
       "      <th>title_words_list</th>\n",
       "      <th>num_title_words</th>\n",
       "      <th>titleAZaz</th>\n",
       "      <th>new</th>\n",
       "    </tr>\n",
       "  </thead>\n",
       "  <tbody>\n",
       "    <tr>\n",
       "      <th>0</th>\n",
       "      <td>--7vNbh4UNA</td>\n",
       "      <td>Responding to ALL The Outrage Ridiculous HH Tw...</td>\n",
       "      <td>News &amp; Politics</td>\n",
       "      <td>1082647</td>\n",
       "      <td>[Responding, to, ALL, The, Outrage,, Ridiculou...</td>\n",
       "      <td>11</td>\n",
       "      <td>True</td>\n",
       "      <td>en</td>\n",
       "    </tr>\n",
       "    <tr>\n",
       "      <th>6</th>\n",
       "      <td>-0-KcJkKjqA</td>\n",
       "      <td>MrGamerPros Mercedes CLA Tuning by BBM</td>\n",
       "      <td>Autos &amp; Vehicles</td>\n",
       "      <td>81411</td>\n",
       "      <td>[MrGamerPros, Mercedes, CLA, Tuning, by, BBM]</td>\n",
       "      <td>6</td>\n",
       "      <td>True</td>\n",
       "      <td>en</td>\n",
       "    </tr>\n",
       "    <tr>\n",
       "      <th>10</th>\n",
       "      <td>-0NhqVYR4UY</td>\n",
       "      <td>President Donald Trump Governing Like Mean Gir...</td>\n",
       "      <td>News &amp; Politics</td>\n",
       "      <td>147706</td>\n",
       "      <td>[President, Donald, Trump, Governing, Like, 'M...</td>\n",
       "      <td>13</td>\n",
       "      <td>True</td>\n",
       "      <td>en</td>\n",
       "    </tr>\n",
       "    <tr>\n",
       "      <th>16</th>\n",
       "      <td>-18jiSget8s</td>\n",
       "      <td>Harald Schmidt Show   Harrys Mutter fährt Taxi...</td>\n",
       "      <td>Entertainment</td>\n",
       "      <td>2661</td>\n",
       "      <td>[Harald, Schmidt, Show, 866, -, Harrys, Mutter...</td>\n",
       "      <td>12</td>\n",
       "      <td>True</td>\n",
       "      <td>en</td>\n",
       "    </tr>\n",
       "    <tr>\n",
       "      <th>19</th>\n",
       "      <td>-1Hm41N0dUs</td>\n",
       "      <td>Cast of Avengers Infinity War Draws Their Char...</td>\n",
       "      <td>Comedy</td>\n",
       "      <td>1566539</td>\n",
       "      <td>[Cast, of, Avengers:, Infinity, War, Draws, Th...</td>\n",
       "      <td>8</td>\n",
       "      <td>True</td>\n",
       "      <td>en</td>\n",
       "    </tr>\n",
       "  </tbody>\n",
       "</table>\n",
       "</div>"
      ],
      "text/plain": [
       "       video_id                                              title  \\\n",
       "0   --7vNbh4UNA  Responding to ALL The Outrage Ridiculous HH Tw...   \n",
       "6   -0-KcJkKjqA             MrGamerPros Mercedes CLA Tuning by BBM   \n",
       "10  -0NhqVYR4UY  President Donald Trump Governing Like Mean Gir...   \n",
       "16  -18jiSget8s  Harald Schmidt Show   Harrys Mutter fährt Taxi...   \n",
       "19  -1Hm41N0dUs  Cast of Avengers Infinity War Draws Their Char...   \n",
       "\n",
       "       category_name    views  \\\n",
       "0    News & Politics  1082647   \n",
       "6   Autos & Vehicles    81411   \n",
       "10   News & Politics   147706   \n",
       "16     Entertainment     2661   \n",
       "19            Comedy  1566539   \n",
       "\n",
       "                                     title_words_list  num_title_words  \\\n",
       "0   [Responding, to, ALL, The, Outrage,, Ridiculou...               11   \n",
       "6       [MrGamerPros, Mercedes, CLA, Tuning, by, BBM]                6   \n",
       "10  [President, Donald, Trump, Governing, Like, 'M...               13   \n",
       "16  [Harald, Schmidt, Show, 866, -, Harrys, Mutter...               12   \n",
       "19  [Cast, of, Avengers:, Infinity, War, Draws, Th...                8   \n",
       "\n",
       "    titleAZaz new  \n",
       "0        True  en  \n",
       "6        True  en  \n",
       "10       True  en  \n",
       "16       True  en  \n",
       "19       True  en  "
      ]
     },
     "execution_count": 84,
     "metadata": {},
     "output_type": "execute_result"
    }
   ],
   "source": [
    "df_new.head()"
   ]
  },
  {
   "cell_type": "code",
   "execution_count": null,
   "metadata": {},
   "outputs": [],
   "source": []
  },
  {
   "cell_type": "code",
   "execution_count": null,
   "metadata": {},
   "outputs": [],
   "source": []
  },
  {
   "cell_type": "code",
   "execution_count": null,
   "metadata": {},
   "outputs": [],
   "source": []
  },
  {
   "cell_type": "code",
   "execution_count": null,
   "metadata": {},
   "outputs": [],
   "source": []
  },
  {
   "cell_type": "code",
   "execution_count": null,
   "metadata": {},
   "outputs": [],
   "source": []
  },
  {
   "cell_type": "code",
   "execution_count": null,
   "metadata": {},
   "outputs": [],
   "source": []
  },
  {
   "cell_type": "code",
   "execution_count": null,
   "metadata": {},
   "outputs": [],
   "source": []
  },
  {
   "cell_type": "code",
   "execution_count": 60,
   "metadata": {},
   "outputs": [],
   "source": [
    "#titles['Languagereveiw'] = titles['title'].apply(detect)"
   ]
  },
  {
   "cell_type": "code",
   "execution_count": null,
   "metadata": {},
   "outputs": [],
   "source": [
    "# foreignLangs={}\n",
    "# noLang={}\n",
    "\n",
    "# for key, val in titles['title'].items():\n",
    "#     try:\n",
    "#         if detect(val[0]) != 'en' and detect(val[0]) != 'de':\n",
    "#             foreignLangs[key] = val\n",
    "#             foreignLangs[key].append(detect(val[0]))\n",
    "#     except:\n",
    "#         noLang[key] = val"
   ]
  },
  {
   "cell_type": "code",
   "execution_count": null,
   "metadata": {},
   "outputs": [],
   "source": []
  },
  {
   "cell_type": "code",
   "execution_count": null,
   "metadata": {},
   "outputs": [],
   "source": []
  },
  {
   "cell_type": "code",
   "execution_count": null,
   "metadata": {},
   "outputs": [],
   "source": []
  },
  {
   "cell_type": "code",
   "execution_count": null,
   "metadata": {},
   "outputs": [],
   "source": []
  },
  {
   "cell_type": "code",
   "execution_count": null,
   "metadata": {},
   "outputs": [],
   "source": []
  },
  {
   "cell_type": "code",
   "execution_count": null,
   "metadata": {},
   "outputs": [],
   "source": []
  },
  {
   "cell_type": "markdown",
   "metadata": {},
   "source": [
    "### Tokenization, Entfernung Stoppwörter, Entfernung Zeichensetzung"
   ]
  },
  {
   "cell_type": "code",
   "execution_count": 12,
   "metadata": {},
   "outputs": [],
   "source": [
    "def text_process(mess):\n",
    "    nopunc = [char for char in mess if char not in string.punctuation]\n",
    "    \n",
    "    nopunc = ''.join(nopunc)\n",
    "    \n",
    "    return [word for word in nopunc.split() if word.lower() not in stopwords.words('german') and word.lower() not in stopwords.words('english')]"
   ]
  },
  {
   "cell_type": "code",
   "execution_count": 10,
   "metadata": {},
   "outputs": [
    {
     "data": {
      "text/plain": [
       "0    Responding to ALL The Outrage, Ridiculous H3H3...\n",
       "1    E diela shqiptare - Ka nje mesazh per ty! (04 ...\n",
       "2    صحفي بين سبورت يكشف تفاصيل و كواليس استقالة زي...\n",
       "3    Te vreau langa mine! (02.01.2018) - Editie COM...\n",
       "4                      HÖR AUF DAS SCHLECHTE ZU SEHEN!\n",
       "Name: title, dtype: object"
      ]
     },
     "execution_count": 10,
     "metadata": {},
     "output_type": "execute_result"
    }
   ],
   "source": [
    "titles['title'].head()"
   ]
  },
  {
   "cell_type": "code",
   "execution_count": 15,
   "metadata": {},
   "outputs": [
    {
     "data": {
      "text/plain": [
       "0        [Responding, Outrage, Ridiculous, H3H3, Tweet,...\n",
       "1        [E, diela, shqiptare, Ka, nje, mesazh, per, ty...\n",
       "2        [صحفي, بين, سبورت, يكشف, تفاصيل, و, كواليس, اس...\n",
       "3        [Te, vreau, langa, mine, 02012018, Editie, COM...\n",
       "4                                  [HÖR, SCHLECHTE, SEHEN]\n",
       "                               ...                        \n",
       "29420              [Bizim, Hikaye, 26, Bölüm, 3, Tanıtımı]\n",
       "29421                 [Fahrverbote, Diesel, Harald, Lesch]\n",
       "29422      [Folge, 2615, Akute, Verliebtheit, Rote, Rosen]\n",
       "29423    [4, heftige, SerienFehler, merkwürdiger, könnt...\n",
       "29424    [Tortë, shum, e, shpejt, lehtë, dhe, pak, përb...\n",
       "Name: title, Length: 29425, dtype: object"
      ]
     },
     "execution_count": 15,
     "metadata": {},
     "output_type": "execute_result"
    }
   ],
   "source": [
    "### Achtung! die Cell dauert lange bei Ausführung\n",
    "titles['title'].apply(text_process)"
   ]
  },
  {
   "cell_type": "code",
   "execution_count": 16,
   "metadata": {},
   "outputs": [],
   "source": [
    "from sklearn.feature_extraction.text import CountVectorizer"
   ]
  },
  {
   "cell_type": "code",
   "execution_count": 17,
   "metadata": {},
   "outputs": [],
   "source": [
    "### Achtung! die Cell dauert lange bei Ausführung\n",
    "bow_transformer = CountVectorizer(analyzer=text_process).fit(titles['title'])"
   ]
  },
  {
   "cell_type": "code",
   "execution_count": 19,
   "metadata": {},
   "outputs": [
    {
     "name": "stdout",
     "output_type": "stream",
     "text": [
      "60072\n"
     ]
    }
   ],
   "source": [
    "print(len(bow_transformer.vocabulary_))"
   ]
  },
  {
   "cell_type": "code",
   "execution_count": 20,
   "metadata": {},
   "outputs": [],
   "source": [
    "title1 = titles['title'][0]"
   ]
  },
  {
   "cell_type": "code",
   "execution_count": 21,
   "metadata": {},
   "outputs": [
    {
     "name": "stdout",
     "output_type": "stream",
     "text": [
      "  (0, 9423)\t1\n",
      "  (0, 16702)\t1\n",
      "  (0, 26885)\t1\n",
      "  (0, 29948)\t1\n",
      "  (0, 30105)\t1\n",
      "  (0, 36554)\t1\n",
      "(1, 60072)\n"
     ]
    }
   ],
   "source": [
    "bow1 = bow_transformer.transform([title1])\n",
    "print(bow1)\n",
    "print(bow1.shape)"
   ]
  },
  {
   "cell_type": "code",
   "execution_count": 22,
   "metadata": {},
   "outputs": [
    {
     "name": "stdout",
     "output_type": "stream",
     "text": [
      "Controversy\n"
     ]
    }
   ],
   "source": [
    "print(bow_transformer.get_feature_names()[9423])"
   ]
  },
  {
   "cell_type": "code",
   "execution_count": 23,
   "metadata": {},
   "outputs": [],
   "source": [
    "### Achtung! die Cell dauert lange bei Ausführung\n",
    "titles_bow = bow_transformer.transform(titles['title'])"
   ]
  },
  {
   "cell_type": "code",
   "execution_count": 24,
   "metadata": {},
   "outputs": [
    {
     "name": "stdout",
     "output_type": "stream",
     "text": [
      "(29425, 60072)\n"
     ]
    }
   ],
   "source": [
    "print(titles_bow.shape)"
   ]
  },
  {
   "cell_type": "code",
   "execution_count": 25,
   "metadata": {},
   "outputs": [
    {
     "name": "stdout",
     "output_type": "stream",
     "text": [
      "205069\n"
     ]
    }
   ],
   "source": [
    "print(titles_bow.nnz)"
   ]
  },
  {
   "cell_type": "code",
   "execution_count": 28,
   "metadata": {},
   "outputs": [],
   "source": [
    "sparsity = (100.0 * titles_bow.nnz / (titles_bow.shape[0]* titles_bow.shape[1]))"
   ]
  },
  {
   "cell_type": "code",
   "execution_count": 29,
   "metadata": {},
   "outputs": [
    {
     "name": "stdout",
     "output_type": "stream",
     "text": [
      "0.01160142804562025\n"
     ]
    }
   ],
   "source": [
    "print(sparsity) ### bedeutet wir haben nur ganz wenige Zahlen die nicht NULL sind!"
   ]
  },
  {
   "cell_type": "code",
   "execution_count": null,
   "metadata": {},
   "outputs": [],
   "source": []
  }
 ],
 "metadata": {
  "kernelspec": {
   "display_name": "Python 3",
   "language": "python",
   "name": "python3"
  },
  "language_info": {
   "codemirror_mode": {
    "name": "ipython",
    "version": 3
   },
   "file_extension": ".py",
   "mimetype": "text/x-python",
   "name": "python",
   "nbconvert_exporter": "python",
   "pygments_lexer": "ipython3",
   "version": "3.8.5"
  }
 },
 "nbformat": 4,
 "nbformat_minor": 4
}
